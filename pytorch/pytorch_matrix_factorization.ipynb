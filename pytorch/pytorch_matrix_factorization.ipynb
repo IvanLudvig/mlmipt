{
  "nbformat": 4,
  "nbformat_minor": 0,
  "metadata": {
    "accelerator": "GPU",
    "colab": {
      "name": "pytorch matrix factorization.ipynb",
      "provenance": [],
      "collapsed_sections": [],
      "include_colab_link": true
    },
    "kernelspec": {
      "display_name": "Python 3",
      "name": "python3"
    }
  },
  "cells": [
    {
      "cell_type": "markdown",
      "metadata": {
        "id": "view-in-github",
        "colab_type": "text"
      },
      "source": [
        "<a href=\"https://colab.research.google.com/github/IvanLudvig/mlmipt/blob/master/pytorch/pytorch_matrix_factorization.ipynb\" target=\"_parent\"><img src=\"https://colab.research.google.com/assets/colab-badge.svg\" alt=\"Open In Colab\"/></a>"
      ]
    },
    {
      "cell_type": "code",
      "metadata": {
        "colab": {
          "base_uri": "https://localhost:8080/"
        },
        "id": "RgKRbws6TBBA",
        "outputId": "df2cf0d7-7e48-48e6-d515-e83b01c7a56f"
      },
      "source": [
        "# all config/downloads to use fastai\n",
        "# !pip install pandas --upgrade\n",
        "#!pip install plotly --upgrade\n",
        "#!pip install fastai==0.7.0\n",
        "#!pip install torchtext==0.2.3\n",
        "!pip install torch\n",
        "#!pip install torchvision\n",
        "#!pip install Pillow>=4.1.1\n",
        "#!pip install image\n",
        "#!pip install matplotlib"
      ],
      "execution_count": 1,
      "outputs": [
        {
          "output_type": "stream",
          "text": [
            "Requirement already satisfied: torch in /usr/local/lib/python3.7/dist-packages (1.7.1+cu101)\n",
            "Requirement already satisfied: numpy in /usr/local/lib/python3.7/dist-packages (from torch) (1.19.5)\n",
            "Requirement already satisfied: typing-extensions in /usr/local/lib/python3.7/dist-packages (from torch) (3.7.4.3)\n"
          ],
          "name": "stdout"
        }
      ]
    },
    {
      "cell_type": "code",
      "metadata": {
        "id": "cJxqzk8tXTYt",
        "colab": {
          "base_uri": "https://localhost:8080/"
        },
        "outputId": "4a62331b-cbf0-4be5-c970-b3560e59eca8"
      },
      "source": [
        "from google.colab import drive\n",
        "drive.mount('/mnt')"
      ],
      "execution_count": 2,
      "outputs": [
        {
          "output_type": "stream",
          "text": [
            "Drive already mounted at /mnt; to attempt to forcibly remount, call drive.mount(\"/mnt\", force_remount=True).\n"
          ],
          "name": "stdout"
        }
      ]
    },
    {
      "cell_type": "code",
      "metadata": {
        "id": "mwX4CH-aYclb"
      },
      "source": [
        "import pandas as pd\n",
        "from sklearn.model_selection import train_test_split\n",
        "import numpy as np\n",
        "import matplotlib.pyplot as plt"
      ],
      "execution_count": 3,
      "outputs": []
    },
    {
      "cell_type": "code",
      "metadata": {
        "id": "GnS13iIyYgbS"
      },
      "source": [
        "data_pd = pd.read_csv('/mnt/MyDrive/ml/pytorch/ratings.csv')\n",
        "movies_pd = pd.read_csv('/mnt/MyDrive/ml/pytorch/movies.csv')\n",
        "data_pd = data_pd.sample(frac=1)"
      ],
      "execution_count": 4,
      "outputs": []
    },
    {
      "cell_type": "code",
      "metadata": {
        "colab": {
          "base_uri": "https://localhost:8080/",
          "height": 206
        },
        "id": "8MdEYUA7ovkh",
        "outputId": "7e14dab2-c17f-4d64-c74a-80e866daf0bf"
      },
      "source": [
        "data_pd.head()"
      ],
      "execution_count": 5,
      "outputs": [
        {
          "output_type": "execute_result",
          "data": {
            "text/html": [
              "<div>\n",
              "<style scoped>\n",
              "    .dataframe tbody tr th:only-of-type {\n",
              "        vertical-align: middle;\n",
              "    }\n",
              "\n",
              "    .dataframe tbody tr th {\n",
              "        vertical-align: top;\n",
              "    }\n",
              "\n",
              "    .dataframe thead th {\n",
              "        text-align: right;\n",
              "    }\n",
              "</style>\n",
              "<table border=\"1\" class=\"dataframe\">\n",
              "  <thead>\n",
              "    <tr style=\"text-align: right;\">\n",
              "      <th></th>\n",
              "      <th>userId</th>\n",
              "      <th>movieId</th>\n",
              "      <th>rating</th>\n",
              "      <th>timestamp</th>\n",
              "    </tr>\n",
              "  </thead>\n",
              "  <tbody>\n",
              "    <tr>\n",
              "      <th>69567</th>\n",
              "      <td>448</td>\n",
              "      <td>7046</td>\n",
              "      <td>3.0</td>\n",
              "      <td>1074423410</td>\n",
              "    </tr>\n",
              "    <tr>\n",
              "      <th>1503</th>\n",
              "      <td>15</td>\n",
              "      <td>5971</td>\n",
              "      <td>2.0</td>\n",
              "      <td>1510577982</td>\n",
              "    </tr>\n",
              "    <tr>\n",
              "      <th>70491</th>\n",
              "      <td>448</td>\n",
              "      <td>158872</td>\n",
              "      <td>4.0</td>\n",
              "      <td>1497034759</td>\n",
              "    </tr>\n",
              "    <tr>\n",
              "      <th>29222</th>\n",
              "      <td>200</td>\n",
              "      <td>44761</td>\n",
              "      <td>5.0</td>\n",
              "      <td>1229878699</td>\n",
              "    </tr>\n",
              "    <tr>\n",
              "      <th>55844</th>\n",
              "      <td>368</td>\n",
              "      <td>3844</td>\n",
              "      <td>3.0</td>\n",
              "      <td>971273801</td>\n",
              "    </tr>\n",
              "  </tbody>\n",
              "</table>\n",
              "</div>"
            ],
            "text/plain": [
              "       userId  movieId  rating   timestamp\n",
              "69567     448     7046     3.0  1074423410\n",
              "1503       15     5971     2.0  1510577982\n",
              "70491     448   158872     4.0  1497034759\n",
              "29222     200    44761     5.0  1229878699\n",
              "55844     368     3844     3.0   971273801"
            ]
          },
          "metadata": {
            "tags": []
          },
          "execution_count": 5
        }
      ]
    },
    {
      "cell_type": "code",
      "metadata": {
        "id": "07dBCA5_hyL5"
      },
      "source": [
        "u_temp = list(data_pd.userId.unique())\n",
        "u_temp.sort()\n",
        "\n",
        "m_temp = list(data_pd.movieId.unique())\n",
        "m_temp.sort()"
      ],
      "execution_count": 6,
      "outputs": []
    },
    {
      "cell_type": "code",
      "metadata": {
        "id": "eCX_KoefjiAS"
      },
      "source": [
        "movie_dict = dict(list(zip(m_temp,range(len(m_temp)))))\n",
        "user_dict = dict(list(zip(u_temp,range(len(u_temp)))))"
      ],
      "execution_count": 7,
      "outputs": []
    },
    {
      "cell_type": "code",
      "metadata": {
        "id": "ObuwAPkDZ_Fe"
      },
      "source": [
        "data_pd['userId'] = data_pd['userId'].map(lambda x: user_dict[x])\n",
        "data_pd['movieId'] = data_pd['movieId'].map(lambda x: movie_dict[x])"
      ],
      "execution_count": 8,
      "outputs": []
    },
    {
      "cell_type": "code",
      "metadata": {
        "id": "k5h407gkZvyA"
      },
      "source": [
        "X = data_pd[['userId','movieId']].values\n",
        "y = data_pd[['rating']].values"
      ],
      "execution_count": 9,
      "outputs": []
    },
    {
      "cell_type": "code",
      "metadata": {
        "colab": {
          "base_uri": "https://localhost:8080/"
        },
        "id": "rhoN-MgPPyow",
        "outputId": "deb82cc4-500b-4be5-ad66-130f4af9b21e"
      },
      "source": [
        "films = np.transpose(X)[1]\n",
        "\n",
        "counts = np.bincount(films)\n",
        "print(np.argmax(counts))"
      ],
      "execution_count": 10,
      "outputs": [
        {
          "output_type": "stream",
          "text": [
            "314\n"
          ],
          "name": "stdout"
        }
      ]
    },
    {
      "cell_type": "code",
      "metadata": {
        "id": "na_mFKUInRp1"
      },
      "source": [
        "y = y.astype(np.float)"
      ],
      "execution_count": 11,
      "outputs": []
    },
    {
      "cell_type": "code",
      "metadata": {
        "id": "ajDDMIY0lSMb",
        "colab": {
          "base_uri": "https://localhost:8080/"
        },
        "outputId": "81da16f7-d2d9-4932-f3a2-0151f77ee5f6"
      },
      "source": [
        "type(np.float(1.))"
      ],
      "execution_count": 12,
      "outputs": [
        {
          "output_type": "execute_result",
          "data": {
            "text/plain": [
              "float"
            ]
          },
          "metadata": {
            "tags": []
          },
          "execution_count": 12
        }
      ]
    },
    {
      "cell_type": "code",
      "metadata": {
        "id": "8wU9d0QZZseE"
      },
      "source": [
        "x_train, x_test, y_train, y_test = train_test_split(X, y, test_size=0.2, random_state=42)"
      ],
      "execution_count": 13,
      "outputs": []
    },
    {
      "cell_type": "code",
      "metadata": {
        "id": "OVqfwxArTH_k"
      },
      "source": [
        "class RatingDataset():\n",
        "  def __init__(self, train, label):\n",
        "    self.feature_= train\n",
        "    self.label_= label\n",
        "  def __len__(self):\n",
        "    #return size of dataset\n",
        "    return len(self.feature_)\n",
        "  def __getitem__(self, idx):\n",
        "    return torch.tensor(self.feature_[idx]),torch.tensor(self.label_[idx])"
      ],
      "execution_count": 14,
      "outputs": []
    },
    {
      "cell_type": "code",
      "metadata": {
        "id": "vJ45RoUpaji6"
      },
      "source": [
        "from torch.utils.data import DataLoader\n",
        "import torch\n",
        "from tqdm import tqdm"
      ],
      "execution_count": 15,
      "outputs": []
    },
    {
      "cell_type": "code",
      "metadata": {
        "id": "qTYTBi2oTybM"
      },
      "source": [
        "bs = 5000\n",
        "train_dataloader = DataLoader(RatingDataset(x_train, y_train), batch_size=bs, shuffle=True)\n",
        "test_dataloader = DataLoader(RatingDataset(x_test, y_test), batch_size=bs)"
      ],
      "execution_count": 16,
      "outputs": []
    },
    {
      "cell_type": "code",
      "metadata": {
        "id": "Ibe_sZaqTye6"
      },
      "source": [
        "class MatrixFactorization(torch.nn.Module):\n",
        "    \n",
        "    def __init__(self, n_users, n_items, n_factors=20):\n",
        "        super().__init__()\n",
        "        self.user_factors = torch.nn.Embedding(n_users, n_factors)\n",
        "        self.item_factors = torch.nn.Embedding(n_items, n_factors)\n",
        "        self.user_biases = torch.nn.Embedding(n_users, 1)\n",
        "        self.item_biases = torch.nn.Embedding(n_items,1)\n",
        "        torch.nn.init.xavier_uniform_(self.user_factors.weight)\n",
        "        torch.nn.init.xavier_uniform_(self.item_factors.weight)\n",
        "        self.user_biases.weight.data.fill_(0.)\n",
        "        self.item_biases.weight.data.fill_(0.)\n",
        "        \n",
        "    def forward(self, user, item):\n",
        "        pred = self.user_biases(user) + self.item_biases(item)\n",
        "        pred += (self.user_factors(user) * self.item_factors(item)).sum(1, keepdim=True)\n",
        "        #pred = pred.float()\n",
        "        pred.to('cuda')\n",
        "        return pred.squeeze()"
      ],
      "execution_count": 17,
      "outputs": []
    },
    {
      "cell_type": "code",
      "metadata": {
        "id": "iAaMTj_La9sl"
      },
      "source": [
        "n, m =  len(data_pd.userId.unique()), len(data_pd.movieId.unique())"
      ],
      "execution_count": 18,
      "outputs": []
    },
    {
      "cell_type": "code",
      "metadata": {
        "id": "ZwfzQF1TTyiI"
      },
      "source": [
        "nfactor = 300\n",
        "model = MatrixFactorization(n, m, n_factors=nfactor)"
      ],
      "execution_count": 19,
      "outputs": []
    },
    {
      "cell_type": "code",
      "metadata": {
        "id": "BSp-CtZVbXiS"
      },
      "source": [
        "dev = torch.device(\"cuda\") if torch.cuda.is_available() else torch.device(\"cpu\")\n",
        "# dev = torch.device(\"cpu\")"
      ],
      "execution_count": 20,
      "outputs": []
    },
    {
      "cell_type": "code",
      "metadata": {
        "id": "oQdt3LMabZOT",
        "colab": {
          "base_uri": "https://localhost:8080/"
        },
        "outputId": "2ec01af1-aae3-4188-9147-3b59aba1cfdc"
      },
      "source": [
        "model.parameters"
      ],
      "execution_count": 21,
      "outputs": [
        {
          "output_type": "execute_result",
          "data": {
            "text/plain": [
              "<bound method Module.parameters of MatrixFactorization(\n",
              "  (user_factors): Embedding(610, 300)\n",
              "  (item_factors): Embedding(9724, 300)\n",
              "  (user_biases): Embedding(610, 1)\n",
              "  (item_biases): Embedding(9724, 1)\n",
              ")>"
            ]
          },
          "metadata": {
            "tags": []
          },
          "execution_count": 21
        }
      ]
    },
    {
      "cell_type": "code",
      "metadata": {
        "id": "8cLD_k_zhPp4",
        "colab": {
          "base_uri": "https://localhost:8080/"
        },
        "outputId": "9e24b4af-e2a0-4c82-d84a-c0763c396785"
      },
      "source": [
        "dev"
      ],
      "execution_count": 22,
      "outputs": [
        {
          "output_type": "execute_result",
          "data": {
            "text/plain": [
              "device(type='cuda')"
            ]
          },
          "metadata": {
            "tags": []
          },
          "execution_count": 22
        }
      ]
    },
    {
      "cell_type": "code",
      "metadata": {
        "id": "vpKn6O-chTs4",
        "colab": {
          "base_uri": "https://localhost:8080/"
        },
        "outputId": "627fb12f-a3a6-478b-d541-b6932e2d02a7"
      },
      "source": [
        "loss_func = torch.nn.MSELoss()\n",
        "model.to(dev)"
      ],
      "execution_count": 23,
      "outputs": [
        {
          "output_type": "execute_result",
          "data": {
            "text/plain": [
              "MatrixFactorization(\n",
              "  (user_factors): Embedding(610, 300)\n",
              "  (item_factors): Embedding(9724, 300)\n",
              "  (user_biases): Embedding(610, 1)\n",
              "  (item_biases): Embedding(9724, 1)\n",
              ")"
            ]
          },
          "metadata": {
            "tags": []
          },
          "execution_count": 23
        }
      ]
    },
    {
      "cell_type": "code",
      "metadata": {
        "id": "dx1Zyej08C2z",
        "colab": {
          "base_uri": "https://localhost:8080/"
        },
        "outputId": "d37912df-216c-4af8-a350-e98112a522ce"
      },
      "source": [
        "model.parameters\n",
        "model.double()"
      ],
      "execution_count": 24,
      "outputs": [
        {
          "output_type": "execute_result",
          "data": {
            "text/plain": [
              "MatrixFactorization(\n",
              "  (user_factors): Embedding(610, 300)\n",
              "  (item_factors): Embedding(9724, 300)\n",
              "  (user_biases): Embedding(610, 1)\n",
              "  (item_biases): Embedding(9724, 1)\n",
              ")"
            ]
          },
          "metadata": {
            "tags": []
          },
          "execution_count": 24
        }
      ]
    },
    {
      "cell_type": "code",
      "metadata": {
        "id": "0zGp8094bQTa"
      },
      "source": [
        "epoches = 1000\n",
        "train_loss_data = []\n",
        "test_loss_data = []\n",
        "for epoch in range(0, epoches):\n",
        "    pbar = tqdm(enumerate(train_dataloader), total=len(train_dataloader))  # progress bar\n",
        "    count = 0\n",
        "    cum_loss = 0.\n",
        "    for i,( train_batch, label_batch) in pbar:\n",
        "        count = 1 + i\n",
        "        # Predict and calculate loss for user factor and bias\n",
        "        optimizer = torch.optim.SGD([model.user_biases.weight,model.user_factors.weight], lr=0.01, weight_decay=1e-5) # learning rate\n",
        "        prediction = model(train_batch[:,0].to(dev), train_batch[:,1].to(dev))\n",
        "        \n",
        "        loss = loss_func(prediction, label_batch.to(dev))    \n",
        "        # Backpropagate\n",
        "        loss.backward()\n",
        "        \n",
        "        # Update the parameters\n",
        "        optimizer.step()\n",
        "        optimizer.zero_grad()\n",
        "        \n",
        "        #predict and calculate loss for item factor and bias\n",
        "        optimizer = torch.optim.SGD([model.item_biases.weight,model.item_factors.weight], lr=0.01, weight_decay=1e-5) # learning rate\n",
        "        prediction = model(train_batch[:,0].to(dev), train_batch[:,1].to(dev))\n",
        "        loss = loss_func(prediction, label_batch.to(dev))\n",
        "        # Backpropagate\n",
        "        loss.backward()\n",
        "        \n",
        "        # Update the parameters\n",
        "        optimizer.step()\n",
        "        optimizer.zero_grad()\n",
        "        \n",
        "        cum_loss += loss.item()\n",
        "        pbar.set_description('training loss at {} batch {}: {}'.format(epoch,i,loss.item()))\n",
        "    train_loss = cum_loss/count\n",
        "    pbar = tqdm(enumerate(test_dataloader), total=len(test_dataloader))  # progress bar\n",
        "    cum_loss =0.\n",
        "    count = 0\n",
        "    for i,( test_batch, label_batch) in pbar:\n",
        "        count = 1 + i\n",
        "        with torch.no_grad():\n",
        "            prediction = model(test_batch[:,0].to(dev), test_batch[:,1].to(dev))\n",
        "            loss = loss_func(prediction, label_batch.to(dev))\n",
        "            cum_loss += loss.item()\n",
        "            pbar.set_description('test loss at {} batch {}: {}'.format(epoch,i,loss.item()))\n",
        "    test_loss = cum_loss/count\n",
        "    train_loss_data.append(train_loss)\n",
        "    test_loss_data.append(test_loss)\n",
        "\n",
        "    diff = np.mean(np.diff(test_loss_data)[:-10])\n",
        "    print('avg training loss: ', round(train_loss, 3), ' avg test loss: ',round(test_loss, 3), ' diff: ', round(diff, 3))\n",
        "    if (np.mean(np.diff(test_loss_data)[:-10]) >= -0.02):\n",
        "      break"
      ],
      "execution_count": null,
      "outputs": []
    },
    {
      "cell_type": "code",
      "metadata": {
        "id": "WBgKycPaTtwC",
        "colab": {
          "base_uri": "https://localhost:8080/",
          "height": 296
        },
        "outputId": "7e206db3-51f8-4c87-9e6a-3ba219694609"
      },
      "source": [
        "plt.plot(train_loss_data, label='train')\n",
        "plt.plot(test_loss_data, label='test')\n",
        "plt.xlabel('epoch')\n",
        "plt.ylabel('loss')\n",
        "plt.legend()"
      ],
      "execution_count": 26,
      "outputs": [
        {
          "output_type": "execute_result",
          "data": {
            "text/plain": [
              "<matplotlib.legend.Legend at 0x7f74cac628d0>"
            ]
          },
          "metadata": {
            "tags": []
          },
          "execution_count": 0
        },
        {
          "output_type": "display_data",
          "data": {
            "image/png": "[encoded data removed]",
            "text/plain": [
              "<Figure size 432x288 with 1 Axes>"
            ]
          },
          "metadata": {
            "tags": [],
            "needs_background": "light"
          }
        }
      ]
    },
    {
      "cell_type": "code",
      "metadata": {
        "id": "q28ntGTPmebS"
      },
      "source": [
        "np_items = model.item_factors.weight.data.cpu().numpy()\n",
        "np_users = model.user_factors.weight.data.cpu().numpy()\n",
        "np_item_bias = model.item_biases.weight.data.cpu().numpy()\n",
        "np_user_bias = model.user_biases.weight.data.cpu().numpy()"
      ],
      "execution_count": 27,
      "outputs": []
    },
    {
      "cell_type": "code",
      "metadata": {
        "id": "P-lRRkYpnBff"
      },
      "source": [
        "def cosine_similarity(a, b):\n",
        "  return np.dot(a, b)/(np.linalg.norm(a)*np.linalg.norm(b))"
      ],
      "execution_count": 28,
      "outputs": []
    },
    {
      "cell_type": "code",
      "metadata": {
        "id": "mLQmEyScnSwu"
      },
      "source": [
        "movie_id = movie_dict[2571] # the matrix\n",
        "sim_dict = {}\n",
        "for m, id in zip(np_items, movie_dict.keys()):\n",
        "  sim_dict[id] = cosine_similarity(np_items[movie_id], m)"
      ],
      "execution_count": 29,
      "outputs": []
    },
    {
      "cell_type": "code",
      "metadata": {
        "id": "SQRm0OAjaucT"
      },
      "source": [
        "sim_pd = pd.DataFrame(sim_dict.items(), columns=['movieId', 'similarity'])\n",
        "sim_pd = sim_pd.merge(movies_pd, on='movieId')"
      ],
      "execution_count": 30,
      "outputs": []
    },
    {
      "cell_type": "markdown",
      "metadata": {
        "id": "_JsAqqhMkPMH"
      },
      "source": [
        "Топ 30 фильмов, наиболее похожих на фильм Матрица.\n",
        "Недостаток подхода в поиске похожих фильмов по косинусной мере в том, что не учитывается bias"
      ]
    },
    {
      "cell_type": "code",
      "metadata": {
        "colab": {
          "base_uri": "https://localhost:8080/",
          "height": 990
        },
        "id": "hJngu1KQbqGL",
        "outputId": "a1700d35-df3d-4a4c-93f0-d3416ac2f66e"
      },
      "source": [
        "sim_pd.sort_values('similarity', ascending=False)[0:30][['title', 'genres', 'similarity']]"
      ],
      "execution_count": 31,
      "outputs": [
        {
          "output_type": "execute_result",
          "data": {
            "text/html": [
              "<div>\n",
              "<style scoped>\n",
              "    .dataframe tbody tr th:only-of-type {\n",
              "        vertical-align: middle;\n",
              "    }\n",
              "\n",
              "    .dataframe tbody tr th {\n",
              "        vertical-align: top;\n",
              "    }\n",
              "\n",
              "    .dataframe thead th {\n",
              "        text-align: right;\n",
              "    }\n",
              "</style>\n",
              "<table border=\"1\" class=\"dataframe\">\n",
              "  <thead>\n",
              "    <tr style=\"text-align: right;\">\n",
              "      <th></th>\n",
              "      <th>title</th>\n",
              "      <th>genres</th>\n",
              "      <th>similarity</th>\n",
              "    </tr>\n",
              "  </thead>\n",
              "  <tbody>\n",
              "    <tr>\n",
              "      <th>1938</th>\n",
              "      <td>Matrix, The (1999)</td>\n",
              "      <td>Action|Sci-Fi|Thriller</td>\n",
              "      <td>1.000000</td>\n",
              "    </tr>\n",
              "    <tr>\n",
              "      <th>81</th>\n",
              "      <td>Mary Reilly (1996)</td>\n",
              "      <td>Drama|Horror|Thriller</td>\n",
              "      <td>0.208192</td>\n",
              "    </tr>\n",
              "    <tr>\n",
              "      <th>563</th>\n",
              "      <td>Alphaville (Alphaville, une étrange aventure d...</td>\n",
              "      <td>Drama|Mystery|Romance|Sci-Fi|Thriller</td>\n",
              "      <td>0.202180</td>\n",
              "    </tr>\n",
              "    <tr>\n",
              "      <th>4366</th>\n",
              "      <td>Siam Sunset (1999)</td>\n",
              "      <td>Comedy</td>\n",
              "      <td>0.194249</td>\n",
              "    </tr>\n",
              "    <tr>\n",
              "      <th>1152</th>\n",
              "      <td>Children of the Revolution (1996)</td>\n",
              "      <td>Comedy</td>\n",
              "      <td>0.184851</td>\n",
              "    </tr>\n",
              "    <tr>\n",
              "      <th>637</th>\n",
              "      <td>Kazaam (1996)</td>\n",
              "      <td>Children|Comedy|Fantasy</td>\n",
              "      <td>0.181895</td>\n",
              "    </tr>\n",
              "    <tr>\n",
              "      <th>2546</th>\n",
              "      <td>Bear, The (Ours, L') (1988)</td>\n",
              "      <td>Adventure|Children|Drama</td>\n",
              "      <td>0.181517</td>\n",
              "    </tr>\n",
              "    <tr>\n",
              "      <th>5777</th>\n",
              "      <td>Howl's Moving Castle (Hauru no ugoku shiro) (2...</td>\n",
              "      <td>Adventure|Animation|Fantasy|Romance</td>\n",
              "      <td>0.179897</td>\n",
              "    </tr>\n",
              "    <tr>\n",
              "      <th>3326</th>\n",
              "      <td>Great Outdoors, The (1988)</td>\n",
              "      <td>Comedy</td>\n",
              "      <td>0.179537</td>\n",
              "    </tr>\n",
              "    <tr>\n",
              "      <th>3633</th>\n",
              "      <td>Lord of the Rings: The Fellowship of the Ring,...</td>\n",
              "      <td>Adventure|Fantasy</td>\n",
              "      <td>0.179319</td>\n",
              "    </tr>\n",
              "    <tr>\n",
              "      <th>6485</th>\n",
              "      <td>Legend of Sleepy Hollow, The (1980)</td>\n",
              "      <td>Comedy|Fantasy|Horror</td>\n",
              "      <td>0.178182</td>\n",
              "    </tr>\n",
              "    <tr>\n",
              "      <th>1741</th>\n",
              "      <td>Velvet Goldmine (1998)</td>\n",
              "      <td>Drama</td>\n",
              "      <td>0.177979</td>\n",
              "    </tr>\n",
              "    <tr>\n",
              "      <th>787</th>\n",
              "      <td>Pete's Dragon (1977)</td>\n",
              "      <td>Adventure|Animation|Children|Musical</td>\n",
              "      <td>0.177507</td>\n",
              "    </tr>\n",
              "    <tr>\n",
              "      <th>4987</th>\n",
              "      <td>Cat People (1942)</td>\n",
              "      <td>Drama|Horror|Romance|Thriller</td>\n",
              "      <td>0.176873</td>\n",
              "    </tr>\n",
              "    <tr>\n",
              "      <th>2025</th>\n",
              "      <td>Zone 39 (1997)</td>\n",
              "      <td>Sci-Fi</td>\n",
              "      <td>0.175469</td>\n",
              "    </tr>\n",
              "    <tr>\n",
              "      <th>186</th>\n",
              "      <td>Boys on the Side (1995)</td>\n",
              "      <td>Comedy|Drama</td>\n",
              "      <td>0.174473</td>\n",
              "    </tr>\n",
              "    <tr>\n",
              "      <th>9477</th>\n",
              "      <td>A Plasticine Crow (1981)</td>\n",
              "      <td>Animation</td>\n",
              "      <td>0.173520</td>\n",
              "    </tr>\n",
              "    <tr>\n",
              "      <th>8546</th>\n",
              "      <td>Stalingrad (2013)</td>\n",
              "      <td>Action|Drama|War|IMAX</td>\n",
              "      <td>0.173371</td>\n",
              "    </tr>\n",
              "    <tr>\n",
              "      <th>4804</th>\n",
              "      <td>Aileen: Life and Death of a Serial Killer (2003)</td>\n",
              "      <td>Documentary</td>\n",
              "      <td>0.172684</td>\n",
              "    </tr>\n",
              "    <tr>\n",
              "      <th>3873</th>\n",
              "      <td>Lovely &amp; Amazing (2001)</td>\n",
              "      <td>Comedy|Drama|Romance</td>\n",
              "      <td>0.171381</td>\n",
              "    </tr>\n",
              "    <tr>\n",
              "      <th>3637</th>\n",
              "      <td>Party, The (1968)</td>\n",
              "      <td>Comedy</td>\n",
              "      <td>0.170857</td>\n",
              "    </tr>\n",
              "    <tr>\n",
              "      <th>1476</th>\n",
              "      <td>Lethal Weapon 3 (1992)</td>\n",
              "      <td>Action|Comedy|Crime|Drama</td>\n",
              "      <td>0.170670</td>\n",
              "    </tr>\n",
              "    <tr>\n",
              "      <th>2087</th>\n",
              "      <td>Head On (1998)</td>\n",
              "      <td>Drama</td>\n",
              "      <td>0.167257</td>\n",
              "    </tr>\n",
              "    <tr>\n",
              "      <th>5875</th>\n",
              "      <td>Common Thread, A (a.k.a. Sequins) (Brodeuses) ...</td>\n",
              "      <td>Drama|Romance</td>\n",
              "      <td>0.166532</td>\n",
              "    </tr>\n",
              "    <tr>\n",
              "      <th>8700</th>\n",
              "      <td>Hedgehog in the Fog (1975)</td>\n",
              "      <td>Animation</td>\n",
              "      <td>0.163607</td>\n",
              "    </tr>\n",
              "    <tr>\n",
              "      <th>5719</th>\n",
              "      <td>Million Dollar Baby (2004)</td>\n",
              "      <td>Drama</td>\n",
              "      <td>0.163503</td>\n",
              "    </tr>\n",
              "    <tr>\n",
              "      <th>4095</th>\n",
              "      <td>Talk to Her (Hable con Ella) (2002)</td>\n",
              "      <td>Drama|Romance</td>\n",
              "      <td>0.161805</td>\n",
              "    </tr>\n",
              "    <tr>\n",
              "      <th>9238</th>\n",
              "      <td>Everybody Wants Some (2016)</td>\n",
              "      <td>Comedy</td>\n",
              "      <td>0.161744</td>\n",
              "    </tr>\n",
              "    <tr>\n",
              "      <th>2520</th>\n",
              "      <td>On the Beach (1959)</td>\n",
              "      <td>Drama</td>\n",
              "      <td>0.161402</td>\n",
              "    </tr>\n",
              "    <tr>\n",
              "      <th>9467</th>\n",
              "      <td>Alien: Covenant (2017)</td>\n",
              "      <td>Action|Horror|Sci-Fi|Thriller</td>\n",
              "      <td>0.160991</td>\n",
              "    </tr>\n",
              "  </tbody>\n",
              "</table>\n",
              "</div>"
            ],
            "text/plain": [
              "                                                  title  ... similarity\n",
              "1938                                 Matrix, The (1999)  ...   1.000000\n",
              "81                                   Mary Reilly (1996)  ...   0.208192\n",
              "563   Alphaville (Alphaville, une étrange aventure d...  ...   0.202180\n",
              "4366                                 Siam Sunset (1999)  ...   0.194249\n",
              "1152                  Children of the Revolution (1996)  ...   0.184851\n",
              "637                                       Kazaam (1996)  ...   0.181895\n",
              "2546                        Bear, The (Ours, L') (1988)  ...   0.181517\n",
              "5777  Howl's Moving Castle (Hauru no ugoku shiro) (2...  ...   0.179897\n",
              "3326                         Great Outdoors, The (1988)  ...   0.179537\n",
              "3633  Lord of the Rings: The Fellowship of the Ring,...  ...   0.179319\n",
              "6485                Legend of Sleepy Hollow, The (1980)  ...   0.178182\n",
              "1741                             Velvet Goldmine (1998)  ...   0.177979\n",
              "787                                Pete's Dragon (1977)  ...   0.177507\n",
              "4987                                  Cat People (1942)  ...   0.176873\n",
              "2025                                     Zone 39 (1997)  ...   0.175469\n",
              "186                             Boys on the Side (1995)  ...   0.174473\n",
              "9477                           A Plasticine Crow (1981)  ...   0.173520\n",
              "8546                                  Stalingrad (2013)  ...   0.173371\n",
              "4804   Aileen: Life and Death of a Serial Killer (2003)  ...   0.172684\n",
              "3873                            Lovely & Amazing (2001)  ...   0.171381\n",
              "3637                                  Party, The (1968)  ...   0.170857\n",
              "1476                             Lethal Weapon 3 (1992)  ...   0.170670\n",
              "2087                                     Head On (1998)  ...   0.167257\n",
              "5875  Common Thread, A (a.k.a. Sequins) (Brodeuses) ...  ...   0.166532\n",
              "8700                         Hedgehog in the Fog (1975)  ...   0.163607\n",
              "5719                         Million Dollar Baby (2004)  ...   0.163503\n",
              "4095                Talk to Her (Hable con Ella) (2002)  ...   0.161805\n",
              "9238                        Everybody Wants Some (2016)  ...   0.161744\n",
              "2520                                On the Beach (1959)  ...   0.161402\n",
              "9467                             Alien: Covenant (2017)  ...   0.160991\n",
              "\n",
              "[30 rows x 3 columns]"
            ]
          },
          "metadata": {
            "tags": []
          },
          "execution_count": 31
        }
      ]
    },
    {
      "cell_type": "code",
      "metadata": {
        "colab": {
          "base_uri": "https://localhost:8080/"
        },
        "id": "dkEe_c14KRC_",
        "outputId": "3d497a16-d877-44d7-802a-b569fdcd01b6"
      },
      "source": [
        "userId = 88\n",
        "user_np = np_users[userId]\n",
        "watched = np.transpose(data_pd[data_pd['userId'] == user_dict[42]][['movieId']].to_numpy())[0]\n",
        "print(f\"user {userId} watched {len(watched)} films\")"
      ],
      "execution_count": 46,
      "outputs": [
        {
          "output_type": "stream",
          "text": [
            "user 88 watched 440 films\n"
          ],
          "name": "stdout"
        }
      ]
    },
    {
      "cell_type": "code",
      "metadata": {
        "id": "Xqqh70Ztkss9"
      },
      "source": [
        "ratings_pred = np_items.dot(np_users[userId])"
      ],
      "execution_count": 47,
      "outputs": []
    },
    {
      "cell_type": "code",
      "metadata": {
        "id": "7JisGvuRPx1k"
      },
      "source": [
        "ratings_dict = {}\n",
        "user_bias = np_user_bias[userId][0]\n",
        "for pred, item_bias, id in zip(ratings_pred, np_item_bias, movie_dict.keys()):\n",
        "  if not id in watched:\n",
        "    ratings_dict[id] = pred + item_bias[0] + user_bias"
      ],
      "execution_count": 54,
      "outputs": []
    },
    {
      "cell_type": "code",
      "metadata": {
        "id": "vLJOdilaP0Ks"
      },
      "source": [
        "ratings_pd = pd.DataFrame(ratings_dict.items(), columns=['movieId', 'rating'])\n",
        "ratings_pd = ratings_pd.merge(movies_pd, on='movieId')"
      ],
      "execution_count": 55,
      "outputs": []
    },
    {
      "cell_type": "markdown",
      "metadata": {
        "id": "mmqO-Rxdkzbg"
      },
      "source": [
        "Топ 30 фильмов для пользователя"
      ]
    },
    {
      "cell_type": "code",
      "metadata": {
        "colab": {
          "base_uri": "https://localhost:8080/",
          "height": 990
        },
        "id": "lmPn1QjUP3Q7",
        "outputId": "029189ee-7c64-4643-ed2f-3101d277192e"
      },
      "source": [
        "ratings_pd.sort_values('rating', ascending=False)[0:30][['title', 'genres', 'rating']]"
      ],
      "execution_count": 56,
      "outputs": [
        {
          "output_type": "execute_result",
          "data": {
            "text/html": [
              "<div>\n",
              "<style scoped>\n",
              "    .dataframe tbody tr th:only-of-type {\n",
              "        vertical-align: middle;\n",
              "    }\n",
              "\n",
              "    .dataframe tbody tr th {\n",
              "        vertical-align: top;\n",
              "    }\n",
              "\n",
              "    .dataframe thead th {\n",
              "        text-align: right;\n",
              "    }\n",
              "</style>\n",
              "<table border=\"1\" class=\"dataframe\">\n",
              "  <thead>\n",
              "    <tr style=\"text-align: right;\">\n",
              "      <th></th>\n",
              "      <th>title</th>\n",
              "      <th>genres</th>\n",
              "      <th>rating</th>\n",
              "    </tr>\n",
              "  </thead>\n",
              "  <tbody>\n",
              "    <tr>\n",
              "      <th>259</th>\n",
              "      <td>Forrest Gump (1994)</td>\n",
              "      <td>Comedy|Drama|Romance|War</td>\n",
              "      <td>4.607818</td>\n",
              "    </tr>\n",
              "    <tr>\n",
              "      <th>218</th>\n",
              "      <td>Pulp Fiction (1994)</td>\n",
              "      <td>Comedy|Crime|Drama|Thriller</td>\n",
              "      <td>4.561965</td>\n",
              "    </tr>\n",
              "    <tr>\n",
              "      <th>1662</th>\n",
              "      <td>Matrix, The (1999)</td>\n",
              "      <td>Action|Sci-Fi|Thriller</td>\n",
              "      <td>4.489964</td>\n",
              "    </tr>\n",
              "    <tr>\n",
              "      <th>418</th>\n",
              "      <td>Silence of the Lambs, The (1991)</td>\n",
              "      <td>Crime|Horror|Thriller</td>\n",
              "      <td>4.482793</td>\n",
              "    </tr>\n",
              "    <tr>\n",
              "      <th>83</th>\n",
              "      <td>Braveheart (1995)</td>\n",
              "      <td>Action|Drama|War</td>\n",
              "      <td>4.317499</td>\n",
              "    </tr>\n",
              "    <tr>\n",
              "      <th>374</th>\n",
              "      <td>Schindler's List (1993)</td>\n",
              "      <td>Drama|War</td>\n",
              "      <td>4.262557</td>\n",
              "    </tr>\n",
              "    <tr>\n",
              "      <th>189</th>\n",
              "      <td>Star Wars: Episode IV - A New Hope (1977)</td>\n",
              "      <td>Action|Adventure|Sci-Fi</td>\n",
              "      <td>4.252091</td>\n",
              "    </tr>\n",
              "    <tr>\n",
              "      <th>102</th>\n",
              "      <td>Apollo 13 (1995)</td>\n",
              "      <td>Adventure|Drama|IMAX</td>\n",
              "      <td>4.210613</td>\n",
              "    </tr>\n",
              "    <tr>\n",
              "      <th>1931</th>\n",
              "      <td>Fight Club (1999)</td>\n",
              "      <td>Action|Crime|Drama|Thriller</td>\n",
              "      <td>4.183253</td>\n",
              "    </tr>\n",
              "    <tr>\n",
              "      <th>416</th>\n",
              "      <td>Terminator 2: Judgment Day (1991)</td>\n",
              "      <td>Action|Sci-Fi</td>\n",
              "      <td>4.178107</td>\n",
              "    </tr>\n",
              "    <tr>\n",
              "      <th>325</th>\n",
              "      <td>Fugitive, The (1993)</td>\n",
              "      <td>Thriller</td>\n",
              "      <td>4.137612</td>\n",
              "    </tr>\n",
              "    <tr>\n",
              "      <th>514</th>\n",
              "      <td>Independence Day (a.k.a. ID4) (1996)</td>\n",
              "      <td>Action|Adventure|Sci-Fi|Thriller</td>\n",
              "      <td>4.132194</td>\n",
              "    </tr>\n",
              "    <tr>\n",
              "      <th>36</th>\n",
              "      <td>Usual Suspects, The (1995)</td>\n",
              "      <td>Crime|Mystery|Thriller</td>\n",
              "      <td>4.125221</td>\n",
              "    </tr>\n",
              "    <tr>\n",
              "      <th>0</th>\n",
              "      <td>Toy Story (1995)</td>\n",
              "      <td>Adventure|Animation|Children|Comedy|Fantasy</td>\n",
              "      <td>4.110385</td>\n",
              "    </tr>\n",
              "    <tr>\n",
              "      <th>1855</th>\n",
              "      <td>American Beauty (1999)</td>\n",
              "      <td>Drama|Romance</td>\n",
              "      <td>4.089114</td>\n",
              "    </tr>\n",
              "    <tr>\n",
              "      <th>33</th>\n",
              "      <td>Seven (a.k.a. Se7en) (1995)</td>\n",
              "      <td>Mystery|Thriller</td>\n",
              "      <td>4.075827</td>\n",
              "    </tr>\n",
              "    <tr>\n",
              "      <th>3796</th>\n",
              "      <td>Lord of the Rings: The Two Towers, The (2002)</td>\n",
              "      <td>Adventure|Fantasy</td>\n",
              "      <td>4.066360</td>\n",
              "    </tr>\n",
              "    <tr>\n",
              "      <th>3298</th>\n",
              "      <td>Lord of the Rings: The Fellowship of the Ring,...</td>\n",
              "      <td>Adventure|Fantasy</td>\n",
              "      <td>4.035219</td>\n",
              "    </tr>\n",
              "    <tr>\n",
              "      <th>549</th>\n",
              "      <td>Godfather, The (1972)</td>\n",
              "      <td>Crime|Drama</td>\n",
              "      <td>4.033789</td>\n",
              "    </tr>\n",
              "    <tr>\n",
              "      <th>1278</th>\n",
              "      <td>Saving Private Ryan (1998)</td>\n",
              "      <td>Action|Drama|War</td>\n",
              "      <td>4.024506</td>\n",
              "    </tr>\n",
              "    <tr>\n",
              "      <th>756</th>\n",
              "      <td>Star Wars: Episode V - The Empire Strikes Back...</td>\n",
              "      <td>Action|Adventure|Sci-Fi</td>\n",
              "      <td>4.015843</td>\n",
              "    </tr>\n",
              "    <tr>\n",
              "      <th>415</th>\n",
              "      <td>Aladdin (1992)</td>\n",
              "      <td>Adventure|Animation|Children|Comedy|Musical</td>\n",
              "      <td>3.995362</td>\n",
              "    </tr>\n",
              "    <tr>\n",
              "      <th>4456</th>\n",
              "      <td>Lord of the Rings: The Return of the King, The...</td>\n",
              "      <td>Action|Adventure|Drama|Fantasy</td>\n",
              "      <td>3.992009</td>\n",
              "    </tr>\n",
              "    <tr>\n",
              "      <th>428</th>\n",
              "      <td>Fargo (1996)</td>\n",
              "      <td>Comedy|Crime|Drama|Thriller</td>\n",
              "      <td>3.989613</td>\n",
              "    </tr>\n",
              "    <tr>\n",
              "      <th>23</th>\n",
              "      <td>Twelve Monkeys (a.k.a. 12 Monkeys) (1995)</td>\n",
              "      <td>Mystery|Sci-Fi|Thriller</td>\n",
              "      <td>3.937555</td>\n",
              "    </tr>\n",
              "    <tr>\n",
              "      <th>810</th>\n",
              "      <td>Back to the Future (1985)</td>\n",
              "      <td>Adventure|Comedy|Sci-Fi</td>\n",
              "      <td>3.928280</td>\n",
              "    </tr>\n",
              "    <tr>\n",
              "      <th>2335</th>\n",
              "      <td>Gladiator (2000)</td>\n",
              "      <td>Action|Adventure|Drama</td>\n",
              "      <td>3.919989</td>\n",
              "    </tr>\n",
              "    <tr>\n",
              "      <th>417</th>\n",
              "      <td>Dances with Wolves (1990)</td>\n",
              "      <td>Adventure|Drama|Western</td>\n",
              "      <td>3.918279</td>\n",
              "    </tr>\n",
              "    <tr>\n",
              "      <th>7020</th>\n",
              "      <td>Inception (2010)</td>\n",
              "      <td>Action|Crime|Drama|Mystery|Sci-Fi|Thriller|IMAX</td>\n",
              "      <td>3.914122</td>\n",
              "    </tr>\n",
              "    <tr>\n",
              "      <th>996</th>\n",
              "      <td>Men in Black (a.k.a. MIB) (1997)</td>\n",
              "      <td>Action|Comedy|Sci-Fi</td>\n",
              "      <td>3.913937</td>\n",
              "    </tr>\n",
              "  </tbody>\n",
              "</table>\n",
              "</div>"
            ],
            "text/plain": [
              "                                                  title  ...    rating\n",
              "259                                 Forrest Gump (1994)  ...  4.607818\n",
              "218                                 Pulp Fiction (1994)  ...  4.561965\n",
              "1662                                 Matrix, The (1999)  ...  4.489964\n",
              "418                    Silence of the Lambs, The (1991)  ...  4.482793\n",
              "83                                    Braveheart (1995)  ...  4.317499\n",
              "374                             Schindler's List (1993)  ...  4.262557\n",
              "189           Star Wars: Episode IV - A New Hope (1977)  ...  4.252091\n",
              "102                                    Apollo 13 (1995)  ...  4.210613\n",
              "1931                                  Fight Club (1999)  ...  4.183253\n",
              "416                   Terminator 2: Judgment Day (1991)  ...  4.178107\n",
              "325                                Fugitive, The (1993)  ...  4.137612\n",
              "514                Independence Day (a.k.a. ID4) (1996)  ...  4.132194\n",
              "36                           Usual Suspects, The (1995)  ...  4.125221\n",
              "0                                      Toy Story (1995)  ...  4.110385\n",
              "1855                             American Beauty (1999)  ...  4.089114\n",
              "33                          Seven (a.k.a. Se7en) (1995)  ...  4.075827\n",
              "3796      Lord of the Rings: The Two Towers, The (2002)  ...  4.066360\n",
              "3298  Lord of the Rings: The Fellowship of the Ring,...  ...  4.035219\n",
              "549                               Godfather, The (1972)  ...  4.033789\n",
              "1278                         Saving Private Ryan (1998)  ...  4.024506\n",
              "756   Star Wars: Episode V - The Empire Strikes Back...  ...  4.015843\n",
              "415                                      Aladdin (1992)  ...  3.995362\n",
              "4456  Lord of the Rings: The Return of the King, The...  ...  3.992009\n",
              "428                                        Fargo (1996)  ...  3.989613\n",
              "23            Twelve Monkeys (a.k.a. 12 Monkeys) (1995)  ...  3.937555\n",
              "810                           Back to the Future (1985)  ...  3.928280\n",
              "2335                                   Gladiator (2000)  ...  3.919989\n",
              "417                           Dances with Wolves (1990)  ...  3.918279\n",
              "7020                                   Inception (2010)  ...  3.914122\n",
              "996                    Men in Black (a.k.a. MIB) (1997)  ...  3.913937\n",
              "\n",
              "[30 rows x 3 columns]"
            ]
          },
          "metadata": {
            "tags": []
          },
          "execution_count": 56
        }
      ]
    }
  ]
}