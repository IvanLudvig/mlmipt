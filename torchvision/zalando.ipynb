{
  "nbformat": 4,
  "nbformat_minor": 0,
  "metadata": {
    "colab": {
      "name": "zalando.ipynb",
      "provenance": [],
      "collapsed_sections": [],
      "mount_file_id": "1FSyDzpufef64lIjYPNCBz8csy5KaYV2j",
      "authorship_tag": "ABX9TyMtFcVPgRS5huVvY1q6Vsvh",
      "include_colab_link": true
    },
    "kernelspec": {
      "name": "python3",
      "display_name": "Python 3"
    },
    "language_info": {
      "name": "python"
    },
    "accelerator": "GPU",
    "widgets": {
      "application/vnd.jupyter.widget-state+json": {
        "9c44434095e34e209631bc2e55566075": {
          "model_module": "@jupyter-widgets/controls",
          "model_name": "HBoxModel",
          "state": {
            "_view_name": "HBoxView",
            "_dom_classes": [],
            "_model_name": "HBoxModel",
            "_view_module": "@jupyter-widgets/controls",
            "_model_module_version": "1.5.0",
            "_view_count": null,
            "_view_module_version": "1.5.0",
            "box_style": "",
            "layout": "IPY_MODEL_045ab20ed4dd4c7c82d23c14fbdba4a2",
            "_model_module": "@jupyter-widgets/controls",
            "children": [
              "IPY_MODEL_a6c33207a8b5464b9c5682263ec81c60",
              "IPY_MODEL_8469698ebcaa45dbb90323011cf6249a"
            ]
          }
        },
        "045ab20ed4dd4c7c82d23c14fbdba4a2": {
          "model_module": "@jupyter-widgets/base",
          "model_name": "LayoutModel",
          "state": {
            "_view_name": "LayoutView",
            "grid_template_rows": null,
            "right": null,
            "justify_content": null,
            "_view_module": "@jupyter-widgets/base",
            "overflow": null,
            "_model_module_version": "1.2.0",
            "_view_count": null,
            "flex_flow": null,
            "width": null,
            "min_width": null,
            "border": null,
            "align_items": null,
            "bottom": null,
            "_model_module": "@jupyter-widgets/base",
            "top": null,
            "grid_column": null,
            "overflow_y": null,
            "overflow_x": null,
            "grid_auto_flow": null,
            "grid_area": null,
            "grid_template_columns": null,
            "flex": null,
            "_model_name": "LayoutModel",
            "justify_items": null,
            "grid_row": null,
            "max_height": null,
            "align_content": null,
            "visibility": null,
            "align_self": null,
            "height": null,
            "min_height": null,
            "padding": null,
            "grid_auto_rows": null,
            "grid_gap": null,
            "max_width": null,
            "order": null,
            "_view_module_version": "1.2.0",
            "grid_template_areas": null,
            "object_position": null,
            "object_fit": null,
            "grid_auto_columns": null,
            "margin": null,
            "display": null,
            "left": null
          }
        },
        "a6c33207a8b5464b9c5682263ec81c60": {
          "model_module": "@jupyter-widgets/controls",
          "model_name": "FloatProgressModel",
          "state": {
            "_view_name": "ProgressView",
            "style": "IPY_MODEL_7cb404e236044e0789aa6490e3db32b1",
            "_dom_classes": [],
            "description": "100%",
            "_model_name": "FloatProgressModel",
            "bar_style": "success",
            "max": 100441675,
            "_view_module": "@jupyter-widgets/controls",
            "_model_module_version": "1.5.0",
            "value": 100441675,
            "_view_count": null,
            "_view_module_version": "1.5.0",
            "orientation": "horizontal",
            "min": 0,
            "description_tooltip": null,
            "_model_module": "@jupyter-widgets/controls",
            "layout": "IPY_MODEL_fc7729c90603438ab39cbeda57231725"
          }
        },
        "8469698ebcaa45dbb90323011cf6249a": {
          "model_module": "@jupyter-widgets/controls",
          "model_name": "HTMLModel",
          "state": {
            "_view_name": "HTMLView",
            "style": "IPY_MODEL_f9d4d24feace4da4b9b38c976227d8c7",
            "_dom_classes": [],
            "description": "",
            "_model_name": "HTMLModel",
            "placeholder": "​",
            "_view_module": "@jupyter-widgets/controls",
            "_model_module_version": "1.5.0",
            "value": " 95.8M/95.8M [02:26&lt;00:00, 687kB/s]",
            "_view_count": null,
            "_view_module_version": "1.5.0",
            "description_tooltip": null,
            "_model_module": "@jupyter-widgets/controls",
            "layout": "IPY_MODEL_45ad6e5c0d89407a878a3372bec398c3"
          }
        },
        "7cb404e236044e0789aa6490e3db32b1": {
          "model_module": "@jupyter-widgets/controls",
          "model_name": "ProgressStyleModel",
          "state": {
            "_view_name": "StyleView",
            "_model_name": "ProgressStyleModel",
            "description_width": "initial",
            "_view_module": "@jupyter-widgets/base",
            "_model_module_version": "1.5.0",
            "_view_count": null,
            "_view_module_version": "1.2.0",
            "bar_color": null,
            "_model_module": "@jupyter-widgets/controls"
          }
        },
        "fc7729c90603438ab39cbeda57231725": {
          "model_module": "@jupyter-widgets/base",
          "model_name": "LayoutModel",
          "state": {
            "_view_name": "LayoutView",
            "grid_template_rows": null,
            "right": null,
            "justify_content": null,
            "_view_module": "@jupyter-widgets/base",
            "overflow": null,
            "_model_module_version": "1.2.0",
            "_view_count": null,
            "flex_flow": null,
            "width": null,
            "min_width": null,
            "border": null,
            "align_items": null,
            "bottom": null,
            "_model_module": "@jupyter-widgets/base",
            "top": null,
            "grid_column": null,
            "overflow_y": null,
            "overflow_x": null,
            "grid_auto_flow": null,
            "grid_area": null,
            "grid_template_columns": null,
            "flex": null,
            "_model_name": "LayoutModel",
            "justify_items": null,
            "grid_row": null,
            "max_height": null,
            "align_content": null,
            "visibility": null,
            "align_self": null,
            "height": null,
            "min_height": null,
            "padding": null,
            "grid_auto_rows": null,
            "grid_gap": null,
            "max_width": null,
            "order": null,
            "_view_module_version": "1.2.0",
            "grid_template_areas": null,
            "object_position": null,
            "object_fit": null,
            "grid_auto_columns": null,
            "margin": null,
            "display": null,
            "left": null
          }
        },
        "f9d4d24feace4da4b9b38c976227d8c7": {
          "model_module": "@jupyter-widgets/controls",
          "model_name": "DescriptionStyleModel",
          "state": {
            "_view_name": "StyleView",
            "_model_name": "DescriptionStyleModel",
            "description_width": "",
            "_view_module": "@jupyter-widgets/base",
            "_model_module_version": "1.5.0",
            "_view_count": null,
            "_view_module_version": "1.2.0",
            "_model_module": "@jupyter-widgets/controls"
          }
        },
        "45ad6e5c0d89407a878a3372bec398c3": {
          "model_module": "@jupyter-widgets/base",
          "model_name": "LayoutModel",
          "state": {
            "_view_name": "LayoutView",
            "grid_template_rows": null,
            "right": null,
            "justify_content": null,
            "_view_module": "@jupyter-widgets/base",
            "overflow": null,
            "_model_module_version": "1.2.0",
            "_view_count": null,
            "flex_flow": null,
            "width": null,
            "min_width": null,
            "border": null,
            "align_items": null,
            "bottom": null,
            "_model_module": "@jupyter-widgets/base",
            "top": null,
            "grid_column": null,
            "overflow_y": null,
            "overflow_x": null,
            "grid_auto_flow": null,
            "grid_area": null,
            "grid_template_columns": null,
            "flex": null,
            "_model_name": "LayoutModel",
            "justify_items": null,
            "grid_row": null,
            "max_height": null,
            "align_content": null,
            "visibility": null,
            "align_self": null,
            "height": null,
            "min_height": null,
            "padding": null,
            "grid_auto_rows": null,
            "grid_gap": null,
            "max_width": null,
            "order": null,
            "_view_module_version": "1.2.0",
            "grid_template_areas": null,
            "object_position": null,
            "object_fit": null,
            "grid_auto_columns": null,
            "margin": null,
            "display": null,
            "left": null
          }
        }
      }
    }
  },
  "cells": [
    {
      "cell_type": "markdown",
      "metadata": {
        "id": "view-in-github",
        "colab_type": "text"
      },
      "source": [
        "<a href=\"https://colab.research.google.com/github/IvanLudvig/mlmipt/blob/master/torchvision/zalando.ipynb\" target=\"_parent\"><img src=\"https://colab.research.google.com/assets/colab-badge.svg\" alt=\"Open In Colab\"/></a>"
      ]
    },
    {
      "cell_type": "code",
      "metadata": {
        "id": "Im9h87WWZxXS"
      },
      "source": [
        "import pandas as pd\n",
        "import numpy as np\n",
        "from matplotlib import pyplot as plt\n",
        "from sklearn.feature_extraction.text import TfidfVectorizer\n",
        "from sklearn.model_selection import train_test_split\n",
        "import nltk\n",
        "from nltk.corpus import stopwords\n",
        "import torch.nn as nn\n",
        "import torch\n",
        "from torchvision import datasets, models, transforms\n",
        "from PIL import Image\n",
        "import torchvision\n",
        "import time\n",
        "import os\n",
        "from torch.utils.data import Dataset\n",
        "from sklearn.preprocessing import MultiLabelBinarizer\n",
        "import sklearn.metrics as metrics\n",
        "import random\n",
        "from IPython.core.display import display, HTML\n",
        "from sklearn.metrics.pairwise import cosine_similarity"
      ],
      "execution_count": 1,
      "outputs": []
    },
    {
      "cell_type": "code",
      "metadata": {
        "colab": {
          "base_uri": "https://localhost:8080/"
        },
        "id": "pA1o2-_qeaq7",
        "outputId": "826d3434-1e68-41ce-e53d-5d4bd8d4b336"
      },
      "source": [
        "nltk.download('stopwords')\n",
        "nltk.download('punkt')\n",
        "nltk.download('averaged_perceptron_tagger')\n",
        "nltk.download('brown')"
      ],
      "execution_count": 2,
      "outputs": [
        {
          "output_type": "stream",
          "text": [
            "[nltk_data] Downloading package stopwords to /root/nltk_data...\n",
            "[nltk_data]   Unzipping corpora/stopwords.zip.\n",
            "[nltk_data] Downloading package punkt to /root/nltk_data...\n",
            "[nltk_data]   Unzipping tokenizers/punkt.zip.\n",
            "[nltk_data] Downloading package averaged_perceptron_tagger to\n",
            "[nltk_data]     /root/nltk_data...\n",
            "[nltk_data]   Unzipping taggers/averaged_perceptron_tagger.zip.\n",
            "[nltk_data] Downloading package brown to /root/nltk_data...\n",
            "[nltk_data]   Unzipping corpora/brown.zip.\n"
          ],
          "name": "stdout"
        },
        {
          "output_type": "execute_result",
          "data": {
            "text/plain": [
              "True"
            ]
          },
          "metadata": {
            "tags": []
          },
          "execution_count": 2
        }
      ]
    },
    {
      "cell_type": "code",
      "metadata": {
        "id": "8M12Y6og5xM_"
      },
      "source": [
        "df = pd.read_csv('/content/drive/MyDrive/ml/zalando_english_1.csv')"
      ],
      "execution_count": 3,
      "outputs": []
    },
    {
      "cell_type": "markdown",
      "metadata": {
        "id": "rf_tZjtKyCgv"
      },
      "source": [
        "1. Extracting tags (nouns and adjs)"
      ]
    },
    {
      "cell_type": "code",
      "metadata": {
        "id": "WpeHSPHurs1M"
      },
      "source": [
        "def extract_nouns(text):\n",
        "  tokenized = nltk.word_tokenize(text)\n",
        "  return [word.lower() for (word, pos) in nltk.pos_tag(tokenized) if pos[:2] == 'NN']\n",
        "\n",
        "def extract_adjs(text):\n",
        "  tokenized = nltk.word_tokenize(text)\n",
        "  return [word.lower() for (word, pos) in nltk.pos_tag(tokenized) if pos[:2] == 'JJ']\n",
        "\n",
        "df['nouns'] = df['descriptions'].apply(lambda v: extract_nouns(v))\n",
        "df['adjs'] = df['descriptions'].apply(lambda v: extract_adjs(v))"
      ],
      "execution_count": 4,
      "outputs": []
    },
    {
      "cell_type": "code",
      "metadata": {
        "id": "GO124VGHhgUS",
        "colab": {
          "base_uri": "https://localhost:8080/",
          "height": 206
        },
        "outputId": "2cc31bcf-bd5c-47dd-96f5-6c2f9db3f6c0"
      },
      "source": [
        "df.head()"
      ],
      "execution_count": 5,
      "outputs": [
        {
          "output_type": "execute_result",
          "data": {
            "text/html": [
              "<div>\n",
              "<style scoped>\n",
              "    .dataframe tbody tr th:only-of-type {\n",
              "        vertical-align: middle;\n",
              "    }\n",
              "\n",
              "    .dataframe tbody tr th {\n",
              "        vertical-align: top;\n",
              "    }\n",
              "\n",
              "    .dataframe thead th {\n",
              "        text-align: right;\n",
              "    }\n",
              "</style>\n",
              "<table border=\"1\" class=\"dataframe\">\n",
              "  <thead>\n",
              "    <tr style=\"text-align: right;\">\n",
              "      <th></th>\n",
              "      <th>Unnamed: 0</th>\n",
              "      <th>level_0</th>\n",
              "      <th>index</th>\n",
              "      <th>url</th>\n",
              "      <th>descriptions</th>\n",
              "      <th>split</th>\n",
              "      <th>nouns</th>\n",
              "      <th>adjs</th>\n",
              "    </tr>\n",
              "  </thead>\n",
              "  <tbody>\n",
              "    <tr>\n",
              "      <th>0</th>\n",
              "      <td>0</td>\n",
              "      <td>0</td>\n",
              "      <td>0</td>\n",
              "      <td>https://i2.ztat.net/large/Y0/32/1C/00/UE/11/Y0...</td>\n",
              "      <td>short, sexy, summer, sexy, party, yellow dress...</td>\n",
              "      <td>7</td>\n",
              "      <td>[summer, sexy, party, dress, sleeves, yellow, ...</td>\n",
              "      <td>[short, sexy, yellow, shoulder-free, fabric, y...</td>\n",
              "    </tr>\n",
              "    <tr>\n",
              "      <th>1</th>\n",
              "      <td>1</td>\n",
              "      <td>1</td>\n",
              "      <td>1</td>\n",
              "      <td>https://i6.ztat.net/large/V1/02/1C/0T/QK/11/V1...</td>\n",
              "      <td>blue knee-length ladies dress with white dots ...</td>\n",
              "      <td>6</td>\n",
              "      <td>[ladies, dress, dots, pattern, round, neckline...</td>\n",
              "      <td>[blue, knee-length, white, short, white, polka...</td>\n",
              "    </tr>\n",
              "    <tr>\n",
              "      <th>2</th>\n",
              "      <td>2</td>\n",
              "      <td>2</td>\n",
              "      <td>2</td>\n",
              "      <td>https://i6.ztat.net/large/TF/72/1C/01/5K/11/TF...</td>\n",
              "      <td>This product is a dress. It's striped gray and...</td>\n",
              "      <td>2</td>\n",
              "      <td>[product, dress, blue, beach, dress, knees, ro...</td>\n",
              "      <td>[striped, gray, white, light, white, gray, whi...</td>\n",
              "    </tr>\n",
              "    <tr>\n",
              "      <th>3</th>\n",
              "      <td>3</td>\n",
              "      <td>3</td>\n",
              "      <td>3</td>\n",
              "      <td>https://i2.ztat.net/large/VE/12/1C/14/9C/11/VE...</td>\n",
              "      <td>Thigh-length fabric dress in gray with hip poc...</td>\n",
              "      <td>7</td>\n",
              "      <td>[thigh-length, fabric, dress, pockets, round, ...</td>\n",
              "      <td>[gray, hip, elbow-length, casual, three-fold, ...</td>\n",
              "    </tr>\n",
              "    <tr>\n",
              "      <th>4</th>\n",
              "      <td>4</td>\n",
              "      <td>4</td>\n",
              "      <td>4</td>\n",
              "      <td>https://i6.ztat.net/large/S2/92/1C/0B/AK/11/S2...</td>\n",
              "      <td>It is an elegant dark blue medium length dress...</td>\n",
              "      <td>7</td>\n",
              "      <td>[dark, medium, length, dress, sleeves, top, ro...</td>\n",
              "      <td>[elegant, blue, black, figure-hugging, knee-le...</td>\n",
              "    </tr>\n",
              "  </tbody>\n",
              "</table>\n",
              "</div>"
            ],
            "text/plain": [
              "   Unnamed: 0  ...                                               adjs\n",
              "0           0  ...  [short, sexy, yellow, shoulder-free, fabric, y...\n",
              "1           1  ...  [blue, knee-length, white, short, white, polka...\n",
              "2           2  ...  [striped, gray, white, light, white, gray, whi...\n",
              "3           3  ...  [gray, hip, elbow-length, casual, three-fold, ...\n",
              "4           4  ...  [elegant, blue, black, figure-hugging, knee-le...\n",
              "\n",
              "[5 rows x 8 columns]"
            ]
          },
          "metadata": {
            "tags": []
          },
          "execution_count": 5
        }
      ]
    },
    {
      "cell_type": "markdown",
      "metadata": {
        "id": "dcgafsXd4aka"
      },
      "source": [
        "Keeping 10 most important tags for each item"
      ]
    },
    {
      "cell_type": "code",
      "metadata": {
        "id": "HDUNsQ9Vf7qF"
      },
      "source": [
        "def top_tags(tags):\n",
        "    counter = TfidfVectorizer(analyzer='word', stop_words='english')\n",
        "    try:\n",
        "      counter.fit(tags)\n",
        "    except ValueError:\n",
        "      return []\n",
        "\n",
        "    matrix_count = counter.fit_transform(tags).toarray()\n",
        "    scores = matrix_count.sum(axis=1)\n",
        "    sorted_ids = np.argsort(scores).flatten()[::-1]\n",
        "\n",
        "    return np.array(tags)[sorted_ids[:10]]\n",
        "\n",
        "df['nouns'] = df['nouns'].apply(lambda x: top_tags(x))\n",
        "df['adjs'] = df['adjs'].apply(lambda x: top_tags(x))"
      ],
      "execution_count": 6,
      "outputs": []
    },
    {
      "cell_type": "markdown",
      "metadata": {
        "id": "q5mxPhnAyieE"
      },
      "source": [
        "Keeping the 25 most common nouns and adjs overall (each)"
      ]
    },
    {
      "cell_type": "code",
      "metadata": {
        "id": "7oKAzvVdsehz",
        "colab": {
          "base_uri": "https://localhost:8080/"
        },
        "outputId": "1b002548-9092-472c-938d-276ffd2d5b8c"
      },
      "source": [
        "num_classes = 25\n",
        "all_nouns = df['nouns'].to_numpy()\n",
        "all_nouns = np.concatenate(all_nouns)\n",
        "values, counts = np.unique(all_nouns, return_counts=True)\n",
        "\n",
        "ind = np.argpartition(-counts, kth=num_classes)[:num_classes]\n",
        "noun_classes = values[ind]\n",
        "noun_classes"
      ],
      "execution_count": 7,
      "outputs": [
        {
          "output_type": "execute_result",
          "data": {
            "text/plain": [
              "array(['knee', 'sleeves', 'arms', 'length', 'round', 'collar', 'mini',\n",
              "       'waist', 'sleeveless', 'dress', 'belt', 'v-neck', 'summer',\n",
              "       'pattern', 'cut', 'knees', 'skirt', 'blue', 'neckline',\n",
              "       'knee-length', 'straps', 'lace', 'shoulders', 'neck', 'fabric'],\n",
              "      dtype='<U27')"
            ]
          },
          "metadata": {
            "tags": []
          },
          "execution_count": 7
        }
      ]
    },
    {
      "cell_type": "code",
      "metadata": {
        "id": "SosGCQenJJ8V",
        "colab": {
          "base_uri": "https://localhost:8080/"
        },
        "outputId": "abf5f8b1-ce60-4f84-c392-1591b632afef"
      },
      "source": [
        "all_adjs = df['adjs'].to_numpy()\n",
        "all_adjs = np.concatenate(all_adjs)\n",
        "values, counts = np.unique(all_adjs, return_counts=True)\n",
        "\n",
        "ind = np.argpartition(-counts, kth=num_classes)[:num_classes]\n",
        "adjs_classes = values[ind]\n",
        "adjs_classes"
      ],
      "execution_count": 8,
      "outputs": [
        {
          "output_type": "execute_result",
          "data": {
            "text/plain": [
              "array(['tight', 'narrow', 'blue', 'white', 'small', 'floral', 'free',\n",
              "       'wide', 'half-length', 'sleeveless', 'medium-length', 'light',\n",
              "       'gray', 'deep', 'long', 'red', 'black', 'shoulder-free', 'dark',\n",
              "       'knee-length', 'colorful', 'figure-hugging', 'short', 'mid-thigh',\n",
              "       'green'], dtype='<U27')"
            ]
          },
          "metadata": {
            "tags": []
          },
          "execution_count": 8
        }
      ]
    },
    {
      "cell_type": "code",
      "metadata": {
        "id": "HkYwS9uNuDhD"
      },
      "source": [
        "df['nouns'] = df['nouns'].map(lambda v: list(noun_classes[np.in1d(noun_classes, v)])).values\n",
        "df['adjs'] = df['adjs'].map(lambda v: list(adjs_classes[np.in1d(adjs_classes, v)])).values\n",
        "\n",
        "df = df[df['nouns'].map(len) >= 1]\n",
        "df = df[df['adjs'].map(len) >= 1]\n",
        "\n",
        "df['tags'] = df['nouns'] + df['adjs']"
      ],
      "execution_count": 9,
      "outputs": []
    },
    {
      "cell_type": "code",
      "metadata": {
        "colab": {
          "base_uri": "https://localhost:8080/",
          "height": 244
        },
        "id": "urPZFng5ydS7",
        "outputId": "bb8eb17d-8d88-4e6d-b44a-67c1bfc2db2e"
      },
      "source": [
        "mlb = MultiLabelBinarizer()\n",
        "y = pd.DataFrame(mlb.fit_transform(df['tags']), columns=mlb.classes_)\n",
        "y.head()"
      ],
      "execution_count": 10,
      "outputs": [
        {
          "output_type": "execute_result",
          "data": {
            "text/html": [
              "<div>\n",
              "<style scoped>\n",
              "    .dataframe tbody tr th:only-of-type {\n",
              "        vertical-align: middle;\n",
              "    }\n",
              "\n",
              "    .dataframe tbody tr th {\n",
              "        vertical-align: top;\n",
              "    }\n",
              "\n",
              "    .dataframe thead th {\n",
              "        text-align: right;\n",
              "    }\n",
              "</style>\n",
              "<table border=\"1\" class=\"dataframe\">\n",
              "  <thead>\n",
              "    <tr style=\"text-align: right;\">\n",
              "      <th></th>\n",
              "      <th>arms</th>\n",
              "      <th>belt</th>\n",
              "      <th>black</th>\n",
              "      <th>blue</th>\n",
              "      <th>collar</th>\n",
              "      <th>colorful</th>\n",
              "      <th>cut</th>\n",
              "      <th>dark</th>\n",
              "      <th>deep</th>\n",
              "      <th>dress</th>\n",
              "      <th>fabric</th>\n",
              "      <th>figure-hugging</th>\n",
              "      <th>floral</th>\n",
              "      <th>free</th>\n",
              "      <th>gray</th>\n",
              "      <th>green</th>\n",
              "      <th>half-length</th>\n",
              "      <th>knee</th>\n",
              "      <th>knee-length</th>\n",
              "      <th>knees</th>\n",
              "      <th>lace</th>\n",
              "      <th>length</th>\n",
              "      <th>light</th>\n",
              "      <th>long</th>\n",
              "      <th>medium-length</th>\n",
              "      <th>mid-thigh</th>\n",
              "      <th>mini</th>\n",
              "      <th>narrow</th>\n",
              "      <th>neck</th>\n",
              "      <th>neckline</th>\n",
              "      <th>pattern</th>\n",
              "      <th>red</th>\n",
              "      <th>round</th>\n",
              "      <th>short</th>\n",
              "      <th>shoulder-free</th>\n",
              "      <th>shoulders</th>\n",
              "      <th>skirt</th>\n",
              "      <th>sleeveless</th>\n",
              "      <th>sleeves</th>\n",
              "      <th>small</th>\n",
              "      <th>straps</th>\n",
              "      <th>summer</th>\n",
              "      <th>tight</th>\n",
              "      <th>v-neck</th>\n",
              "      <th>waist</th>\n",
              "      <th>white</th>\n",
              "      <th>wide</th>\n",
              "    </tr>\n",
              "  </thead>\n",
              "  <tbody>\n",
              "    <tr>\n",
              "      <th>0</th>\n",
              "      <td>0</td>\n",
              "      <td>0</td>\n",
              "      <td>0</td>\n",
              "      <td>0</td>\n",
              "      <td>0</td>\n",
              "      <td>0</td>\n",
              "      <td>0</td>\n",
              "      <td>0</td>\n",
              "      <td>1</td>\n",
              "      <td>1</td>\n",
              "      <td>0</td>\n",
              "      <td>0</td>\n",
              "      <td>0</td>\n",
              "      <td>0</td>\n",
              "      <td>0</td>\n",
              "      <td>0</td>\n",
              "      <td>0</td>\n",
              "      <td>0</td>\n",
              "      <td>1</td>\n",
              "      <td>0</td>\n",
              "      <td>0</td>\n",
              "      <td>1</td>\n",
              "      <td>0</td>\n",
              "      <td>0</td>\n",
              "      <td>0</td>\n",
              "      <td>0</td>\n",
              "      <td>0</td>\n",
              "      <td>0</td>\n",
              "      <td>0</td>\n",
              "      <td>0</td>\n",
              "      <td>0</td>\n",
              "      <td>0</td>\n",
              "      <td>0</td>\n",
              "      <td>0</td>\n",
              "      <td>1</td>\n",
              "      <td>0</td>\n",
              "      <td>0</td>\n",
              "      <td>1</td>\n",
              "      <td>1</td>\n",
              "      <td>0</td>\n",
              "      <td>1</td>\n",
              "      <td>0</td>\n",
              "      <td>0</td>\n",
              "      <td>0</td>\n",
              "      <td>0</td>\n",
              "      <td>0</td>\n",
              "      <td>1</td>\n",
              "    </tr>\n",
              "    <tr>\n",
              "      <th>1</th>\n",
              "      <td>0</td>\n",
              "      <td>0</td>\n",
              "      <td>0</td>\n",
              "      <td>1</td>\n",
              "      <td>0</td>\n",
              "      <td>0</td>\n",
              "      <td>0</td>\n",
              "      <td>0</td>\n",
              "      <td>0</td>\n",
              "      <td>1</td>\n",
              "      <td>0</td>\n",
              "      <td>0</td>\n",
              "      <td>0</td>\n",
              "      <td>0</td>\n",
              "      <td>0</td>\n",
              "      <td>0</td>\n",
              "      <td>0</td>\n",
              "      <td>0</td>\n",
              "      <td>1</td>\n",
              "      <td>0</td>\n",
              "      <td>0</td>\n",
              "      <td>0</td>\n",
              "      <td>0</td>\n",
              "      <td>0</td>\n",
              "      <td>0</td>\n",
              "      <td>0</td>\n",
              "      <td>0</td>\n",
              "      <td>0</td>\n",
              "      <td>0</td>\n",
              "      <td>1</td>\n",
              "      <td>1</td>\n",
              "      <td>0</td>\n",
              "      <td>1</td>\n",
              "      <td>1</td>\n",
              "      <td>0</td>\n",
              "      <td>0</td>\n",
              "      <td>1</td>\n",
              "      <td>0</td>\n",
              "      <td>1</td>\n",
              "      <td>0</td>\n",
              "      <td>0</td>\n",
              "      <td>0</td>\n",
              "      <td>0</td>\n",
              "      <td>0</td>\n",
              "      <td>0</td>\n",
              "      <td>1</td>\n",
              "      <td>0</td>\n",
              "    </tr>\n",
              "    <tr>\n",
              "      <th>2</th>\n",
              "      <td>0</td>\n",
              "      <td>0</td>\n",
              "      <td>1</td>\n",
              "      <td>1</td>\n",
              "      <td>0</td>\n",
              "      <td>0</td>\n",
              "      <td>0</td>\n",
              "      <td>0</td>\n",
              "      <td>0</td>\n",
              "      <td>1</td>\n",
              "      <td>0</td>\n",
              "      <td>0</td>\n",
              "      <td>0</td>\n",
              "      <td>0</td>\n",
              "      <td>1</td>\n",
              "      <td>0</td>\n",
              "      <td>0</td>\n",
              "      <td>0</td>\n",
              "      <td>0</td>\n",
              "      <td>1</td>\n",
              "      <td>0</td>\n",
              "      <td>0</td>\n",
              "      <td>0</td>\n",
              "      <td>0</td>\n",
              "      <td>0</td>\n",
              "      <td>0</td>\n",
              "      <td>0</td>\n",
              "      <td>0</td>\n",
              "      <td>0</td>\n",
              "      <td>1</td>\n",
              "      <td>0</td>\n",
              "      <td>0</td>\n",
              "      <td>1</td>\n",
              "      <td>0</td>\n",
              "      <td>0</td>\n",
              "      <td>0</td>\n",
              "      <td>0</td>\n",
              "      <td>0</td>\n",
              "      <td>0</td>\n",
              "      <td>1</td>\n",
              "      <td>0</td>\n",
              "      <td>0</td>\n",
              "      <td>0</td>\n",
              "      <td>0</td>\n",
              "      <td>0</td>\n",
              "      <td>1</td>\n",
              "      <td>0</td>\n",
              "    </tr>\n",
              "    <tr>\n",
              "      <th>3</th>\n",
              "      <td>0</td>\n",
              "      <td>0</td>\n",
              "      <td>0</td>\n",
              "      <td>0</td>\n",
              "      <td>0</td>\n",
              "      <td>0</td>\n",
              "      <td>0</td>\n",
              "      <td>0</td>\n",
              "      <td>0</td>\n",
              "      <td>1</td>\n",
              "      <td>1</td>\n",
              "      <td>0</td>\n",
              "      <td>0</td>\n",
              "      <td>0</td>\n",
              "      <td>1</td>\n",
              "      <td>0</td>\n",
              "      <td>1</td>\n",
              "      <td>0</td>\n",
              "      <td>0</td>\n",
              "      <td>0</td>\n",
              "      <td>0</td>\n",
              "      <td>1</td>\n",
              "      <td>1</td>\n",
              "      <td>0</td>\n",
              "      <td>0</td>\n",
              "      <td>0</td>\n",
              "      <td>0</td>\n",
              "      <td>0</td>\n",
              "      <td>0</td>\n",
              "      <td>1</td>\n",
              "      <td>0</td>\n",
              "      <td>0</td>\n",
              "      <td>1</td>\n",
              "      <td>1</td>\n",
              "      <td>0</td>\n",
              "      <td>0</td>\n",
              "      <td>0</td>\n",
              "      <td>0</td>\n",
              "      <td>1</td>\n",
              "      <td>0</td>\n",
              "      <td>0</td>\n",
              "      <td>0</td>\n",
              "      <td>0</td>\n",
              "      <td>0</td>\n",
              "      <td>0</td>\n",
              "      <td>0</td>\n",
              "      <td>0</td>\n",
              "    </tr>\n",
              "    <tr>\n",
              "      <th>4</th>\n",
              "      <td>0</td>\n",
              "      <td>0</td>\n",
              "      <td>0</td>\n",
              "      <td>1</td>\n",
              "      <td>0</td>\n",
              "      <td>0</td>\n",
              "      <td>1</td>\n",
              "      <td>1</td>\n",
              "      <td>0</td>\n",
              "      <td>1</td>\n",
              "      <td>0</td>\n",
              "      <td>1</td>\n",
              "      <td>0</td>\n",
              "      <td>0</td>\n",
              "      <td>0</td>\n",
              "      <td>0</td>\n",
              "      <td>0</td>\n",
              "      <td>0</td>\n",
              "      <td>1</td>\n",
              "      <td>0</td>\n",
              "      <td>0</td>\n",
              "      <td>1</td>\n",
              "      <td>0</td>\n",
              "      <td>0</td>\n",
              "      <td>0</td>\n",
              "      <td>0</td>\n",
              "      <td>0</td>\n",
              "      <td>0</td>\n",
              "      <td>0</td>\n",
              "      <td>1</td>\n",
              "      <td>0</td>\n",
              "      <td>0</td>\n",
              "      <td>1</td>\n",
              "      <td>1</td>\n",
              "      <td>0</td>\n",
              "      <td>0</td>\n",
              "      <td>0</td>\n",
              "      <td>0</td>\n",
              "      <td>1</td>\n",
              "      <td>0</td>\n",
              "      <td>0</td>\n",
              "      <td>0</td>\n",
              "      <td>0</td>\n",
              "      <td>0</td>\n",
              "      <td>0</td>\n",
              "      <td>0</td>\n",
              "      <td>0</td>\n",
              "    </tr>\n",
              "  </tbody>\n",
              "</table>\n",
              "</div>"
            ],
            "text/plain": [
              "   arms  belt  black  blue  collar  ...  tight  v-neck  waist  white  wide\n",
              "0     0     0      0     0       0  ...      0       0      0      0     1\n",
              "1     0     0      0     1       0  ...      0       0      0      1     0\n",
              "2     0     0      1     1       0  ...      0       0      0      1     0\n",
              "3     0     0      0     0       0  ...      0       0      0      0     0\n",
              "4     0     0      0     1       0  ...      0       0      0      0     0\n",
              "\n",
              "[5 rows x 47 columns]"
            ]
          },
          "metadata": {
            "tags": []
          },
          "execution_count": 10
        }
      ]
    },
    {
      "cell_type": "markdown",
      "metadata": {
        "id": "HipkGXQmyVjr"
      },
      "source": [
        "2. Loading the image dataset"
      ]
    },
    {
      "cell_type": "code",
      "metadata": {
        "id": "G7RSYezkYGKD"
      },
      "source": [
        "!unzip /content/drive/MyDrive/ml/zalando_img_224.zip"
      ],
      "execution_count": null,
      "outputs": []
    },
    {
      "cell_type": "code",
      "metadata": {
        "id": "5rEtZpxDp8jA"
      },
      "source": [
        "image_tensors = []\n",
        "pil_images = []\n",
        "\n",
        "img_transforms = transforms.Compose([transforms.Resize((224, 224)), transforms.ToTensor(), transforms.Normalize((0.5, 0.5, 0.5), (0.5, 0.5, 0.5))])\n",
        "\n",
        "for i, url in enumerate(df['url'].values):\n",
        "    filename = url.split('/')[-1]\n",
        "    img = Image.open(f\"/content/zalando_img_224/{filename}\")\n",
        "    img = img.convert('RGB')\n",
        "    pil_images.append(img)\n",
        "    img_tensor = img_transforms(img)\n",
        "    image_tensors.append(img_tensor)"
      ],
      "execution_count": 12,
      "outputs": []
    },
    {
      "cell_type": "markdown",
      "metadata": {
        "id": "rIAxKmFV2lr3"
      },
      "source": [
        "Initializing a Dataset class that applies transforms to images"
      ]
    },
    {
      "cell_type": "code",
      "metadata": {
        "id": "bWwS-5iEZCoS"
      },
      "source": [
        "batch_size = 64\n",
        "num_workers = 4\n",
        "\n",
        "class MyDataset(Dataset):\n",
        "    def __init__(self, data, targets):\n",
        "        self.data = data\n",
        "        self.targets = torch.Tensor(targets)\n",
        "        self.transform = transforms.Compose([\n",
        "                                    transforms.RandomHorizontalFlip(),\n",
        "                                    transforms.RandomGrayscale(), \n",
        "                                    transforms.ColorJitter(brightness=0.1, contrast=0.1, saturation=0.1, hue=0.1),\n",
        "                                    transforms.ToTensor(),\n",
        "                                    transforms.Normalize((0.5, 0.5, 0.5), (0.5, 0.5, 0.5))\n",
        "                                ])\n",
        "\n",
        "    def __getitem__(self, index):\n",
        "        x = self.transform(self.data[index])\n",
        "        y = self.targets[index]\n",
        "        return x, y\n",
        "\n",
        "    def __len__(self):\n",
        "        return len(self.data)"
      ],
      "execution_count": 13,
      "outputs": []
    },
    {
      "cell_type": "markdown",
      "metadata": {
        "id": "NKeeWyHL2sPZ"
      },
      "source": [
        "Splitting data for training and evaluation"
      ]
    },
    {
      "cell_type": "code",
      "metadata": {
        "id": "-AQA7Loct8OJ",
        "colab": {
          "base_uri": "https://localhost:8080/"
        },
        "outputId": "7799453f-d1ef-42e0-b36d-4a053a685f06"
      },
      "source": [
        "y = y.to_numpy()\n",
        "\n",
        "x_train, x_test, y_train, y_test = train_test_split(pil_images, y, test_size=0.3, random_state=42)\n",
        "\n",
        "train_dataset = MyDataset(x_train, y_train)\n",
        "dataloader_train = torch.utils.data.DataLoader(train_dataset, batch_size=batch_size, shuffle=True, num_workers=num_workers)\n",
        "\n",
        "test_dataset = MyDataset(x_test, y_test)\n",
        "dataloader_test = torch.utils.data.DataLoader(test_dataset, batch_size=batch_size, shuffle=True, num_workers=num_workers)\n",
        "\n",
        "image_datasets = {'train': x_train, 'val': x_test}\n",
        "dataloaders = {'train': dataloader_train, 'val': dataloader_test}"
      ],
      "execution_count": 14,
      "outputs": [
        {
          "output_type": "stream",
          "text": [
            "/usr/local/lib/python3.7/dist-packages/torch/utils/data/dataloader.py:477: UserWarning: This DataLoader will create 4 worker processes in total. Our suggested max number of worker in current system is 2, which is smaller than what this DataLoader is going to create. Please be aware that excessive worker creation might get DataLoader running slow or even freeze, lower the worker number to avoid potential slowness/freeze if necessary.\n",
            "  cpuset_checked))\n"
          ],
          "name": "stderr"
        }
      ]
    },
    {
      "cell_type": "code",
      "metadata": {
        "id": "i0nTJA7kpltH"
      },
      "source": [
        "input_size = 224\n",
        "num_classes = len(mlb.classes_)"
      ],
      "execution_count": 15,
      "outputs": []
    },
    {
      "cell_type": "code",
      "metadata": {
        "id": "BQBV-0W1oPqo",
        "colab": {
          "base_uri": "https://localhost:8080/"
        },
        "outputId": "7bea1567-6e1c-40e6-952b-6552a60c3900"
      },
      "source": [
        "device = torch.device(\"cuda\" if torch.cuda.is_available() else \"cpu\")\n",
        "device"
      ],
      "execution_count": 16,
      "outputs": [
        {
          "output_type": "execute_result",
          "data": {
            "text/plain": [
              "device(type='cuda')"
            ]
          },
          "metadata": {
            "tags": []
          },
          "execution_count": 16
        }
      ]
    },
    {
      "cell_type": "markdown",
      "metadata": {
        "id": "NPfB4bhbzB3n"
      },
      "source": [
        "3. Initializing the pretrained NN"
      ]
    },
    {
      "cell_type": "markdown",
      "metadata": {
        "id": "klPjawpI20Kw"
      },
      "source": [
        "The last layer is modified to produce a 50-dimensional vector, corresponding to our tags"
      ]
    },
    {
      "cell_type": "code",
      "metadata": {
        "id": "jJ-NZ0TQk3jt",
        "colab": {
          "base_uri": "https://localhost:8080/",
          "height": 1000,
          "referenced_widgets": [
            "9c44434095e34e209631bc2e55566075",
            "045ab20ed4dd4c7c82d23c14fbdba4a2",
            "a6c33207a8b5464b9c5682263ec81c60",
            "8469698ebcaa45dbb90323011cf6249a",
            "7cb404e236044e0789aa6490e3db32b1",
            "fc7729c90603438ab39cbeda57231725",
            "f9d4d24feace4da4b9b38c976227d8c7",
            "45ad6e5c0d89407a878a3372bec398c3"
          ]
        },
        "outputId": "48cdd071-3403-4eb4-8871-6caa78ceceba"
      },
      "source": [
        "class Resnext50(nn.Module):\n",
        "    def __init__(self, n_classes):\n",
        "        super().__init__()\n",
        "        resnet = models.resnext50_32x4d(pretrained=True)\n",
        "        resnet.fc = nn.Sequential(\n",
        "            nn.Dropout(p=0.2),\n",
        "            nn.Linear(in_features=resnet.fc.in_features, out_features=n_classes)\n",
        "        )\n",
        "        self.base_model = resnet\n",
        "        self.sigm = nn.Sigmoid()\n",
        "        self.featureLayer = self.base_model._modules.get('avgpool')\n",
        "\n",
        "    def forward(self, x):\n",
        "        return self.sigm(self.base_model(x))\n",
        "\n",
        "    def getImageVec(self, img):\n",
        "        image = img.unsqueeze(0).to(device)\n",
        "        embedding = torch.zeros(1, 2048, 1, 1)\n",
        "        def copyData(m, i, o): embedding.copy_(o.data)\n",
        "        h = self.featureLayer.register_forward_hook(copyData)\n",
        "        model(image)\n",
        "        h.remove()\n",
        "\n",
        "        return embedding.numpy()[0, :, 0, 0]\n",
        "\n",
        "model = Resnext50(num_classes)\n",
        "model = model.to(device)\n",
        "model.train()"
      ],
      "execution_count": 17,
      "outputs": [
        {
          "output_type": "stream",
          "text": [
            "Downloading: \"https://download.pytorch.org/models/resnext50_32x4d-7cdf4587.pth\" to /root/.cache/torch/hub/checkpoints/resnext50_32x4d-7cdf4587.pth\n"
          ],
          "name": "stderr"
        },
        {
          "output_type": "display_data",
          "data": {
            "application/vnd.jupyter.widget-view+json": {
              "model_id": "9c44434095e34e209631bc2e55566075",
              "version_minor": 0,
              "version_major": 2
            },
            "text/plain": [
              "HBox(children=(FloatProgress(value=0.0, max=100441675.0), HTML(value='')))"
            ]
          },
          "metadata": {
            "tags": []
          }
        },
        {
          "output_type": "stream",
          "text": [
            "\n"
          ],
          "name": "stdout"
        },
        {
          "output_type": "execute_result",
          "data": {
            "text/plain": [
              "Resnext50(\n",
              "  (base_model): ResNet(\n",
              "    (conv1): Conv2d(3, 64, kernel_size=(7, 7), stride=(2, 2), padding=(3, 3), bias=False)\n",
              "    (bn1): BatchNorm2d(64, eps=1e-05, momentum=0.1, affine=True, track_running_stats=True)\n",
              "    (relu): ReLU(inplace=True)\n",
              "    (maxpool): MaxPool2d(kernel_size=3, stride=2, padding=1, dilation=1, ceil_mode=False)\n",
              "    (layer1): Sequential(\n",
              "      (0): Bottleneck(\n",
              "        (conv1): Conv2d(64, 128, kernel_size=(1, 1), stride=(1, 1), bias=False)\n",
              "        (bn1): BatchNorm2d(128, eps=1e-05, momentum=0.1, affine=True, track_running_stats=True)\n",
              "        (conv2): Conv2d(128, 128, kernel_size=(3, 3), stride=(1, 1), padding=(1, 1), groups=32, bias=False)\n",
              "        (bn2): BatchNorm2d(128, eps=1e-05, momentum=0.1, affine=True, track_running_stats=True)\n",
              "        (conv3): Conv2d(128, 256, kernel_size=(1, 1), stride=(1, 1), bias=False)\n",
              "        (bn3): BatchNorm2d(256, eps=1e-05, momentum=0.1, affine=True, track_running_stats=True)\n",
              "        (relu): ReLU(inplace=True)\n",
              "        (downsample): Sequential(\n",
              "          (0): Conv2d(64, 256, kernel_size=(1, 1), stride=(1, 1), bias=False)\n",
              "          (1): BatchNorm2d(256, eps=1e-05, momentum=0.1, affine=True, track_running_stats=True)\n",
              "        )\n",
              "      )\n",
              "      (1): Bottleneck(\n",
              "        (conv1): Conv2d(256, 128, kernel_size=(1, 1), stride=(1, 1), bias=False)\n",
              "        (bn1): BatchNorm2d(128, eps=1e-05, momentum=0.1, affine=True, track_running_stats=True)\n",
              "        (conv2): Conv2d(128, 128, kernel_size=(3, 3), stride=(1, 1), padding=(1, 1), groups=32, bias=False)\n",
              "        (bn2): BatchNorm2d(128, eps=1e-05, momentum=0.1, affine=True, track_running_stats=True)\n",
              "        (conv3): Conv2d(128, 256, kernel_size=(1, 1), stride=(1, 1), bias=False)\n",
              "        (bn3): BatchNorm2d(256, eps=1e-05, momentum=0.1, affine=True, track_running_stats=True)\n",
              "        (relu): ReLU(inplace=True)\n",
              "      )\n",
              "      (2): Bottleneck(\n",
              "        (conv1): Conv2d(256, 128, kernel_size=(1, 1), stride=(1, 1), bias=False)\n",
              "        (bn1): BatchNorm2d(128, eps=1e-05, momentum=0.1, affine=True, track_running_stats=True)\n",
              "        (conv2): Conv2d(128, 128, kernel_size=(3, 3), stride=(1, 1), padding=(1, 1), groups=32, bias=False)\n",
              "        (bn2): BatchNorm2d(128, eps=1e-05, momentum=0.1, affine=True, track_running_stats=True)\n",
              "        (conv3): Conv2d(128, 256, kernel_size=(1, 1), stride=(1, 1), bias=False)\n",
              "        (bn3): BatchNorm2d(256, eps=1e-05, momentum=0.1, affine=True, track_running_stats=True)\n",
              "        (relu): ReLU(inplace=True)\n",
              "      )\n",
              "    )\n",
              "    (layer2): Sequential(\n",
              "      (0): Bottleneck(\n",
              "        (conv1): Conv2d(256, 256, kernel_size=(1, 1), stride=(1, 1), bias=False)\n",
              "        (bn1): BatchNorm2d(256, eps=1e-05, momentum=0.1, affine=True, track_running_stats=True)\n",
              "        (conv2): Conv2d(256, 256, kernel_size=(3, 3), stride=(2, 2), padding=(1, 1), groups=32, bias=False)\n",
              "        (bn2): BatchNorm2d(256, eps=1e-05, momentum=0.1, affine=True, track_running_stats=True)\n",
              "        (conv3): Conv2d(256, 512, kernel_size=(1, 1), stride=(1, 1), bias=False)\n",
              "        (bn3): BatchNorm2d(512, eps=1e-05, momentum=0.1, affine=True, track_running_stats=True)\n",
              "        (relu): ReLU(inplace=True)\n",
              "        (downsample): Sequential(\n",
              "          (0): Conv2d(256, 512, kernel_size=(1, 1), stride=(2, 2), bias=False)\n",
              "          (1): BatchNorm2d(512, eps=1e-05, momentum=0.1, affine=True, track_running_stats=True)\n",
              "        )\n",
              "      )\n",
              "      (1): Bottleneck(\n",
              "        (conv1): Conv2d(512, 256, kernel_size=(1, 1), stride=(1, 1), bias=False)\n",
              "        (bn1): BatchNorm2d(256, eps=1e-05, momentum=0.1, affine=True, track_running_stats=True)\n",
              "        (conv2): Conv2d(256, 256, kernel_size=(3, 3), stride=(1, 1), padding=(1, 1), groups=32, bias=False)\n",
              "        (bn2): BatchNorm2d(256, eps=1e-05, momentum=0.1, affine=True, track_running_stats=True)\n",
              "        (conv3): Conv2d(256, 512, kernel_size=(1, 1), stride=(1, 1), bias=False)\n",
              "        (bn3): BatchNorm2d(512, eps=1e-05, momentum=0.1, affine=True, track_running_stats=True)\n",
              "        (relu): ReLU(inplace=True)\n",
              "      )\n",
              "      (2): Bottleneck(\n",
              "        (conv1): Conv2d(512, 256, kernel_size=(1, 1), stride=(1, 1), bias=False)\n",
              "        (bn1): BatchNorm2d(256, eps=1e-05, momentum=0.1, affine=True, track_running_stats=True)\n",
              "        (conv2): Conv2d(256, 256, kernel_size=(3, 3), stride=(1, 1), padding=(1, 1), groups=32, bias=False)\n",
              "        (bn2): BatchNorm2d(256, eps=1e-05, momentum=0.1, affine=True, track_running_stats=True)\n",
              "        (conv3): Conv2d(256, 512, kernel_size=(1, 1), stride=(1, 1), bias=False)\n",
              "        (bn3): BatchNorm2d(512, eps=1e-05, momentum=0.1, affine=True, track_running_stats=True)\n",
              "        (relu): ReLU(inplace=True)\n",
              "      )\n",
              "      (3): Bottleneck(\n",
              "        (conv1): Conv2d(512, 256, kernel_size=(1, 1), stride=(1, 1), bias=False)\n",
              "        (bn1): BatchNorm2d(256, eps=1e-05, momentum=0.1, affine=True, track_running_stats=True)\n",
              "        (conv2): Conv2d(256, 256, kernel_size=(3, 3), stride=(1, 1), padding=(1, 1), groups=32, bias=False)\n",
              "        (bn2): BatchNorm2d(256, eps=1e-05, momentum=0.1, affine=True, track_running_stats=True)\n",
              "        (conv3): Conv2d(256, 512, kernel_size=(1, 1), stride=(1, 1), bias=False)\n",
              "        (bn3): BatchNorm2d(512, eps=1e-05, momentum=0.1, affine=True, track_running_stats=True)\n",
              "        (relu): ReLU(inplace=True)\n",
              "      )\n",
              "    )\n",
              "    (layer3): Sequential(\n",
              "      (0): Bottleneck(\n",
              "        (conv1): Conv2d(512, 512, kernel_size=(1, 1), stride=(1, 1), bias=False)\n",
              "        (bn1): BatchNorm2d(512, eps=1e-05, momentum=0.1, affine=True, track_running_stats=True)\n",
              "        (conv2): Conv2d(512, 512, kernel_size=(3, 3), stride=(2, 2), padding=(1, 1), groups=32, bias=False)\n",
              "        (bn2): BatchNorm2d(512, eps=1e-05, momentum=0.1, affine=True, track_running_stats=True)\n",
              "        (conv3): Conv2d(512, 1024, kernel_size=(1, 1), stride=(1, 1), bias=False)\n",
              "        (bn3): BatchNorm2d(1024, eps=1e-05, momentum=0.1, affine=True, track_running_stats=True)\n",
              "        (relu): ReLU(inplace=True)\n",
              "        (downsample): Sequential(\n",
              "          (0): Conv2d(512, 1024, kernel_size=(1, 1), stride=(2, 2), bias=False)\n",
              "          (1): BatchNorm2d(1024, eps=1e-05, momentum=0.1, affine=True, track_running_stats=True)\n",
              "        )\n",
              "      )\n",
              "      (1): Bottleneck(\n",
              "        (conv1): Conv2d(1024, 512, kernel_size=(1, 1), stride=(1, 1), bias=False)\n",
              "        (bn1): BatchNorm2d(512, eps=1e-05, momentum=0.1, affine=True, track_running_stats=True)\n",
              "        (conv2): Conv2d(512, 512, kernel_size=(3, 3), stride=(1, 1), padding=(1, 1), groups=32, bias=False)\n",
              "        (bn2): BatchNorm2d(512, eps=1e-05, momentum=0.1, affine=True, track_running_stats=True)\n",
              "        (conv3): Conv2d(512, 1024, kernel_size=(1, 1), stride=(1, 1), bias=False)\n",
              "        (bn3): BatchNorm2d(1024, eps=1e-05, momentum=0.1, affine=True, track_running_stats=True)\n",
              "        (relu): ReLU(inplace=True)\n",
              "      )\n",
              "      (2): Bottleneck(\n",
              "        (conv1): Conv2d(1024, 512, kernel_size=(1, 1), stride=(1, 1), bias=False)\n",
              "        (bn1): BatchNorm2d(512, eps=1e-05, momentum=0.1, affine=True, track_running_stats=True)\n",
              "        (conv2): Conv2d(512, 512, kernel_size=(3, 3), stride=(1, 1), padding=(1, 1), groups=32, bias=False)\n",
              "        (bn2): BatchNorm2d(512, eps=1e-05, momentum=0.1, affine=True, track_running_stats=True)\n",
              "        (conv3): Conv2d(512, 1024, kernel_size=(1, 1), stride=(1, 1), bias=False)\n",
              "        (bn3): BatchNorm2d(1024, eps=1e-05, momentum=0.1, affine=True, track_running_stats=True)\n",
              "        (relu): ReLU(inplace=True)\n",
              "      )\n",
              "      (3): Bottleneck(\n",
              "        (conv1): Conv2d(1024, 512, kernel_size=(1, 1), stride=(1, 1), bias=False)\n",
              "        (bn1): BatchNorm2d(512, eps=1e-05, momentum=0.1, affine=True, track_running_stats=True)\n",
              "        (conv2): Conv2d(512, 512, kernel_size=(3, 3), stride=(1, 1), padding=(1, 1), groups=32, bias=False)\n",
              "        (bn2): BatchNorm2d(512, eps=1e-05, momentum=0.1, affine=True, track_running_stats=True)\n",
              "        (conv3): Conv2d(512, 1024, kernel_size=(1, 1), stride=(1, 1), bias=False)\n",
              "        (bn3): BatchNorm2d(1024, eps=1e-05, momentum=0.1, affine=True, track_running_stats=True)\n",
              "        (relu): ReLU(inplace=True)\n",
              "      )\n",
              "      (4): Bottleneck(\n",
              "        (conv1): Conv2d(1024, 512, kernel_size=(1, 1), stride=(1, 1), bias=False)\n",
              "        (bn1): BatchNorm2d(512, eps=1e-05, momentum=0.1, affine=True, track_running_stats=True)\n",
              "        (conv2): Conv2d(512, 512, kernel_size=(3, 3), stride=(1, 1), padding=(1, 1), groups=32, bias=False)\n",
              "        (bn2): BatchNorm2d(512, eps=1e-05, momentum=0.1, affine=True, track_running_stats=True)\n",
              "        (conv3): Conv2d(512, 1024, kernel_size=(1, 1), stride=(1, 1), bias=False)\n",
              "        (bn3): BatchNorm2d(1024, eps=1e-05, momentum=0.1, affine=True, track_running_stats=True)\n",
              "        (relu): ReLU(inplace=True)\n",
              "      )\n",
              "      (5): Bottleneck(\n",
              "        (conv1): Conv2d(1024, 512, kernel_size=(1, 1), stride=(1, 1), bias=False)\n",
              "        (bn1): BatchNorm2d(512, eps=1e-05, momentum=0.1, affine=True, track_running_stats=True)\n",
              "        (conv2): Conv2d(512, 512, kernel_size=(3, 3), stride=(1, 1), padding=(1, 1), groups=32, bias=False)\n",
              "        (bn2): BatchNorm2d(512, eps=1e-05, momentum=0.1, affine=True, track_running_stats=True)\n",
              "        (conv3): Conv2d(512, 1024, kernel_size=(1, 1), stride=(1, 1), bias=False)\n",
              "        (bn3): BatchNorm2d(1024, eps=1e-05, momentum=0.1, affine=True, track_running_stats=True)\n",
              "        (relu): ReLU(inplace=True)\n",
              "      )\n",
              "    )\n",
              "    (layer4): Sequential(\n",
              "      (0): Bottleneck(\n",
              "        (conv1): Conv2d(1024, 1024, kernel_size=(1, 1), stride=(1, 1), bias=False)\n",
              "        (bn1): BatchNorm2d(1024, eps=1e-05, momentum=0.1, affine=True, track_running_stats=True)\n",
              "        (conv2): Conv2d(1024, 1024, kernel_size=(3, 3), stride=(2, 2), padding=(1, 1), groups=32, bias=False)\n",
              "        (bn2): BatchNorm2d(1024, eps=1e-05, momentum=0.1, affine=True, track_running_stats=True)\n",
              "        (conv3): Conv2d(1024, 2048, kernel_size=(1, 1), stride=(1, 1), bias=False)\n",
              "        (bn3): BatchNorm2d(2048, eps=1e-05, momentum=0.1, affine=True, track_running_stats=True)\n",
              "        (relu): ReLU(inplace=True)\n",
              "        (downsample): Sequential(\n",
              "          (0): Conv2d(1024, 2048, kernel_size=(1, 1), stride=(2, 2), bias=False)\n",
              "          (1): BatchNorm2d(2048, eps=1e-05, momentum=0.1, affine=True, track_running_stats=True)\n",
              "        )\n",
              "      )\n",
              "      (1): Bottleneck(\n",
              "        (conv1): Conv2d(2048, 1024, kernel_size=(1, 1), stride=(1, 1), bias=False)\n",
              "        (bn1): BatchNorm2d(1024, eps=1e-05, momentum=0.1, affine=True, track_running_stats=True)\n",
              "        (conv2): Conv2d(1024, 1024, kernel_size=(3, 3), stride=(1, 1), padding=(1, 1), groups=32, bias=False)\n",
              "        (bn2): BatchNorm2d(1024, eps=1e-05, momentum=0.1, affine=True, track_running_stats=True)\n",
              "        (conv3): Conv2d(1024, 2048, kernel_size=(1, 1), stride=(1, 1), bias=False)\n",
              "        (bn3): BatchNorm2d(2048, eps=1e-05, momentum=0.1, affine=True, track_running_stats=True)\n",
              "        (relu): ReLU(inplace=True)\n",
              "      )\n",
              "      (2): Bottleneck(\n",
              "        (conv1): Conv2d(2048, 1024, kernel_size=(1, 1), stride=(1, 1), bias=False)\n",
              "        (bn1): BatchNorm2d(1024, eps=1e-05, momentum=0.1, affine=True, track_running_stats=True)\n",
              "        (conv2): Conv2d(1024, 1024, kernel_size=(3, 3), stride=(1, 1), padding=(1, 1), groups=32, bias=False)\n",
              "        (bn2): BatchNorm2d(1024, eps=1e-05, momentum=0.1, affine=True, track_running_stats=True)\n",
              "        (conv3): Conv2d(1024, 2048, kernel_size=(1, 1), stride=(1, 1), bias=False)\n",
              "        (bn3): BatchNorm2d(2048, eps=1e-05, momentum=0.1, affine=True, track_running_stats=True)\n",
              "        (relu): ReLU(inplace=True)\n",
              "      )\n",
              "    )\n",
              "    (avgpool): AdaptiveAvgPool2d(output_size=(1, 1))\n",
              "    (fc): Sequential(\n",
              "      (0): Dropout(p=0.2, inplace=False)\n",
              "      (1): Linear(in_features=2048, out_features=47, bias=True)\n",
              "    )\n",
              "  )\n",
              "  (sigm): Sigmoid()\n",
              "  (featureLayer): AdaptiveAvgPool2d(output_size=(1, 1))\n",
              ")"
            ]
          },
          "metadata": {
            "tags": []
          },
          "execution_count": 17
        }
      ]
    },
    {
      "cell_type": "markdown",
      "metadata": {
        "id": "NKq2Jq7-2Cpk"
      },
      "source": [
        "4. Finding similar images"
      ]
    },
    {
      "cell_type": "code",
      "metadata": {
        "id": "whN5bVt7plxW"
      },
      "source": [
        "image_vectors = []\n",
        "for image in image_tensors:\n",
        "    image_vectors.append(model.getImageVec(image))"
      ],
      "execution_count": 18,
      "outputs": []
    },
    {
      "cell_type": "code",
      "metadata": {
        "id": "WJjx2tL7qgLr"
      },
      "source": [
        "random10 = [random.randint(1, len(image_vectors)) for _ in range(10)]\n",
        "\n",
        "sim_matrix = [];\n",
        "for i in random10:\n",
        "    sim_dict = {}\n",
        "    for j in range(len(image_vectors)):\n",
        "        sim_dict[j] = cosine_similarity([image_vectors[i]], [image_vectors[j]])[0][0]\n",
        "    sim_matrix.append(sim_dict)\n",
        "\n",
        "similar_images = []\n",
        "for row in sim_matrix:\n",
        "    sorted_list = sorted(row.items(), key=lambda v: v[1], reverse=True)\n",
        "    similar = []\n",
        "    for item in sorted_list[0:5]:\n",
        "        id = item[0]\n",
        "        similar.append((df.iloc[id]['url'], item[1]))\n",
        "    similar_images.append({'id': sorted_list[0][0], 'similar': similar})"
      ],
      "execution_count": 19,
      "outputs": []
    },
    {
      "cell_type": "code",
      "metadata": {
        "colab": {
          "base_uri": "https://localhost:8080/",
          "height": 1000
        },
        "id": "nhWgxUZurBJ_",
        "outputId": "32f8ddbd-a649-474e-d8b0-d6c01cdb9b76"
      },
      "source": [
        "res = ''\n",
        "for row in similar_images:\n",
        "    res += 'similarity:'\n",
        "    for (url, sim) in row['similar']:\n",
        "        res += (\n",
        "        '<figure style=\"display: inline-block\">'\n",
        "            '<center>'\n",
        "            f'<img src=\"{url}\" height=\"100\" width=\"100\">'\n",
        "            f'<figcaption>{round(sim, 3)}</figcaption>' \n",
        "            '</center>'\n",
        "        '</figure>'\n",
        "        )\n",
        "    res+='<br/>'\n",
        "\n",
        "display(HTML(res))"
      ],
      "execution_count": 20,
      "outputs": [
        {
          "output_type": "display_data",
          "data": {
            "text/html": [
              "similarity:<figure style=\"display: inline-block\"><center><img src=\"https://i4.ztat.net/large/AN/62/1C/AE/DB/11/AN621CAED-B11@12.jpg\" height=\"100\" width=\"100\"><figcaption>1.0</figcaption></center></figure><figure style=\"display: inline-block\"><center><img src=\"https://i3.ztat.net/large/AN/62/1C/A8/0G/11/AN621CA80-G11@10.jpg\" height=\"100\" width=\"100\"><figcaption>0.9980000257492065</figcaption></center></figure><figure style=\"display: inline-block\"><center><img src=\"https://i5.ztat.net/large/M9/12/1C/1S/MJ/11/M9121C1SM-J11@12.jpg\" height=\"100\" width=\"100\"><figcaption>0.9980000257492065</figcaption></center></figure><figure style=\"display: inline-block\"><center><img src=\"https://i4.ztat.net/large/DP/62/1C/05/5Q/11/DP621C055-Q11@12.jpg\" height=\"100\" width=\"100\"><figcaption>0.9980000257492065</figcaption></center></figure><figure style=\"display: inline-block\"><center><img src=\"https://i3.ztat.net/large/IL/12/1C/00/AG/12/IL121C00A-G12@10.jpg\" height=\"100\" width=\"100\"><figcaption>0.9980000257492065</figcaption></center></figure><br/>similarity:<figure style=\"display: inline-block\"><center><img src=\"https://i4.ztat.net/large/M4/42/1C/02/7G/11/M4421C027-G11@10.jpg\" height=\"100\" width=\"100\"><figcaption>1.0</figcaption></center></figure><figure style=\"display: inline-block\"><center><img src=\"https://i6.ztat.net/large/WA/22/1C/0A/3G/11/WA221C0A3-G11@14.jpg\" height=\"100\" width=\"100\"><figcaption>0.9980000257492065</figcaption></center></figure><figure style=\"display: inline-block\"><center><img src=\"https://i2.ztat.net/large/MF/92/1C/0D/PJ/11/MF921C0DP-J11@12.jpg\" height=\"100\" width=\"100\"><figcaption>0.9980000257492065</figcaption></center></figure><figure style=\"display: inline-block\"><center><img src=\"https://i1.ztat.net/large/1V/J2/1C/03/6G/11/1VJ21C036-G11@12.jpg\" height=\"100\" width=\"100\"><figcaption>0.9980000257492065</figcaption></center></figure><figure style=\"display: inline-block\"><center><img src=\"https://i6.ztat.net/large/BO/12/1C/03/9G/11/BO121C039-G11@14.jpg\" height=\"100\" width=\"100\"><figcaption>0.9980000257492065</figcaption></center></figure><br/>similarity:<figure style=\"display: inline-block\"><center><img src=\"https://i6.ztat.net/large/D3/02/1C/02/EA/11/D3021C02E-A11@10.jpg\" height=\"100\" width=\"100\"><figcaption>1.0</figcaption></center></figure><figure style=\"display: inline-block\"><center><img src=\"https://i6.ztat.net/large/MK/12/1C/06/QA/11/MK121C06Q-A11@10.jpg\" height=\"100\" width=\"100\"><figcaption>0.9980000257492065</figcaption></center></figure><figure style=\"display: inline-block\"><center><img src=\"https://i3.ztat.net/large/M9/12/1C/1T/6D/11/M9121C1T6-D11@13.1.jpg\" height=\"100\" width=\"100\"><figcaption>0.9980000257492065</figcaption></center></figure><figure style=\"display: inline-block\"><center><img src=\"https://i4.ztat.net/large/TS/12/1C/00/WA/11/TS121C00W-A11@9.jpg\" height=\"100\" width=\"100\"><figcaption>0.9980000257492065</figcaption></center></figure><figure style=\"display: inline-block\"><center><img src=\"https://i6.ztat.net/large/TF/12/1C/0C/WA/11/TF121C0CW-A11@10.jpg\" height=\"100\" width=\"100\"><figcaption>0.9980000257492065</figcaption></center></figure><br/>similarity:<figure style=\"display: inline-block\"><center><img src=\"https://i1.ztat.net/large/4J/O2/1C/02/NK/12/4JO21C02N-K12@2.jpg\" height=\"100\" width=\"100\"><figcaption>1.0</figcaption></center></figure><figure style=\"display: inline-block\"><center><img src=\"https://i4.ztat.net/large/NL/02/1C/0I/AQ/11/NL021C0IA-Q11@12.jpg\" height=\"100\" width=\"100\"><figcaption>0.9980000257492065</figcaption></center></figure><figure style=\"display: inline-block\"><center><img src=\"https://i4.ztat.net/large/C1/E2/1C/00/1K/11/C1E21C001-K11@14.jpg\" height=\"100\" width=\"100\"><figcaption>0.9980000257492065</figcaption></center></figure><figure style=\"display: inline-block\"><center><img src=\"https://i2.ztat.net/large/Z1/72/1C/01/LT/11/Z1721C01L-T11@12.jpg\" height=\"100\" width=\"100\"><figcaption>0.9980000257492065</figcaption></center></figure><figure style=\"display: inline-block\"><center><img src=\"https://i5.ztat.net/large/ES/12/1C/0A/4K/11/ES121C0A4-K11@12.jpg\" height=\"100\" width=\"100\"><figcaption>0.9980000257492065</figcaption></center></figure><br/>similarity:<figure style=\"display: inline-block\"><center><img src=\"https://i4.ztat.net/large/OB/12/1C/06/YA/11/OB121C06Y-A11@14.jpg\" height=\"100\" width=\"100\"><figcaption>1.0</figcaption></center></figure><figure style=\"display: inline-block\"><center><img src=\"https://i5.ztat.net/large/M0/U2/1C/03/GJ/11/M0U21C03G-J11@10.jpg\" height=\"100\" width=\"100\"><figcaption>0.9990000128746033</figcaption></center></figure><figure style=\"display: inline-block\"><center><img src=\"https://i5.ztat.net/large/DP/72/1C/02/TC/11/DP721C02T-C11@12.jpg\" height=\"100\" width=\"100\"><figcaption>0.9980000257492065</figcaption></center></figure><figure style=\"display: inline-block\"><center><img src=\"https://i6.ztat.net/large/S2/82/1C/03/5D/11/S2821C035-D11@11.jpg\" height=\"100\" width=\"100\"><figcaption>0.9980000257492065</figcaption></center></figure><figure style=\"display: inline-block\"><center><img src=\"https://i3.ztat.net/large/4B/E2/1C/07/5N/11/4BE21C075-N11@14.jpg\" height=\"100\" width=\"100\"><figcaption>0.9980000257492065</figcaption></center></figure><br/>similarity:<figure style=\"display: inline-block\"><center><img src=\"https://i4.ztat.net/large/DP/52/1C/0X/SK/11/DP521C0XS-K11@12.jpg\" height=\"100\" width=\"100\"><figcaption>1.0</figcaption></center></figure><figure style=\"display: inline-block\"><center><img src=\"https://i6.ztat.net/large/M3/22/1C/AA/3A/11/M3221CAA3-A11@14.jpg\" height=\"100\" width=\"100\"><figcaption>0.9990000128746033</figcaption></center></figure><figure style=\"display: inline-block\"><center><img src=\"https://i6.ztat.net/large/S0/N2/1C/01/TT/11/S0N21C01T-T11@12.jpg\" height=\"100\" width=\"100\"><figcaption>0.9990000128746033</figcaption></center></figure><figure style=\"display: inline-block\"><center><img src=\"https://i4.ztat.net/large/VE/B2/1C/00/MK/11/VEB21C00M-K11@12.jpg\" height=\"100\" width=\"100\"><figcaption>0.9980000257492065</figcaption></center></figure><figure style=\"display: inline-block\"><center><img src=\"https://i4.ztat.net/large/DP/52/1C/0Z/WK/11/DP521C0ZW-K11@7.jpg\" height=\"100\" width=\"100\"><figcaption>0.9980000257492065</figcaption></center></figure><br/>similarity:<figure style=\"display: inline-block\"><center><img src=\"https://i4.ztat.net/large/JR/42/1C/0A/QQ/11/JR421C0AQ-Q11@10.jpg\" height=\"100\" width=\"100\"><figcaption>1.0</figcaption></center></figure><figure style=\"display: inline-block\"><center><img src=\"https://i6.ztat.net/large/K4/42/1C/A4/GK/11/K4421CA4G-K11@10.jpg\" height=\"100\" width=\"100\"><figcaption>0.9980000257492065</figcaption></center></figure><figure style=\"display: inline-block\"><center><img src=\"https://i5.ztat.net/large/ON/32/1C/0M/XQ/11/ON321C0MX-Q11@10.jpg\" height=\"100\" width=\"100\"><figcaption>0.9980000257492065</figcaption></center></figure><figure style=\"display: inline-block\"><center><img src=\"https://i4.ztat.net/large/S0/U2/1C/00/GK/11/S0U21C00G-K11@12.jpg\" height=\"100\" width=\"100\"><figcaption>0.9980000257492065</figcaption></center></figure><figure style=\"display: inline-block\"><center><img src=\"https://i4.ztat.net/large/Y0/12/1C/06/TN/11/Y0121C06T-N11@10.jpg\" height=\"100\" width=\"100\"><figcaption>0.9980000257492065</figcaption></center></figure><br/>similarity:<figure style=\"display: inline-block\"><center><img src=\"https://i3.ztat.net/large/2G/U2/1C/03/RA/11/2GU21C03R-A11@12.jpg\" height=\"100\" width=\"100\"><figcaption>1.0</figcaption></center></figure><figure style=\"display: inline-block\"><center><img src=\"https://i3.ztat.net/large/Y0/12/1C/07/5N/11/Y0121C075-N11@10.jpg\" height=\"100\" width=\"100\"><figcaption>0.9980000257492065</figcaption></center></figure><figure style=\"display: inline-block\"><center><img src=\"https://i6.ztat.net/large/Y0/32/1C/00/XK/11/Y0321C00X-K11@11.jpg\" height=\"100\" width=\"100\"><figcaption>0.9980000257492065</figcaption></center></figure><figure style=\"display: inline-block\"><center><img src=\"https://i3.ztat.net/large/Y0/12/1C/06/8Q/11/Y0121C068-Q11@10.jpg\" height=\"100\" width=\"100\"><figcaption>0.9980000257492065</figcaption></center></figure><figure style=\"display: inline-block\"><center><img src=\"https://i2.ztat.net/large/EV/42/1C/A5/UQ/11/EV421CA5U-Q11@10.jpg\" height=\"100\" width=\"100\"><figcaption>0.9980000257492065</figcaption></center></figure><br/>similarity:<figure style=\"display: inline-block\"><center><img src=\"https://i2.ztat.net/large/EV/42/1C/A3/HJ/11/EV421CA3H-J11@2.jpg\" height=\"100\" width=\"100\"><figcaption>1.0</figcaption></center></figure><figure style=\"display: inline-block\"><center><img src=\"https://i6.ztat.net/large/LO/A2/1C/01/FJ/11/LOA21C01F-J11@12.jpg\" height=\"100\" width=\"100\"><figcaption>0.9980000257492065</figcaption></center></figure><figure style=\"display: inline-block\"><center><img src=\"https://i1.ztat.net/large/M3/22/1C/A9/DI/11/M3221CA9D-I11@10.jpg\" height=\"100\" width=\"100\"><figcaption>0.9980000257492065</figcaption></center></figure><figure style=\"display: inline-block\"><center><img src=\"https://i5.ztat.net/large/GL/A2/1C/00/OT/11/GLA21C00O-T11@12.jpg\" height=\"100\" width=\"100\"><figcaption>0.9980000257492065</figcaption></center></figure><figure style=\"display: inline-block\"><center><img src=\"https://i1.ztat.net/large/R5/92/1C/01/HK/11/R5921C01H-K11@2.1.jpg\" height=\"100\" width=\"100\"><figcaption>0.9980000257492065</figcaption></center></figure><br/>similarity:<figure style=\"display: inline-block\"><center><img src=\"https://i2.ztat.net/large/FO/52/1C/00/HA/11/FO521C00H-A11@2.jpg\" height=\"100\" width=\"100\"><figcaption>1.0</figcaption></center></figure><figure style=\"display: inline-block\"><center><img src=\"https://i1.ztat.net/large/OP/02/1C/00/DG/11/OP021C00D-G11@14.jpg\" height=\"100\" width=\"100\"><figcaption>0.9980000257492065</figcaption></center></figure><figure style=\"display: inline-block\"><center><img src=\"https://i3.ztat.net/large/KS/82/1C/01/1J/11/KS821C011-J11@12.jpg\" height=\"100\" width=\"100\"><figcaption>0.9980000257492065</figcaption></center></figure><figure style=\"display: inline-block\"><center><img src=\"https://i3.ztat.net/large/MF/92/1C/0F/3B/11/MF921C0F3-B11@12.jpg\" height=\"100\" width=\"100\"><figcaption>0.9980000257492065</figcaption></center></figure><figure style=\"display: inline-block\"><center><img src=\"https://i4.ztat.net/large/S0/U2/1C/00/GK/11/S0U21C00G-K11@12.jpg\" height=\"100\" width=\"100\"><figcaption>0.9980000257492065</figcaption></center></figure><br/>"
            ],
            "text/plain": [
              "<IPython.core.display.HTML object>"
            ]
          },
          "metadata": {
            "tags": []
          }
        }
      ]
    },
    {
      "cell_type": "markdown",
      "metadata": {
        "id": "j6rPUOnY2M4W"
      },
      "source": [
        "5. Training"
      ]
    },
    {
      "cell_type": "code",
      "metadata": {
        "id": "dQWMrmE1m2yo"
      },
      "source": [
        "max_epoch_number = 30\n",
        "learning_rate = 1e-3\n",
        "optimizer = torch.optim.Adam(model.parameters(), lr=learning_rate)\n",
        "criterion = nn.BCELoss()"
      ],
      "execution_count": 21,
      "outputs": []
    },
    {
      "cell_type": "code",
      "metadata": {
        "id": "uM3egLtwk776"
      },
      "source": [
        "def checkpoint_save(model, epoch):\n",
        "    f = os.path.join('/content/drive/MyDrive/ml/zalando_checkpoints/', 'checkpoint-{:06d}.pth'.format(epoch))\n",
        "    if 'module' in dir(model):\n",
        "        torch.save(model.module.state_dict(), f)\n",
        "    else:\n",
        "        torch.save(model.state_dict(), f)\n",
        "    print('saved checkpoint:', f)\n",
        "\n",
        "def calculate_metrics(pred, target, threshold=0.5):\n",
        "    pred = np.array(pred > threshold, dtype=float)\n",
        "    return {\n",
        "            'micro/f1': metrics.f1_score(y_true=target, y_pred=pred, average='micro'),\n",
        "            'macro/f1': metrics.f1_score(y_true=target, y_pred=pred, average='macro'),\n",
        "            'samples/f1': metrics.f1_score(y_true=target, y_pred=pred, average='samples'),\n",
        "        }"
      ],
      "execution_count": 22,
      "outputs": []
    },
    {
      "cell_type": "code",
      "metadata": {
        "id": "VAB58yp8kXV4",
        "colab": {
          "base_uri": "https://localhost:8080/"
        },
        "outputId": "ab16a991-1974-4330-e413-f5078b707e78"
      },
      "source": [
        "epoch = 0\n",
        "iteration = 0\n",
        "test_freq = 10\n",
        "save_freq = 1\n",
        "while True:\n",
        "    batch_losses = []\n",
        "    for imgs, targets in dataloaders['train']:\n",
        "        imgs, targets = imgs.to(device), targets.to(device)\n",
        "\n",
        "        optimizer.zero_grad()\n",
        "\n",
        "        model_result = model(imgs)\n",
        "        loss = criterion(model_result, targets.type(torch.float))\n",
        "\n",
        "        batch_loss_value = loss.item()\n",
        "        loss.backward()\n",
        "        optimizer.step()\n",
        "\n",
        "        batch_losses.append(batch_loss_value)\n",
        "\n",
        "        if iteration % test_freq == 0:\n",
        "            model.eval()\n",
        "            with torch.no_grad():\n",
        "                model_result = []\n",
        "                targets = []\n",
        "                for imgs, batch_targets in dataloaders['train']:\n",
        "                    imgs = imgs.to(device)\n",
        "                    model_batch_result = model(imgs)\n",
        "                    model_result.extend(model_batch_result.cpu().numpy())\n",
        "                    targets.extend(batch_targets.cpu().numpy())\n",
        "\n",
        "            result = calculate_metrics(np.array(model_result), np.array(targets))\n",
        "            print(\"epoch:{:2d} iter:{:3d} test: \"\n",
        "                  \"micro f1: {:.3f} \"\n",
        "                  \"macro f1: {:.3f} \"\n",
        "                  \"samples f1: {:.3f}\".format(epoch, iteration,\n",
        "                                              result['micro/f1'],\n",
        "                                              result['macro/f1'],\n",
        "                                              result['samples/f1']))\n",
        "\n",
        "            model.train()\n",
        "        iteration += 1\n",
        "\n",
        "    loss_value = np.mean(batch_losses)\n",
        "    print(\"epoch:{:2d} iter:{:3d} train: loss:{:.3f}\".format(epoch, iteration, loss_value))\n",
        "    if epoch % save_freq == 0:\n",
        "        checkpoint_save(model, epoch)\n",
        "    epoch += 1\n",
        "    if max_epoch_number < epoch:\n",
        "        break\n"
      ],
      "execution_count": null,
      "outputs": [
        {
          "output_type": "stream",
          "text": [
            "/usr/local/lib/python3.7/dist-packages/torch/utils/data/dataloader.py:477: UserWarning: This DataLoader will create 4 worker processes in total. Our suggested max number of worker in current system is 2, which is smaller than what this DataLoader is going to create. Please be aware that excessive worker creation might get DataLoader running slow or even freeze, lower the worker number to avoid potential slowness/freeze if necessary.\n",
            "  cpuset_checked))\n"
          ],
          "name": "stderr"
        },
        {
          "output_type": "stream",
          "text": [
            "epoch: 0 iter:  0 test: micro f1: 0.452 macro f1: 0.104 samples f1: 0.452\n",
            "epoch: 0 iter: 10 test: micro f1: 0.515 macro f1: 0.173 samples f1: 0.511\n",
            "epoch: 0 iter: 20 test: micro f1: 0.496 macro f1: 0.176 samples f1: 0.485\n",
            "epoch: 0 iter: 30 test: micro f1: 0.522 macro f1: 0.176 samples f1: 0.519\n",
            "epoch: 0 iter: 40 test: micro f1: 0.564 macro f1: 0.214 samples f1: 0.559\n",
            "epoch: 0 iter: 50 test: micro f1: 0.580 macro f1: 0.245 samples f1: 0.578\n",
            "epoch: 0 iter: 60 test: micro f1: 0.563 macro f1: 0.246 samples f1: 0.555\n",
            "epoch: 0 iter: 70 test: micro f1: 0.585 macro f1: 0.238 samples f1: 0.582\n",
            "epoch: 0 iter: 80 test: micro f1: 0.548 macro f1: 0.228 samples f1: 0.545\n",
            "epoch: 0 iter: 90 test: micro f1: 0.568 macro f1: 0.251 samples f1: 0.563\n",
            "epoch: 0 iter: 97 train: loss:0.364\n",
            "saved checkpoint: /content/drive/MyDrive/ml/zalando_checkpoints/checkpoint-000000.pth\n",
            "epoch: 1 iter:100 test: micro f1: 0.568 macro f1: 0.247 samples f1: 0.563\n",
            "epoch: 1 iter:110 test: micro f1: 0.561 macro f1: 0.225 samples f1: 0.555\n",
            "epoch: 1 iter:120 test: micro f1: 0.572 macro f1: 0.231 samples f1: 0.566\n",
            "epoch: 1 iter:130 test: micro f1: 0.570 macro f1: 0.245 samples f1: 0.567\n",
            "epoch: 1 iter:140 test: micro f1: 0.589 macro f1: 0.251 samples f1: 0.584\n",
            "epoch: 1 iter:150 test: micro f1: 0.568 macro f1: 0.256 samples f1: 0.564\n",
            "epoch: 1 iter:160 test: micro f1: 0.583 macro f1: 0.265 samples f1: 0.578\n",
            "epoch: 1 iter:170 test: micro f1: 0.583 macro f1: 0.264 samples f1: 0.579\n",
            "epoch: 1 iter:180 test: micro f1: 0.599 macro f1: 0.258 samples f1: 0.595\n",
            "epoch: 1 iter:190 test: micro f1: 0.589 macro f1: 0.279 samples f1: 0.582\n",
            "epoch: 1 iter:194 train: loss:0.338\n",
            "saved checkpoint: /content/drive/MyDrive/ml/zalando_checkpoints/checkpoint-000001.pth\n",
            "epoch: 2 iter:200 test: micro f1: 0.582 macro f1: 0.263 samples f1: 0.576\n",
            "epoch: 2 iter:210 test: micro f1: 0.613 macro f1: 0.274 samples f1: 0.610\n",
            "epoch: 2 iter:220 test: micro f1: 0.574 macro f1: 0.265 samples f1: 0.570\n",
            "epoch: 2 iter:230 test: micro f1: 0.615 macro f1: 0.303 samples f1: 0.611\n",
            "epoch: 2 iter:240 test: micro f1: 0.594 macro f1: 0.274 samples f1: 0.588\n",
            "epoch: 2 iter:250 test: micro f1: 0.614 macro f1: 0.262 samples f1: 0.611\n",
            "epoch: 2 iter:260 test: micro f1: 0.599 macro f1: 0.281 samples f1: 0.595\n",
            "epoch: 2 iter:270 test: micro f1: 0.599 macro f1: 0.305 samples f1: 0.597\n",
            "epoch: 2 iter:280 test: micro f1: 0.611 macro f1: 0.284 samples f1: 0.605\n",
            "epoch: 2 iter:290 test: micro f1: 0.609 macro f1: 0.305 samples f1: 0.605\n",
            "epoch: 2 iter:291 train: loss:0.328\n",
            "saved checkpoint: /content/drive/MyDrive/ml/zalando_checkpoints/checkpoint-000002.pth\n",
            "epoch: 3 iter:300 test: micro f1: 0.600 macro f1: 0.265 samples f1: 0.597\n",
            "epoch: 3 iter:310 test: micro f1: 0.602 macro f1: 0.301 samples f1: 0.599\n",
            "epoch: 3 iter:320 test: micro f1: 0.604 macro f1: 0.270 samples f1: 0.600\n",
            "epoch: 3 iter:330 test: micro f1: 0.615 macro f1: 0.305 samples f1: 0.611\n",
            "epoch: 3 iter:340 test: micro f1: 0.613 macro f1: 0.312 samples f1: 0.608\n",
            "epoch: 3 iter:350 test: micro f1: 0.618 macro f1: 0.316 samples f1: 0.614\n",
            "epoch: 3 iter:360 test: micro f1: 0.622 macro f1: 0.308 samples f1: 0.618\n",
            "epoch: 3 iter:370 test: micro f1: 0.621 macro f1: 0.307 samples f1: 0.617\n",
            "epoch: 3 iter:380 test: micro f1: 0.613 macro f1: 0.319 samples f1: 0.609\n",
            "epoch: 3 iter:388 train: loss:0.321\n",
            "saved checkpoint: /content/drive/MyDrive/ml/zalando_checkpoints/checkpoint-000003.pth\n",
            "epoch: 4 iter:390 test: micro f1: 0.617 macro f1: 0.314 samples f1: 0.613\n",
            "epoch: 4 iter:400 test: micro f1: 0.607 macro f1: 0.307 samples f1: 0.601\n",
            "epoch: 4 iter:410 test: micro f1: 0.619 macro f1: 0.326 samples f1: 0.616\n",
            "epoch: 4 iter:420 test: micro f1: 0.603 macro f1: 0.315 samples f1: 0.599\n",
            "epoch: 4 iter:430 test: micro f1: 0.612 macro f1: 0.322 samples f1: 0.608\n",
            "epoch: 4 iter:440 test: micro f1: 0.619 macro f1: 0.322 samples f1: 0.615\n",
            "epoch: 4 iter:450 test: micro f1: 0.616 macro f1: 0.293 samples f1: 0.610\n",
            "epoch: 4 iter:460 test: micro f1: 0.633 macro f1: 0.325 samples f1: 0.631\n",
            "epoch: 4 iter:470 test: micro f1: 0.632 macro f1: 0.328 samples f1: 0.626\n",
            "epoch: 4 iter:480 test: micro f1: 0.623 macro f1: 0.321 samples f1: 0.620\n",
            "epoch: 4 iter:485 train: loss:0.316\n",
            "saved checkpoint: /content/drive/MyDrive/ml/zalando_checkpoints/checkpoint-000004.pth\n",
            "epoch: 5 iter:490 test: micro f1: 0.609 macro f1: 0.301 samples f1: 0.604\n",
            "epoch: 5 iter:500 test: micro f1: 0.616 macro f1: 0.303 samples f1: 0.613\n",
            "epoch: 5 iter:510 test: micro f1: 0.629 macro f1: 0.324 samples f1: 0.627\n",
            "epoch: 5 iter:520 test: micro f1: 0.629 macro f1: 0.346 samples f1: 0.625\n",
            "epoch: 5 iter:530 test: micro f1: 0.620 macro f1: 0.338 samples f1: 0.615\n",
            "epoch: 5 iter:540 test: micro f1: 0.629 macro f1: 0.345 samples f1: 0.625\n",
            "epoch: 5 iter:550 test: micro f1: 0.634 macro f1: 0.336 samples f1: 0.629\n",
            "epoch: 5 iter:560 test: micro f1: 0.636 macro f1: 0.335 samples f1: 0.631\n",
            "epoch: 5 iter:570 test: micro f1: 0.636 macro f1: 0.335 samples f1: 0.631\n",
            "epoch: 5 iter:580 test: micro f1: 0.634 macro f1: 0.365 samples f1: 0.631\n",
            "epoch: 5 iter:582 train: loss:0.311\n",
            "saved checkpoint: /content/drive/MyDrive/ml/zalando_checkpoints/checkpoint-000005.pth\n",
            "epoch: 6 iter:590 test: micro f1: 0.630 macro f1: 0.326 samples f1: 0.626\n",
            "epoch: 6 iter:600 test: micro f1: 0.631 macro f1: 0.371 samples f1: 0.628\n",
            "epoch: 6 iter:610 test: micro f1: 0.634 macro f1: 0.354 samples f1: 0.631\n",
            "epoch: 6 iter:620 test: micro f1: 0.625 macro f1: 0.355 samples f1: 0.621\n",
            "epoch: 6 iter:630 test: micro f1: 0.635 macro f1: 0.346 samples f1: 0.631\n",
            "epoch: 6 iter:640 test: micro f1: 0.644 macro f1: 0.352 samples f1: 0.642\n",
            "epoch: 6 iter:650 test: micro f1: 0.641 macro f1: 0.341 samples f1: 0.637\n",
            "epoch: 6 iter:660 test: micro f1: 0.634 macro f1: 0.343 samples f1: 0.630\n",
            "epoch: 6 iter:670 test: micro f1: 0.631 macro f1: 0.327 samples f1: 0.627\n",
            "epoch: 6 iter:679 train: loss:0.307\n",
            "saved checkpoint: /content/drive/MyDrive/ml/zalando_checkpoints/checkpoint-000006.pth\n",
            "epoch: 7 iter:680 test: micro f1: 0.632 macro f1: 0.355 samples f1: 0.627\n",
            "epoch: 7 iter:690 test: micro f1: 0.623 macro f1: 0.323 samples f1: 0.619\n",
            "epoch: 7 iter:700 test: micro f1: 0.638 macro f1: 0.351 samples f1: 0.634\n",
            "epoch: 7 iter:710 test: micro f1: 0.637 macro f1: 0.370 samples f1: 0.634\n",
            "epoch: 7 iter:720 test: micro f1: 0.646 macro f1: 0.375 samples f1: 0.641\n",
            "epoch: 7 iter:730 test: micro f1: 0.646 macro f1: 0.361 samples f1: 0.642\n",
            "epoch: 7 iter:740 test: micro f1: 0.654 macro f1: 0.366 samples f1: 0.650\n",
            "epoch: 7 iter:750 test: micro f1: 0.637 macro f1: 0.350 samples f1: 0.632\n",
            "epoch: 7 iter:760 test: micro f1: 0.648 macro f1: 0.368 samples f1: 0.644\n",
            "epoch: 7 iter:770 test: micro f1: 0.646 macro f1: 0.384 samples f1: 0.642\n",
            "epoch: 7 iter:776 train: loss:0.302\n",
            "saved checkpoint: /content/drive/MyDrive/ml/zalando_checkpoints/checkpoint-000007.pth\n",
            "epoch: 8 iter:780 test: micro f1: 0.630 macro f1: 0.334 samples f1: 0.626\n",
            "epoch: 8 iter:790 test: micro f1: 0.644 macro f1: 0.354 samples f1: 0.641\n",
            "epoch: 8 iter:800 test: micro f1: 0.650 macro f1: 0.360 samples f1: 0.647\n",
            "epoch: 8 iter:810 test: micro f1: 0.646 macro f1: 0.381 samples f1: 0.642\n",
            "epoch: 8 iter:820 test: micro f1: 0.632 macro f1: 0.362 samples f1: 0.627\n",
            "epoch: 8 iter:830 test: micro f1: 0.656 macro f1: 0.393 samples f1: 0.652\n",
            "epoch: 8 iter:840 test: micro f1: 0.643 macro f1: 0.361 samples f1: 0.639\n",
            "epoch: 8 iter:850 test: micro f1: 0.654 macro f1: 0.373 samples f1: 0.650\n",
            "epoch: 8 iter:860 test: micro f1: 0.655 macro f1: 0.379 samples f1: 0.651\n",
            "epoch: 8 iter:870 test: micro f1: 0.654 macro f1: 0.370 samples f1: 0.651\n",
            "epoch: 8 iter:873 train: loss:0.299\n",
            "saved checkpoint: /content/drive/MyDrive/ml/zalando_checkpoints/checkpoint-000008.pth\n",
            "epoch: 9 iter:880 test: micro f1: 0.650 macro f1: 0.367 samples f1: 0.647\n",
            "epoch: 9 iter:890 test: micro f1: 0.651 macro f1: 0.386 samples f1: 0.648\n",
            "epoch: 9 iter:900 test: micro f1: 0.656 macro f1: 0.389 samples f1: 0.652\n",
            "epoch: 9 iter:910 test: micro f1: 0.659 macro f1: 0.381 samples f1: 0.655\n",
            "epoch: 9 iter:920 test: micro f1: 0.669 macro f1: 0.406 samples f1: 0.665\n",
            "epoch: 9 iter:930 test: micro f1: 0.669 macro f1: 0.404 samples f1: 0.665\n",
            "epoch: 9 iter:940 test: micro f1: 0.654 macro f1: 0.386 samples f1: 0.650\n",
            "epoch: 9 iter:950 test: micro f1: 0.668 macro f1: 0.388 samples f1: 0.665\n",
            "epoch: 9 iter:960 test: micro f1: 0.670 macro f1: 0.401 samples f1: 0.666\n",
            "epoch: 9 iter:970 train: loss:0.293\n",
            "saved checkpoint: /content/drive/MyDrive/ml/zalando_checkpoints/checkpoint-000009.pth\n",
            "epoch:10 iter:970 test: micro f1: 0.667 macro f1: 0.395 samples f1: 0.664\n",
            "epoch:10 iter:980 test: micro f1: 0.665 macro f1: 0.403 samples f1: 0.661\n",
            "epoch:10 iter:990 test: micro f1: 0.637 macro f1: 0.370 samples f1: 0.634\n",
            "epoch:10 iter:1000 test: micro f1: 0.674 macro f1: 0.399 samples f1: 0.671\n",
            "epoch:10 iter:1010 test: micro f1: 0.662 macro f1: 0.393 samples f1: 0.658\n",
            "epoch:10 iter:1020 test: micro f1: 0.671 macro f1: 0.409 samples f1: 0.668\n",
            "epoch:10 iter:1030 test: micro f1: 0.662 macro f1: 0.424 samples f1: 0.657\n",
            "epoch:10 iter:1040 test: micro f1: 0.676 macro f1: 0.427 samples f1: 0.673\n",
            "epoch:10 iter:1050 test: micro f1: 0.676 macro f1: 0.420 samples f1: 0.673\n",
            "epoch:10 iter:1060 test: micro f1: 0.673 macro f1: 0.394 samples f1: 0.669\n",
            "epoch:10 iter:1067 train: loss:0.288\n",
            "saved checkpoint: /content/drive/MyDrive/ml/zalando_checkpoints/checkpoint-000010.pth\n",
            "epoch:11 iter:1070 test: micro f1: 0.651 macro f1: 0.369 samples f1: 0.647\n",
            "epoch:11 iter:1080 test: micro f1: 0.670 macro f1: 0.421 samples f1: 0.666\n",
            "epoch:11 iter:1090 test: micro f1: 0.676 macro f1: 0.424 samples f1: 0.672\n",
            "epoch:11 iter:1100 test: micro f1: 0.686 macro f1: 0.433 samples f1: 0.682\n",
            "epoch:11 iter:1110 test: micro f1: 0.686 macro f1: 0.436 samples f1: 0.683\n",
            "epoch:11 iter:1120 test: micro f1: 0.666 macro f1: 0.418 samples f1: 0.662\n",
            "epoch:11 iter:1130 test: micro f1: 0.679 macro f1: 0.435 samples f1: 0.675\n",
            "epoch:11 iter:1140 test: micro f1: 0.671 macro f1: 0.392 samples f1: 0.667\n",
            "epoch:11 iter:1150 test: micro f1: 0.671 macro f1: 0.427 samples f1: 0.667\n",
            "epoch:11 iter:1160 test: micro f1: 0.684 macro f1: 0.418 samples f1: 0.681\n",
            "epoch:11 iter:1164 train: loss:0.281\n",
            "saved checkpoint: /content/drive/MyDrive/ml/zalando_checkpoints/checkpoint-000011.pth\n",
            "epoch:12 iter:1170 test: micro f1: 0.669 macro f1: 0.417 samples f1: 0.666\n",
            "epoch:12 iter:1180 test: micro f1: 0.673 macro f1: 0.428 samples f1: 0.670\n",
            "epoch:12 iter:1190 test: micro f1: 0.683 macro f1: 0.426 samples f1: 0.679\n",
            "epoch:12 iter:1200 test: micro f1: 0.686 macro f1: 0.432 samples f1: 0.683\n",
            "epoch:12 iter:1210 test: micro f1: 0.687 macro f1: 0.448 samples f1: 0.684\n",
            "epoch:12 iter:1220 test: micro f1: 0.696 macro f1: 0.452 samples f1: 0.693\n",
            "epoch:12 iter:1230 test: micro f1: 0.674 macro f1: 0.434 samples f1: 0.672\n",
            "epoch:12 iter:1240 test: micro f1: 0.697 macro f1: 0.452 samples f1: 0.694\n",
            "epoch:12 iter:1250 test: micro f1: 0.697 macro f1: 0.456 samples f1: 0.692\n",
            "epoch:12 iter:1260 test: micro f1: 0.701 macro f1: 0.448 samples f1: 0.698\n",
            "epoch:12 iter:1261 train: loss:0.275\n",
            "saved checkpoint: /content/drive/MyDrive/ml/zalando_checkpoints/checkpoint-000012.pth\n",
            "epoch:13 iter:1270 test: micro f1: 0.673 macro f1: 0.432 samples f1: 0.669\n",
            "epoch:13 iter:1280 test: micro f1: 0.699 macro f1: 0.452 samples f1: 0.697\n",
            "epoch:13 iter:1290 test: micro f1: 0.688 macro f1: 0.442 samples f1: 0.685\n",
            "epoch:13 iter:1300 test: micro f1: 0.710 macro f1: 0.471 samples f1: 0.707\n",
            "epoch:13 iter:1310 test: micro f1: 0.694 macro f1: 0.449 samples f1: 0.691\n",
            "epoch:13 iter:1320 test: micro f1: 0.703 macro f1: 0.467 samples f1: 0.699\n",
            "epoch:13 iter:1330 test: micro f1: 0.700 macro f1: 0.452 samples f1: 0.696\n",
            "epoch:13 iter:1340 test: micro f1: 0.704 macro f1: 0.455 samples f1: 0.701\n",
            "epoch:13 iter:1350 test: micro f1: 0.704 macro f1: 0.472 samples f1: 0.700\n",
            "epoch:13 iter:1358 train: loss:0.267\n",
            "saved checkpoint: /content/drive/MyDrive/ml/zalando_checkpoints/checkpoint-000013.pth\n",
            "epoch:14 iter:1360 test: micro f1: 0.680 macro f1: 0.449 samples f1: 0.676\n",
            "epoch:14 iter:1370 test: micro f1: 0.685 macro f1: 0.424 samples f1: 0.682\n",
            "epoch:14 iter:1380 test: micro f1: 0.692 macro f1: 0.472 samples f1: 0.688\n",
            "epoch:14 iter:1390 test: micro f1: 0.714 macro f1: 0.481 samples f1: 0.711\n",
            "epoch:14 iter:1400 test: micro f1: 0.718 macro f1: 0.497 samples f1: 0.715\n",
            "epoch:14 iter:1410 test: micro f1: 0.714 macro f1: 0.492 samples f1: 0.710\n",
            "epoch:14 iter:1420 test: micro f1: 0.715 macro f1: 0.483 samples f1: 0.711\n",
            "epoch:14 iter:1430 test: micro f1: 0.698 macro f1: 0.463 samples f1: 0.696\n",
            "epoch:14 iter:1440 test: micro f1: 0.730 macro f1: 0.510 samples f1: 0.728\n",
            "epoch:14 iter:1450 test: micro f1: 0.725 macro f1: 0.504 samples f1: 0.721\n",
            "epoch:14 iter:1455 train: loss:0.259\n",
            "saved checkpoint: /content/drive/MyDrive/ml/zalando_checkpoints/checkpoint-000014.pth\n",
            "epoch:15 iter:1460 test: micro f1: 0.705 macro f1: 0.476 samples f1: 0.701\n",
            "epoch:15 iter:1470 test: micro f1: 0.714 macro f1: 0.489 samples f1: 0.710\n",
            "epoch:15 iter:1480 test: micro f1: 0.721 macro f1: 0.516 samples f1: 0.718\n",
            "epoch:15 iter:1490 test: micro f1: 0.726 macro f1: 0.509 samples f1: 0.722\n",
            "epoch:15 iter:1500 test: micro f1: 0.732 macro f1: 0.520 samples f1: 0.729\n",
            "epoch:15 iter:1510 test: micro f1: 0.736 macro f1: 0.529 samples f1: 0.732\n",
            "epoch:15 iter:1520 test: micro f1: 0.723 macro f1: 0.486 samples f1: 0.719\n",
            "epoch:15 iter:1530 test: micro f1: 0.738 macro f1: 0.541 samples f1: 0.735\n",
            "epoch:15 iter:1540 test: micro f1: 0.737 macro f1: 0.518 samples f1: 0.733\n",
            "epoch:15 iter:1550 test: micro f1: 0.739 macro f1: 0.535 samples f1: 0.735\n",
            "epoch:15 iter:1552 train: loss:0.250\n",
            "saved checkpoint: /content/drive/MyDrive/ml/zalando_checkpoints/checkpoint-000015.pth\n",
            "epoch:16 iter:1560 test: micro f1: 0.728 macro f1: 0.508 samples f1: 0.724\n",
            "epoch:16 iter:1570 test: micro f1: 0.730 macro f1: 0.517 samples f1: 0.726\n",
            "epoch:16 iter:1580 test: micro f1: 0.737 macro f1: 0.525 samples f1: 0.733\n",
            "epoch:16 iter:1590 test: micro f1: 0.751 macro f1: 0.559 samples f1: 0.748\n",
            "epoch:16 iter:1600 test: micro f1: 0.752 macro f1: 0.557 samples f1: 0.748\n",
            "epoch:16 iter:1610 test: micro f1: 0.754 macro f1: 0.541 samples f1: 0.750\n",
            "epoch:16 iter:1620 test: micro f1: 0.752 macro f1: 0.553 samples f1: 0.748\n",
            "epoch:16 iter:1630 test: micro f1: 0.755 macro f1: 0.557 samples f1: 0.752\n",
            "epoch:16 iter:1640 test: micro f1: 0.748 macro f1: 0.562 samples f1: 0.744\n",
            "epoch:16 iter:1649 train: loss:0.237\n",
            "saved checkpoint: /content/drive/MyDrive/ml/zalando_checkpoints/checkpoint-000016.pth\n",
            "epoch:17 iter:1650 test: micro f1: 0.747 macro f1: 0.554 samples f1: 0.744\n",
            "epoch:17 iter:1660 test: micro f1: 0.745 macro f1: 0.540 samples f1: 0.742\n",
            "epoch:17 iter:1670 test: micro f1: 0.749 macro f1: 0.554 samples f1: 0.746\n",
            "epoch:17 iter:1680 test: micro f1: 0.758 macro f1: 0.561 samples f1: 0.754\n",
            "epoch:17 iter:1690 test: micro f1: 0.763 macro f1: 0.579 samples f1: 0.759\n",
            "epoch:17 iter:1700 test: micro f1: 0.761 macro f1: 0.572 samples f1: 0.757\n",
            "epoch:17 iter:1710 test: micro f1: 0.761 macro f1: 0.592 samples f1: 0.757\n",
            "epoch:17 iter:1720 test: micro f1: 0.770 macro f1: 0.579 samples f1: 0.767\n",
            "epoch:17 iter:1730 test: micro f1: 0.773 macro f1: 0.606 samples f1: 0.769\n",
            "epoch:17 iter:1740 test: micro f1: 0.768 macro f1: 0.587 samples f1: 0.764\n",
            "epoch:17 iter:1746 train: loss:0.227\n",
            "saved checkpoint: /content/drive/MyDrive/ml/zalando_checkpoints/checkpoint-000017.pth\n",
            "epoch:18 iter:1750 test: micro f1: 0.743 macro f1: 0.550 samples f1: 0.740\n",
            "epoch:18 iter:1760 test: micro f1: 0.744 macro f1: 0.547 samples f1: 0.740\n",
            "epoch:18 iter:1770 test: micro f1: 0.766 macro f1: 0.573 samples f1: 0.762\n",
            "epoch:18 iter:1780 test: micro f1: 0.774 macro f1: 0.598 samples f1: 0.770\n",
            "epoch:18 iter:1790 test: micro f1: 0.777 macro f1: 0.595 samples f1: 0.773\n",
            "epoch:18 iter:1800 test: micro f1: 0.783 macro f1: 0.617 samples f1: 0.780\n",
            "epoch:18 iter:1810 test: micro f1: 0.777 macro f1: 0.615 samples f1: 0.773\n",
            "epoch:18 iter:1820 test: micro f1: 0.790 macro f1: 0.619 samples f1: 0.787\n",
            "epoch:18 iter:1830 test: micro f1: 0.783 macro f1: 0.629 samples f1: 0.779\n",
            "epoch:18 iter:1840 test: micro f1: 0.782 macro f1: 0.626 samples f1: 0.778\n",
            "epoch:18 iter:1843 train: loss:0.218\n",
            "saved checkpoint: /content/drive/MyDrive/ml/zalando_checkpoints/checkpoint-000018.pth\n",
            "epoch:19 iter:1850 test: micro f1: 0.753 macro f1: 0.569 samples f1: 0.749\n",
            "epoch:19 iter:1860 test: micro f1: 0.769 macro f1: 0.592 samples f1: 0.765\n",
            "epoch:19 iter:1870 test: micro f1: 0.782 macro f1: 0.622 samples f1: 0.777\n",
            "epoch:19 iter:1880 test: micro f1: 0.786 macro f1: 0.610 samples f1: 0.782\n",
            "epoch:19 iter:1890 test: micro f1: 0.791 macro f1: 0.633 samples f1: 0.788\n",
            "epoch:19 iter:1900 test: micro f1: 0.792 macro f1: 0.647 samples f1: 0.789\n",
            "epoch:19 iter:1910 test: micro f1: 0.803 macro f1: 0.657 samples f1: 0.800\n",
            "epoch:19 iter:1920 test: micro f1: 0.808 macro f1: 0.665 samples f1: 0.804\n",
            "epoch:19 iter:1930 test: micro f1: 0.801 macro f1: 0.644 samples f1: 0.798\n",
            "epoch:19 iter:1940 train: loss:0.207\n",
            "saved checkpoint: /content/drive/MyDrive/ml/zalando_checkpoints/checkpoint-000019.pth\n",
            "epoch:20 iter:1940 test: micro f1: 0.793 macro f1: 0.670 samples f1: 0.789\n",
            "epoch:20 iter:1950 test: micro f1: 0.791 macro f1: 0.622 samples f1: 0.788\n",
            "epoch:20 iter:1960 test: micro f1: 0.800 macro f1: 0.649 samples f1: 0.796\n",
            "epoch:20 iter:1970 test: micro f1: 0.808 macro f1: 0.665 samples f1: 0.805\n",
            "epoch:20 iter:1980 test: micro f1: 0.815 macro f1: 0.688 samples f1: 0.812\n",
            "epoch:20 iter:1990 test: micro f1: 0.821 macro f1: 0.695 samples f1: 0.817\n",
            "epoch:20 iter:2000 test: micro f1: 0.830 macro f1: 0.717 samples f1: 0.827\n",
            "epoch:20 iter:2010 test: micro f1: 0.822 macro f1: 0.698 samples f1: 0.819\n",
            "epoch:20 iter:2020 test: micro f1: 0.836 macro f1: 0.717 samples f1: 0.833\n",
            "epoch:20 iter:2030 test: micro f1: 0.830 macro f1: 0.698 samples f1: 0.827\n",
            "epoch:20 iter:2037 train: loss:0.188\n",
            "saved checkpoint: /content/drive/MyDrive/ml/zalando_checkpoints/checkpoint-000020.pth\n",
            "epoch:21 iter:2040 test: micro f1: 0.803 macro f1: 0.691 samples f1: 0.799\n",
            "epoch:21 iter:2050 test: micro f1: 0.816 macro f1: 0.673 samples f1: 0.813\n",
            "epoch:21 iter:2060 test: micro f1: 0.821 macro f1: 0.717 samples f1: 0.818\n",
            "epoch:21 iter:2070 test: micro f1: 0.830 macro f1: 0.696 samples f1: 0.826\n",
            "epoch:21 iter:2080 test: micro f1: 0.830 macro f1: 0.727 samples f1: 0.827\n",
            "epoch:21 iter:2090 test: micro f1: 0.843 macro f1: 0.728 samples f1: 0.840\n",
            "epoch:21 iter:2100 test: micro f1: 0.846 macro f1: 0.736 samples f1: 0.843\n",
            "epoch:21 iter:2110 test: micro f1: 0.858 macro f1: 0.765 samples f1: 0.856\n",
            "epoch:21 iter:2120 test: micro f1: 0.851 macro f1: 0.754 samples f1: 0.849\n",
            "epoch:21 iter:2130 test: micro f1: 0.848 macro f1: 0.733 samples f1: 0.846\n",
            "epoch:21 iter:2134 train: loss:0.171\n",
            "saved checkpoint: /content/drive/MyDrive/ml/zalando_checkpoints/checkpoint-000021.pth\n",
            "epoch:22 iter:2140 test: micro f1: 0.810 macro f1: 0.695 samples f1: 0.806\n",
            "epoch:22 iter:2150 test: micro f1: 0.815 macro f1: 0.706 samples f1: 0.812\n",
            "epoch:22 iter:2160 test: micro f1: 0.846 macro f1: 0.740 samples f1: 0.844\n",
            "epoch:22 iter:2170 test: micro f1: 0.848 macro f1: 0.757 samples f1: 0.845\n",
            "epoch:22 iter:2180 test: micro f1: 0.860 macro f1: 0.770 samples f1: 0.857\n",
            "epoch:22 iter:2190 test: micro f1: 0.857 macro f1: 0.765 samples f1: 0.855\n",
            "epoch:22 iter:2200 test: micro f1: 0.869 macro f1: 0.782 samples f1: 0.867\n",
            "epoch:22 iter:2210 test: micro f1: 0.863 macro f1: 0.789 samples f1: 0.861\n",
            "epoch:22 iter:2220 test: micro f1: 0.869 macro f1: 0.786 samples f1: 0.866\n",
            "epoch:22 iter:2230 test: micro f1: 0.866 macro f1: 0.778 samples f1: 0.864\n",
            "epoch:22 iter:2231 train: loss:0.159\n",
            "saved checkpoint: /content/drive/MyDrive/ml/zalando_checkpoints/checkpoint-000022.pth\n",
            "epoch:23 iter:2240 test: micro f1: 0.830 macro f1: 0.709 samples f1: 0.828\n",
            "epoch:23 iter:2250 test: micro f1: 0.843 macro f1: 0.750 samples f1: 0.840\n",
            "epoch:23 iter:2260 test: micro f1: 0.857 macro f1: 0.773 samples f1: 0.854\n",
            "epoch:23 iter:2270 test: micro f1: 0.872 macro f1: 0.794 samples f1: 0.870\n",
            "epoch:23 iter:2280 test: micro f1: 0.873 macro f1: 0.803 samples f1: 0.870\n",
            "epoch:23 iter:2290 test: micro f1: 0.882 macro f1: 0.812 samples f1: 0.881\n",
            "epoch:23 iter:2300 test: micro f1: 0.878 macro f1: 0.814 samples f1: 0.876\n",
            "epoch:23 iter:2310 test: micro f1: 0.891 macro f1: 0.824 samples f1: 0.889\n",
            "epoch:23 iter:2320 test: micro f1: 0.884 macro f1: 0.817 samples f1: 0.882\n",
            "epoch:23 iter:2328 train: loss:0.145\n",
            "saved checkpoint: /content/drive/MyDrive/ml/zalando_checkpoints/checkpoint-000023.pth\n",
            "epoch:24 iter:2330 test: micro f1: 0.856 macro f1: 0.775 samples f1: 0.854\n",
            "epoch:24 iter:2340 test: micro f1: 0.861 macro f1: 0.779 samples f1: 0.859\n",
            "epoch:24 iter:2350 test: micro f1: 0.874 macro f1: 0.807 samples f1: 0.872\n",
            "epoch:24 iter:2360 test: micro f1: 0.885 macro f1: 0.822 samples f1: 0.883\n",
            "epoch:24 iter:2370 test: micro f1: 0.900 macro f1: 0.839 samples f1: 0.898\n",
            "epoch:24 iter:2380 test: micro f1: 0.906 macro f1: 0.848 samples f1: 0.904\n",
            "epoch:24 iter:2390 test: micro f1: 0.902 macro f1: 0.850 samples f1: 0.901\n",
            "epoch:24 iter:2400 test: micro f1: 0.909 macro f1: 0.856 samples f1: 0.908\n",
            "epoch:24 iter:2410 test: micro f1: 0.907 macro f1: 0.853 samples f1: 0.906\n",
            "epoch:24 iter:2420 test: micro f1: 0.909 macro f1: 0.861 samples f1: 0.907\n",
            "epoch:24 iter:2425 train: loss:0.125\n",
            "saved checkpoint: /content/drive/MyDrive/ml/zalando_checkpoints/checkpoint-000024.pth\n",
            "epoch:25 iter:2430 test: micro f1: 0.887 macro f1: 0.828 samples f1: 0.885\n",
            "epoch:25 iter:2440 test: micro f1: 0.889 macro f1: 0.825 samples f1: 0.888\n",
            "epoch:25 iter:2450 test: micro f1: 0.897 macro f1: 0.844 samples f1: 0.896\n",
            "epoch:25 iter:2460 test: micro f1: 0.910 macro f1: 0.858 samples f1: 0.909\n",
            "epoch:25 iter:2470 test: micro f1: 0.916 macro f1: 0.871 samples f1: 0.915\n",
            "epoch:25 iter:2480 test: micro f1: 0.919 macro f1: 0.875 samples f1: 0.918\n",
            "epoch:25 iter:2490 test: micro f1: 0.926 macro f1: 0.884 samples f1: 0.926\n",
            "epoch:25 iter:2500 test: micro f1: 0.927 macro f1: 0.885 samples f1: 0.926\n",
            "epoch:25 iter:2510 test: micro f1: 0.931 macro f1: 0.896 samples f1: 0.930\n",
            "epoch:25 iter:2520 test: micro f1: 0.924 macro f1: 0.885 samples f1: 0.923\n",
            "epoch:25 iter:2522 train: loss:0.110\n",
            "saved checkpoint: /content/drive/MyDrive/ml/zalando_checkpoints/checkpoint-000025.pth\n",
            "epoch:26 iter:2530 test: micro f1: 0.888 macro f1: 0.832 samples f1: 0.887\n",
            "epoch:26 iter:2540 test: micro f1: 0.900 macro f1: 0.836 samples f1: 0.898\n",
            "epoch:26 iter:2550 test: micro f1: 0.902 macro f1: 0.858 samples f1: 0.900\n",
            "epoch:26 iter:2560 test: micro f1: 0.919 macro f1: 0.876 samples f1: 0.918\n",
            "epoch:26 iter:2570 test: micro f1: 0.923 macro f1: 0.884 samples f1: 0.922\n",
            "epoch:26 iter:2580 test: micro f1: 0.928 macro f1: 0.889 samples f1: 0.927\n",
            "epoch:26 iter:2590 test: micro f1: 0.929 macro f1: 0.888 samples f1: 0.928\n",
            "epoch:26 iter:2600 test: micro f1: 0.933 macro f1: 0.898 samples f1: 0.932\n",
            "epoch:26 iter:2610 test: micro f1: 0.938 macro f1: 0.907 samples f1: 0.938\n",
            "epoch:26 iter:2619 train: loss:0.101\n",
            "saved checkpoint: /content/drive/MyDrive/ml/zalando_checkpoints/checkpoint-000026.pth\n",
            "epoch:27 iter:2620 test: micro f1: 0.921 macro f1: 0.886 samples f1: 0.920\n",
            "epoch:27 iter:2630 test: micro f1: 0.922 macro f1: 0.882 samples f1: 0.921\n",
            "epoch:27 iter:2640 test: micro f1: 0.932 macro f1: 0.903 samples f1: 0.931\n",
            "epoch:27 iter:2650 test: micro f1: 0.934 macro f1: 0.904 samples f1: 0.933\n",
            "epoch:27 iter:2660 test: micro f1: 0.942 macro f1: 0.912 samples f1: 0.941\n",
            "epoch:27 iter:2670 test: micro f1: 0.946 macro f1: 0.918 samples f1: 0.945\n",
            "epoch:27 iter:2680 test: micro f1: 0.946 macro f1: 0.921 samples f1: 0.945\n",
            "epoch:27 iter:2690 test: micro f1: 0.945 macro f1: 0.916 samples f1: 0.945\n",
            "epoch:27 iter:2700 test: micro f1: 0.950 macro f1: 0.924 samples f1: 0.950\n",
            "epoch:27 iter:2710 test: micro f1: 0.952 macro f1: 0.930 samples f1: 0.951\n",
            "epoch:27 iter:2716 train: loss:0.082\n",
            "saved checkpoint: /content/drive/MyDrive/ml/zalando_checkpoints/checkpoint-000027.pth\n",
            "epoch:28 iter:2720 test: micro f1: 0.915 macro f1: 0.882 samples f1: 0.914\n",
            "epoch:28 iter:2730 test: micro f1: 0.925 macro f1: 0.889 samples f1: 0.924\n",
            "epoch:28 iter:2740 test: micro f1: 0.939 macro f1: 0.912 samples f1: 0.938\n",
            "epoch:28 iter:2750 test: micro f1: 0.947 macro f1: 0.920 samples f1: 0.946\n",
            "epoch:28 iter:2760 test: micro f1: 0.948 macro f1: 0.923 samples f1: 0.948\n",
            "epoch:28 iter:2770 test: micro f1: 0.951 macro f1: 0.930 samples f1: 0.950\n",
            "epoch:28 iter:2780 test: micro f1: 0.949 macro f1: 0.926 samples f1: 0.948\n",
            "epoch:28 iter:2790 test: micro f1: 0.956 macro f1: 0.935 samples f1: 0.956\n",
            "epoch:28 iter:2800 test: micro f1: 0.957 macro f1: 0.937 samples f1: 0.956\n",
            "epoch:28 iter:2810 test: micro f1: 0.957 macro f1: 0.937 samples f1: 0.957\n",
            "epoch:28 iter:2813 train: loss:0.075\n",
            "saved checkpoint: /content/drive/MyDrive/ml/zalando_checkpoints/checkpoint-000028.pth\n",
            "epoch:29 iter:2820 test: micro f1: 0.924 macro f1: 0.898 samples f1: 0.922\n",
            "epoch:29 iter:2830 test: micro f1: 0.937 macro f1: 0.905 samples f1: 0.936\n",
            "epoch:29 iter:2840 test: micro f1: 0.948 macro f1: 0.925 samples f1: 0.947\n",
            "epoch:29 iter:2850 test: micro f1: 0.955 macro f1: 0.935 samples f1: 0.954\n",
            "epoch:29 iter:2860 test: micro f1: 0.954 macro f1: 0.933 samples f1: 0.954\n",
            "epoch:29 iter:2870 test: micro f1: 0.956 macro f1: 0.937 samples f1: 0.956\n",
            "epoch:29 iter:2880 test: micro f1: 0.958 macro f1: 0.941 samples f1: 0.957\n",
            "epoch:29 iter:2890 test: micro f1: 0.960 macro f1: 0.943 samples f1: 0.959\n",
            "epoch:29 iter:2900 test: micro f1: 0.961 macro f1: 0.944 samples f1: 0.960\n",
            "epoch:29 iter:2910 train: loss:0.067\n",
            "saved checkpoint: /content/drive/MyDrive/ml/zalando_checkpoints/checkpoint-000029.pth\n",
            "epoch:30 iter:2910 test: micro f1: 0.956 macro f1: 0.936 samples f1: 0.956\n",
            "epoch:30 iter:2920 test: micro f1: 0.943 macro f1: 0.914 samples f1: 0.943\n",
            "epoch:30 iter:2930 test: micro f1: 0.951 macro f1: 0.933 samples f1: 0.951\n",
            "epoch:30 iter:2940 test: micro f1: 0.953 macro f1: 0.934 samples f1: 0.952\n",
            "epoch:30 iter:2950 test: micro f1: 0.960 macro f1: 0.941 samples f1: 0.959\n",
            "epoch:30 iter:2960 test: micro f1: 0.962 macro f1: 0.946 samples f1: 0.962\n",
            "epoch:30 iter:2970 test: micro f1: 0.966 macro f1: 0.952 samples f1: 0.966\n",
            "epoch:30 iter:2980 test: micro f1: 0.969 macro f1: 0.956 samples f1: 0.969\n",
            "epoch:30 iter:2990 test: micro f1: 0.970 macro f1: 0.957 samples f1: 0.970\n",
            "epoch:30 iter:3000 test: micro f1: 0.965 macro f1: 0.950 samples f1: 0.965\n",
            "epoch:30 iter:3007 train: loss:0.059\n",
            "saved checkpoint: /content/drive/MyDrive/ml/zalando_checkpoints/checkpoint-000030.pth\n"
          ],
          "name": "stdout"
        }
      ]
    },
    {
      "cell_type": "code",
      "metadata": {
        "colab": {
          "base_uri": "https://localhost:8080/"
        },
        "id": "8kyiB9yZ1e9W",
        "outputId": "cba50698-fcfb-41e1-9f9a-d82276907965"
      },
      "source": [
        "checkpoint = torch.load(os.path.join('/content/drive/MyDrive/ml/zalando_checkpoints/', 'checkpoint-{:06d}.pth'.format(30)))\n",
        "model.load_state_dict(checkpoint)"
      ],
      "execution_count": 23,
      "outputs": [
        {
          "output_type": "execute_result",
          "data": {
            "text/plain": [
              "<All keys matched successfully>"
            ]
          },
          "metadata": {
            "tags": []
          },
          "execution_count": 23
        }
      ]
    },
    {
      "cell_type": "markdown",
      "metadata": {
        "id": "UZ9AhGCJ2P2C"
      },
      "source": [
        "6. Predicting tags"
      ]
    },
    {
      "cell_type": "code",
      "metadata": {
        "id": "A7T_Pelf3Le2"
      },
      "source": [
        "def imshow(inputs):\n",
        "    img = inputs.transpose(1, 2, 0)\n",
        "    mean = np.array([0.5, 0.5, 0.5])\n",
        "    std = np.array([0.5, 0.5, 0.5])\n",
        "    img = std * img + mean\n",
        "    inp = np.clip(img, 0, 1)\n",
        "    plt.imshow(img)"
      ],
      "execution_count": 24,
      "outputs": []
    },
    {
      "cell_type": "code",
      "metadata": {
        "id": "xHYaOJttjX-W"
      },
      "source": [
        "def visualize_model(model, num_images=6):\n",
        "    model.eval()\n",
        "\n",
        "    with torch.no_grad():\n",
        "        for i, (inputs, labels) in enumerate(dataloaders['val']):\n",
        "            inputs = inputs.to(device)\n",
        "            labels = labels.to(device)\n",
        "\n",
        "            outputs = model(inputs)\n",
        "            preds = outputs.cpu()\n",
        "            preds = np.array(preds)[0]\n",
        "            labels = labels.cpu().numpy()\n",
        "\n",
        "            top3 = np.sort(preds)[::-1][min(2, len(preds)-1)]\n",
        "            preds[preds < top3] = 0\n",
        "            preds[preds >= top3] = 1\n",
        "\n",
        "            tags = mlb.inverse_transform(np.array([preds]))[0][:3]\n",
        "            tags_real = mlb.inverse_transform(np.array([labels[i]]))[0][:3]\n",
        "\n",
        "            plt.subplot(2, 3, i + 1)\n",
        "            plt.axis('off')\n",
        "            plt.title('Predicted: ' + ', '.join(map(str, tags)) + '\\n' + 'Real: ' + ', '.join(tags_real))\n",
        "            img = np.array(inputs.cpu().data[i])\n",
        "            imshow(img)\n",
        "\n",
        "            if i >= num_images - 1:\n",
        "                return"
      ],
      "execution_count": 25,
      "outputs": []
    },
    {
      "cell_type": "code",
      "metadata": {
        "id": "6Zzk5J5ljd3c",
        "colab": {
          "base_uri": "https://localhost:8080/",
          "height": 545
        },
        "outputId": "5463484e-775f-46dd-ddb6-ad2a4bee831b"
      },
      "source": [
        "fig, ax = plt.subplots(figsize=(12,8))\n",
        "plt.subplots_adjust(hspace=.5, wspace=.5)\n",
        "visualize_model(model)"
      ],
      "execution_count": 26,
      "outputs": [
        {
          "output_type": "stream",
          "text": [
            "/usr/local/lib/python3.7/dist-packages/torch/utils/data/dataloader.py:477: UserWarning: This DataLoader will create 4 worker processes in total. Our suggested max number of worker in current system is 2, which is smaller than what this DataLoader is going to create. Please be aware that excessive worker creation might get DataLoader running slow or even freeze, lower the worker number to avoid potential slowness/freeze if necessary.\n",
            "  cpuset_checked))\n"
          ],
          "name": "stderr"
        },
        {
          "output_type": "display_data",
          "data": {
            "image/png": "[encoded data removed]",
            "text/plain": [
              "<Figure size 864x576 with 6 Axes>"
            ]
          },
          "metadata": {
            "tags": [],
            "needs_background": "light"
          }
        }
      ]
    }
  ]
}