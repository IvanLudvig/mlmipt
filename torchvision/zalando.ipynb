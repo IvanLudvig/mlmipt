{
  "nbformat": 4,
  "nbformat_minor": 0,
  "metadata": {
    "colab": {
      "name": "zalando.ipynb",
      "provenance": [],
      "collapsed_sections": [],
      "mount_file_id": "1FSyDzpufef64lIjYPNCBz8csy5KaYV2j",
      "authorship_tag": "ABX9TyND2o6nxQtczNj0foqwJu1s",
      "include_colab_link": true
    },
    "kernelspec": {
      "name": "python3",
      "display_name": "Python 3"
    },
    "language_info": {
      "name": "python"
    },
    "accelerator": "GPU"
  },
  "cells": [
    {
      "cell_type": "markdown",
      "metadata": {
        "id": "view-in-github",
        "colab_type": "text"
      },
      "source": [
        "<a href=\"https://colab.research.google.com/github/IvanLudvig/mlmipt/blob/master/torchvision/zalando.ipynb\" target=\"_parent\"><img src=\"https://colab.research.google.com/assets/colab-badge.svg\" alt=\"Open In Colab\"/></a>"
      ]
    },
    {
      "cell_type": "code",
      "metadata": {
        "colab": {
          "base_uri": "https://localhost:8080/"
        },
        "id": "Im9h87WWZxXS",
        "outputId": "5358dd66-7099-4210-af5a-83ccbef6cff9"
      },
      "source": [
        "import pandas as pd\n",
        "import numpy as np\n",
        "from matplotlib import pyplot as plt\n",
        "from sklearn.feature_extraction.text import CountVectorizer, TfidfVectorizer\n",
        "from sklearn.model_selection import train_test_split\n",
        "import nltk\n",
        "from nltk.corpus import stopwords\n",
        "from sklearn.metrics import jaccard_score\n",
        "from IPython.display import Image, display, HTML\n",
        "import random\n",
        "from textblob import TextBlob\n",
        "!pip install googletrans==3.1.0a0\n",
        "from googletrans import Translator\n",
        "from google.colab import files, drive\n",
        "import torch.nn as nn\n",
        "import torch\n",
        "from torchvision import datasets, models, transforms\n",
        "import torch.optim as optim\n",
        "import requests\n",
        "from PIL import Image as PilImage\n",
        "from io import BytesIO\n",
        "from tensorflow.keras.preprocessing.image import load_img, img_to_array\n",
        "from torchvision import transforms as tf\n",
        "import torchvision\n",
        "import time\n",
        "import os\n",
        "import copy\n",
        "from sklearn.metrics.pairwise import cosine_similarity\n",
        "from torch.optim import lr_scheduler\n",
        "from torch.utils.data import Dataset\n",
        "from sklearn.preprocessing import LabelEncoder, OneHotEncoder, MultiLabelBinarizer\n",
        "import sklearn.metrics as metrics"
      ],
      "execution_count": 1,
      "outputs": [
        {
          "output_type": "stream",
          "text": [
            "Requirement already satisfied: googletrans==3.1.0a0 in /usr/local/lib/python3.7/dist-packages (3.1.0a0)\n",
            "Requirement already satisfied: httpx==0.13.3 in /usr/local/lib/python3.7/dist-packages (from googletrans==3.1.0a0) (0.13.3)\n",
            "Requirement already satisfied: httpcore==0.9.* in /usr/local/lib/python3.7/dist-packages (from httpx==0.13.3->googletrans==3.1.0a0) (0.9.1)\n",
            "Requirement already satisfied: chardet==3.* in /usr/local/lib/python3.7/dist-packages (from httpx==0.13.3->googletrans==3.1.0a0) (3.0.4)\n",
            "Requirement already satisfied: certifi in /usr/local/lib/python3.7/dist-packages (from httpx==0.13.3->googletrans==3.1.0a0) (2020.12.5)\n",
            "Requirement already satisfied: hstspreload in /usr/local/lib/python3.7/dist-packages (from httpx==0.13.3->googletrans==3.1.0a0) (2020.12.22)\n",
            "Requirement already satisfied: idna==2.* in /usr/local/lib/python3.7/dist-packages (from httpx==0.13.3->googletrans==3.1.0a0) (2.10)\n",
            "Requirement already satisfied: rfc3986<2,>=1.3 in /usr/local/lib/python3.7/dist-packages (from httpx==0.13.3->googletrans==3.1.0a0) (1.4.0)\n",
            "Requirement already satisfied: sniffio in /usr/local/lib/python3.7/dist-packages (from httpx==0.13.3->googletrans==3.1.0a0) (1.2.0)\n",
            "Requirement already satisfied: h2==3.* in /usr/local/lib/python3.7/dist-packages (from httpcore==0.9.*->httpx==0.13.3->googletrans==3.1.0a0) (3.2.0)\n",
            "Requirement already satisfied: h11<0.10,>=0.8 in /usr/local/lib/python3.7/dist-packages (from httpcore==0.9.*->httpx==0.13.3->googletrans==3.1.0a0) (0.9.0)\n",
            "Requirement already satisfied: hyperframe<6,>=5.2.0 in /usr/local/lib/python3.7/dist-packages (from h2==3.*->httpcore==0.9.*->httpx==0.13.3->googletrans==3.1.0a0) (5.2.0)\n",
            "Requirement already satisfied: hpack<4,>=3.0 in /usr/local/lib/python3.7/dist-packages (from h2==3.*->httpcore==0.9.*->httpx==0.13.3->googletrans==3.1.0a0) (3.0.0)\n"
          ],
          "name": "stdout"
        }
      ]
    },
    {
      "cell_type": "code",
      "metadata": {
        "colab": {
          "base_uri": "https://localhost:8080/"
        },
        "id": "pA1o2-_qeaq7",
        "outputId": "62f097da-cde0-4ed4-ab60-c232570e1933"
      },
      "source": [
        "nltk.download('stopwords')\n",
        "nltk.download('punkt')\n",
        "nltk.download('averaged_perceptron_tagger')\n",
        "nltk.download('brown')"
      ],
      "execution_count": 2,
      "outputs": [
        {
          "output_type": "stream",
          "text": [
            "[nltk_data] Downloading package stopwords to /root/nltk_data...\n",
            "[nltk_data]   Package stopwords is already up-to-date!\n",
            "[nltk_data] Downloading package punkt to /root/nltk_data...\n",
            "[nltk_data]   Package punkt is already up-to-date!\n",
            "[nltk_data] Downloading package averaged_perceptron_tagger to\n",
            "[nltk_data]     /root/nltk_data...\n",
            "[nltk_data]   Package averaged_perceptron_tagger is already up-to-\n",
            "[nltk_data]       date!\n",
            "[nltk_data] Downloading package brown to /root/nltk_data...\n",
            "[nltk_data]   Package brown is already up-to-date!\n"
          ],
          "name": "stdout"
        },
        {
          "output_type": "execute_result",
          "data": {
            "text/plain": [
              "True"
            ]
          },
          "metadata": {
            "tags": []
          },
          "execution_count": 2
        }
      ]
    },
    {
      "cell_type": "code",
      "metadata": {
        "id": "8M12Y6og5xM_"
      },
      "source": [
        "df = pd.read_csv('/content/drive/MyDrive/ml/zalando_english_1.csv')"
      ],
      "execution_count": 3,
      "outputs": []
    },
    {
      "cell_type": "code",
      "metadata": {
        "id": "WpeHSPHurs1M"
      },
      "source": [
        "def extract_nouns(text):\n",
        "  tokenized = nltk.word_tokenize(text)\n",
        "  return [word.lower() for (word, pos) in nltk.pos_tag(tokenized) if pos[:2] == 'NN']\n",
        "\n",
        "def extract_adjs(text):\n",
        "  tokenized = nltk.word_tokenize(text)\n",
        "  return [word.lower() for (word, pos) in nltk.pos_tag(tokenized) if pos[:2] == 'JJ']\n",
        "\n",
        "df['nouns'] = df['descriptions'].apply(lambda v: extract_nouns(v))\n",
        "df['adjs'] = df['descriptions'].apply(lambda v: extract_adjs(v))"
      ],
      "execution_count": 4,
      "outputs": []
    },
    {
      "cell_type": "code",
      "metadata": {
        "colab": {
          "base_uri": "https://localhost:8080/",
          "height": 206
        },
        "id": "GO124VGHhgUS",
        "outputId": "b4c7f61b-819f-4e1c-e339-1f16957f9b8b"
      },
      "source": [
        "df.head()"
      ],
      "execution_count": 5,
      "outputs": [
        {
          "output_type": "execute_result",
          "data": {
            "text/html": [
              "<div>\n",
              "<style scoped>\n",
              "    .dataframe tbody tr th:only-of-type {\n",
              "        vertical-align: middle;\n",
              "    }\n",
              "\n",
              "    .dataframe tbody tr th {\n",
              "        vertical-align: top;\n",
              "    }\n",
              "\n",
              "    .dataframe thead th {\n",
              "        text-align: right;\n",
              "    }\n",
              "</style>\n",
              "<table border=\"1\" class=\"dataframe\">\n",
              "  <thead>\n",
              "    <tr style=\"text-align: right;\">\n",
              "      <th></th>\n",
              "      <th>Unnamed: 0</th>\n",
              "      <th>level_0</th>\n",
              "      <th>index</th>\n",
              "      <th>url</th>\n",
              "      <th>descriptions</th>\n",
              "      <th>split</th>\n",
              "      <th>nouns</th>\n",
              "      <th>adjs</th>\n",
              "    </tr>\n",
              "  </thead>\n",
              "  <tbody>\n",
              "    <tr>\n",
              "      <th>0</th>\n",
              "      <td>0</td>\n",
              "      <td>0</td>\n",
              "      <td>0</td>\n",
              "      <td>https://i2.ztat.net/large/Y0/32/1C/00/UE/11/Y0...</td>\n",
              "      <td>short, sexy, summer, sexy, party, yellow dress...</td>\n",
              "      <td>7</td>\n",
              "      <td>[summer, sexy, party, dress, sleeves, yellow, ...</td>\n",
              "      <td>[short, sexy, yellow, shoulder-free, fabric, y...</td>\n",
              "    </tr>\n",
              "    <tr>\n",
              "      <th>1</th>\n",
              "      <td>1</td>\n",
              "      <td>1</td>\n",
              "      <td>1</td>\n",
              "      <td>https://i6.ztat.net/large/V1/02/1C/0T/QK/11/V1...</td>\n",
              "      <td>blue knee-length ladies dress with white dots ...</td>\n",
              "      <td>6</td>\n",
              "      <td>[ladies, dress, dots, pattern, round, neckline...</td>\n",
              "      <td>[blue, knee-length, white, short, white, polka...</td>\n",
              "    </tr>\n",
              "    <tr>\n",
              "      <th>2</th>\n",
              "      <td>2</td>\n",
              "      <td>2</td>\n",
              "      <td>2</td>\n",
              "      <td>https://i6.ztat.net/large/TF/72/1C/01/5K/11/TF...</td>\n",
              "      <td>This product is a dress. It's striped gray and...</td>\n",
              "      <td>2</td>\n",
              "      <td>[product, dress, blue, beach, dress, knees, ro...</td>\n",
              "      <td>[striped, gray, white, light, white, gray, whi...</td>\n",
              "    </tr>\n",
              "    <tr>\n",
              "      <th>3</th>\n",
              "      <td>3</td>\n",
              "      <td>3</td>\n",
              "      <td>3</td>\n",
              "      <td>https://i2.ztat.net/large/VE/12/1C/14/9C/11/VE...</td>\n",
              "      <td>Thigh-length fabric dress in gray with hip poc...</td>\n",
              "      <td>7</td>\n",
              "      <td>[thigh-length, fabric, dress, pockets, round, ...</td>\n",
              "      <td>[gray, hip, elbow-length, casual, three-fold, ...</td>\n",
              "    </tr>\n",
              "    <tr>\n",
              "      <th>4</th>\n",
              "      <td>4</td>\n",
              "      <td>4</td>\n",
              "      <td>4</td>\n",
              "      <td>https://i6.ztat.net/large/S2/92/1C/0B/AK/11/S2...</td>\n",
              "      <td>It is an elegant dark blue medium length dress...</td>\n",
              "      <td>7</td>\n",
              "      <td>[dark, medium, length, dress, sleeves, top, ro...</td>\n",
              "      <td>[elegant, blue, black, figure-hugging, knee-le...</td>\n",
              "    </tr>\n",
              "  </tbody>\n",
              "</table>\n",
              "</div>"
            ],
            "text/plain": [
              "   Unnamed: 0  ...                                               adjs\n",
              "0           0  ...  [short, sexy, yellow, shoulder-free, fabric, y...\n",
              "1           1  ...  [blue, knee-length, white, short, white, polka...\n",
              "2           2  ...  [striped, gray, white, light, white, gray, whi...\n",
              "3           3  ...  [gray, hip, elbow-length, casual, three-fold, ...\n",
              "4           4  ...  [elegant, blue, black, figure-hugging, knee-le...\n",
              "\n",
              "[5 rows x 8 columns]"
            ]
          },
          "metadata": {
            "tags": []
          },
          "execution_count": 5
        }
      ]
    },
    {
      "cell_type": "code",
      "metadata": {
        "id": "HDUNsQ9Vf7qF"
      },
      "source": [
        "def top_tags(tags):\n",
        "    counter = TfidfVectorizer(analyzer='word', stop_words='english')\n",
        "    try:\n",
        "      counter.fit(tags)\n",
        "    except ValueError:\n",
        "      return []\n",
        "\n",
        "    matrix_count = counter.fit_transform(tags).toarray()\n",
        "    scores = matrix_count.sum(axis=1)\n",
        "    sorted_ids = np.argsort(scores).flatten()[::-1]\n",
        "\n",
        "    return np.array(tags)[sorted_ids[:10]]\n",
        "\n",
        "df['nouns'] = df['nouns'].apply(lambda x: top_tags(x))\n",
        "df['adjs'] = df['adjs'].apply(lambda x: top_tags(x))"
      ],
      "execution_count": 6,
      "outputs": []
    },
    {
      "cell_type": "code",
      "metadata": {
        "colab": {
          "base_uri": "https://localhost:8080/"
        },
        "id": "7oKAzvVdsehz",
        "outputId": "55f1a189-1222-4fa6-d9ee-9465738c7ed3"
      },
      "source": [
        "num_classes = 25\n",
        "all_nouns = df['nouns'].to_numpy()\n",
        "all_nouns = np.concatenate(all_nouns)\n",
        "values, counts = np.unique(all_nouns, return_counts=True)\n",
        "\n",
        "ind = np.argpartition(-counts, kth=num_classes)[:num_classes]\n",
        "noun_classes = values[ind]\n",
        "noun_classes"
      ],
      "execution_count": 7,
      "outputs": [
        {
          "output_type": "execute_result",
          "data": {
            "text/plain": [
              "array(['knee', 'sleeves', 'arms', 'length', 'round', 'collar', 'mini',\n",
              "       'waist', 'sleeveless', 'dress', 'belt', 'v-neck', 'summer',\n",
              "       'pattern', 'cut', 'knees', 'skirt', 'blue', 'neckline',\n",
              "       'knee-length', 'straps', 'lace', 'shoulders', 'neck', 'fabric'],\n",
              "      dtype='<U27')"
            ]
          },
          "metadata": {
            "tags": []
          },
          "execution_count": 7
        }
      ]
    },
    {
      "cell_type": "code",
      "metadata": {
        "colab": {
          "base_uri": "https://localhost:8080/"
        },
        "id": "SosGCQenJJ8V",
        "outputId": "8d79e9c8-e3df-4910-fbf9-3b6981933097"
      },
      "source": [
        "num_classes = 30\n",
        "all_adjs = df['adjs'].to_numpy()\n",
        "all_adjs = np.concatenate(all_adjs)\n",
        "values, counts = np.unique(all_adjs, return_counts=True)\n",
        "\n",
        "ind = np.argpartition(-counts, kth=num_classes)[:num_classes]\n",
        "adjs_classes = values[ind]\n",
        "adjs_classes"
      ],
      "execution_count": 8,
      "outputs": [
        {
          "output_type": "execute_result",
          "data": {
            "text/plain": [
              "array(['tight', 'narrow', 'blue', 'white', 'small', 'floral', 'free',\n",
              "       'wide', 'half-length', 'sleeveless', 'medium-length', 'light',\n",
              "       'gray', 'deep', 'long', 'red', 'black', 'shoulder-free', 'dark',\n",
              "       'knee-length', 'colorful', 'figure-hugging', 'short', 'mid-thigh',\n",
              "       'large', 'high', 'elegant', 'green', 'fabric', 'floor-length'],\n",
              "      dtype='<U27')"
            ]
          },
          "metadata": {
            "tags": []
          },
          "execution_count": 8
        }
      ]
    },
    {
      "cell_type": "code",
      "metadata": {
        "id": "HkYwS9uNuDhD"
      },
      "source": [
        "df['nouns'] = df['nouns'].map(lambda v: noun_classes[np.in1d(noun_classes, v)]).values\n",
        "df['adjs'] = df['adjs'].map(lambda v: adjs_classes[np.in1d(adjs_classes, v)]).values"
      ],
      "execution_count": 9,
      "outputs": []
    },
    {
      "cell_type": "code",
      "metadata": {
        "id": "7LkLBTMGuo5m"
      },
      "source": [
        "df = df[df['nouns'].map(len) >= 1]\n",
        "df = df[df['adjs'].map(len) >= 1]"
      ],
      "execution_count": 10,
      "outputs": []
    },
    {
      "cell_type": "code",
      "metadata": {
        "colab": {
          "base_uri": "https://localhost:8080/"
        },
        "id": "G7RSYezkYGKD",
        "outputId": "edabbfbf-103c-403a-94ec-0cdb7a6e0e24"
      },
      "source": [
        "!unzip /content/drive/MyDrive/ml/zalando_img_224.zip"
      ],
      "execution_count": 11,
      "outputs": [
        {
          "output_type": "stream",
          "text": [
            "Archive:  /content/drive/MyDrive/ml/zalando_img_224.zip\n",
            "replace zalando_img_224/Y0121C07G-K11@12.jpg? [y]es, [n]o, [A]ll, [N]one, [r]ename: n\n",
            "replace zalando_img_224/V1021C0RO-B11@14.jpg? [y]es, [n]o, [A]ll, [N]one, [r]ename: N\n"
          ],
          "name": "stdout"
        }
      ]
    },
    {
      "cell_type": "code",
      "metadata": {
        "id": "5rEtZpxDp8jA"
      },
      "source": [
        "loaded_images = []\n",
        "\n",
        "my_transforms = transforms.Compose([transforms.Resize((224, 224)), transforms.ToTensor(), transforms.Normalize((0.5, 0.5, 0.5), (0.5, 0.5, 0.5))])\n",
        "\n",
        "for i, url in enumerate(df['url'].values):\n",
        "    filename = url.split('/')[-1]\n",
        "    img = PilImage.open(f\"/content/zalando_img_224/{filename}\")\n",
        "    img_tensor = my_transforms(img.convert('RGB'))\n",
        "    loaded_images.append(img_tensor)"
      ],
      "execution_count": null,
      "outputs": []
    },
    {
      "cell_type": "code",
      "metadata": {
        "colab": {
          "base_uri": "https://localhost:8080/"
        },
        "id": "Nd0db4qLt4Cg",
        "outputId": "5b236a74-eaf5-4fb4-c1fb-48f2a5ec8368"
      },
      "source": [
        "len(loaded_images)"
      ],
      "execution_count": 13,
      "outputs": [
        {
          "output_type": "execute_result",
          "data": {
            "text/plain": [
              "8789"
            ]
          },
          "metadata": {
            "tags": []
          },
          "execution_count": 13
        }
      ]
    },
    {
      "cell_type": "code",
      "metadata": {
        "colab": {
          "base_uri": "https://localhost:8080/",
          "height": 424
        },
        "id": "GEvJXoX-qrtO",
        "outputId": "c6e62db8-0185-40f9-be01-35c9a9a01284"
      },
      "source": [
        "df"
      ],
      "execution_count": 14,
      "outputs": [
        {
          "output_type": "execute_result",
          "data": {
            "text/html": [
              "<div>\n",
              "<style scoped>\n",
              "    .dataframe tbody tr th:only-of-type {\n",
              "        vertical-align: middle;\n",
              "    }\n",
              "\n",
              "    .dataframe tbody tr th {\n",
              "        vertical-align: top;\n",
              "    }\n",
              "\n",
              "    .dataframe thead th {\n",
              "        text-align: right;\n",
              "    }\n",
              "</style>\n",
              "<table border=\"1\" class=\"dataframe\">\n",
              "  <thead>\n",
              "    <tr style=\"text-align: right;\">\n",
              "      <th></th>\n",
              "      <th>Unnamed: 0</th>\n",
              "      <th>level_0</th>\n",
              "      <th>index</th>\n",
              "      <th>url</th>\n",
              "      <th>descriptions</th>\n",
              "      <th>split</th>\n",
              "      <th>nouns</th>\n",
              "      <th>adjs</th>\n",
              "    </tr>\n",
              "  </thead>\n",
              "  <tbody>\n",
              "    <tr>\n",
              "      <th>0</th>\n",
              "      <td>0</td>\n",
              "      <td>0</td>\n",
              "      <td>0</td>\n",
              "      <td>https://i2.ztat.net/large/Y0/32/1C/00/UE/11/Y0...</td>\n",
              "      <td>short, sexy, summer, sexy, party, yellow dress...</td>\n",
              "      <td>7</td>\n",
              "      <td>[sleeves, length, dress, knee-length, straps]</td>\n",
              "      <td>[wide, sleeveless, deep, shoulder-free]</td>\n",
              "    </tr>\n",
              "    <tr>\n",
              "      <th>1</th>\n",
              "      <td>1</td>\n",
              "      <td>1</td>\n",
              "      <td>1</td>\n",
              "      <td>https://i6.ztat.net/large/V1/02/1C/0T/QK/11/V1...</td>\n",
              "      <td>blue knee-length ladies dress with white dots ...</td>\n",
              "      <td>6</td>\n",
              "      <td>[sleeves, round, dress, pattern, skirt, blue, ...</td>\n",
              "      <td>[white, knee-length, short]</td>\n",
              "    </tr>\n",
              "    <tr>\n",
              "      <th>2</th>\n",
              "      <td>2</td>\n",
              "      <td>2</td>\n",
              "      <td>2</td>\n",
              "      <td>https://i6.ztat.net/large/TF/72/1C/01/5K/11/TF...</td>\n",
              "      <td>This product is a dress. It's striped gray and...</td>\n",
              "      <td>2</td>\n",
              "      <td>[round, dress, knees, blue, neckline]</td>\n",
              "      <td>[white, small, gray, black]</td>\n",
              "    </tr>\n",
              "    <tr>\n",
              "      <th>3</th>\n",
              "      <td>3</td>\n",
              "      <td>3</td>\n",
              "      <td>3</td>\n",
              "      <td>https://i2.ztat.net/large/VE/12/1C/14/9C/11/VE...</td>\n",
              "      <td>Thigh-length fabric dress in gray with hip poc...</td>\n",
              "      <td>7</td>\n",
              "      <td>[sleeves, length, round, dress, neckline, fabric]</td>\n",
              "      <td>[half-length, light, gray, short]</td>\n",
              "    </tr>\n",
              "    <tr>\n",
              "      <th>4</th>\n",
              "      <td>4</td>\n",
              "      <td>4</td>\n",
              "      <td>4</td>\n",
              "      <td>https://i6.ztat.net/large/S2/92/1C/0B/AK/11/S2...</td>\n",
              "      <td>It is an elegant dark blue medium length dress...</td>\n",
              "      <td>7</td>\n",
              "      <td>[sleeves, length, round, dress, cut, neckline,...</td>\n",
              "      <td>[blue, dark, knee-length, figure-hugging, short]</td>\n",
              "    </tr>\n",
              "    <tr>\n",
              "      <th>...</th>\n",
              "      <td>...</td>\n",
              "      <td>...</td>\n",
              "      <td>...</td>\n",
              "      <td>...</td>\n",
              "      <td>...</td>\n",
              "      <td>...</td>\n",
              "      <td>...</td>\n",
              "      <td>...</td>\n",
              "    </tr>\n",
              "    <tr>\n",
              "      <th>8787</th>\n",
              "      <td>8787</td>\n",
              "      <td>8787</td>\n",
              "      <td>8788</td>\n",
              "      <td>https://i1.ztat.net/large/GS/12/1C/04/NC/11/GS...</td>\n",
              "      <td>It is a military green dress with a round neck...</td>\n",
              "      <td>0</td>\n",
              "      <td>[round, sleeveless, dress, neckline]</td>\n",
              "      <td>[wide, sleeveless, deep, long, dark]</td>\n",
              "    </tr>\n",
              "    <tr>\n",
              "      <th>8788</th>\n",
              "      <td>8788</td>\n",
              "      <td>8788</td>\n",
              "      <td>8789</td>\n",
              "      <td>https://i2.ztat.net/large/MF/92/1C/0D/OK/11/MF...</td>\n",
              "      <td>Short blue mini dress with knotted straps, sle...</td>\n",
              "      <td>8</td>\n",
              "      <td>[length, mini, sleeveless, dress, blue, neckli...</td>\n",
              "      <td>[free, black, short, mid-thigh]</td>\n",
              "    </tr>\n",
              "    <tr>\n",
              "      <th>8789</th>\n",
              "      <td>8789</td>\n",
              "      <td>8789</td>\n",
              "      <td>8790</td>\n",
              "      <td>https://i5.ztat.net/large/V1/02/1C/0Q/8M/11/V1...</td>\n",
              "      <td>green dress it has a wide round collar and a s...</td>\n",
              "      <td>3</td>\n",
              "      <td>[sleeves, round, dress, summer, skirt, necklin...</td>\n",
              "      <td>[wide, figure-hugging, short, high, green, fab...</td>\n",
              "    </tr>\n",
              "    <tr>\n",
              "      <th>8790</th>\n",
              "      <td>8790</td>\n",
              "      <td>8790</td>\n",
              "      <td>8791</td>\n",
              "      <td>https://i5.ztat.net/large/GL/92/1C/06/SK/11/GL...</td>\n",
              "      <td>Thigh-length fabric dress in blue with white p...</td>\n",
              "      <td>9</td>\n",
              "      <td>[sleeves, round, dress, neckline, knee-length]</td>\n",
              "      <td>[blue, white, wide, gray, long]</td>\n",
              "    </tr>\n",
              "    <tr>\n",
              "      <th>8791</th>\n",
              "      <td>8791</td>\n",
              "      <td>8791</td>\n",
              "      <td>8792</td>\n",
              "      <td>https://i1.ztat.net/large/AX/82/1C/A2/2Q/11/AX...</td>\n",
              "      <td>black dress with colorful flowers as a print, ...</td>\n",
              "      <td>5</td>\n",
              "      <td>[dress, v-neck, skirt, straps]</td>\n",
              "      <td>[narrow, floral, wide, sleeveless, black, colo...</td>\n",
              "    </tr>\n",
              "  </tbody>\n",
              "</table>\n",
              "<p>8789 rows × 8 columns</p>\n",
              "</div>"
            ],
            "text/plain": [
              "      Unnamed: 0  ...                                               adjs\n",
              "0              0  ...            [wide, sleeveless, deep, shoulder-free]\n",
              "1              1  ...                        [white, knee-length, short]\n",
              "2              2  ...                        [white, small, gray, black]\n",
              "3              3  ...                  [half-length, light, gray, short]\n",
              "4              4  ...   [blue, dark, knee-length, figure-hugging, short]\n",
              "...          ...  ...                                                ...\n",
              "8787        8787  ...               [wide, sleeveless, deep, long, dark]\n",
              "8788        8788  ...                    [free, black, short, mid-thigh]\n",
              "8789        8789  ...  [wide, figure-hugging, short, high, green, fab...\n",
              "8790        8790  ...                    [blue, white, wide, gray, long]\n",
              "8791        8791  ...  [narrow, floral, wide, sleeveless, black, colo...\n",
              "\n",
              "[8789 rows x 8 columns]"
            ]
          },
          "metadata": {
            "tags": []
          },
          "execution_count": 14
        }
      ]
    },
    {
      "cell_type": "code",
      "metadata": {
        "id": "bWwS-5iEZCoS"
      },
      "source": [
        "batch_size = 100\n",
        "num_workers = 8\n",
        "\n",
        "class MyDataset(Dataset):\n",
        "    def __init__(self, data, targets, transform=None):\n",
        "        self.data = data\n",
        "        self.targets = torch.Tensor(targets)\n",
        "        # self.targets = torch.from_numpy(targets)\n",
        "        # self.targets = targets\n",
        "        self.transform = transform\n",
        "\n",
        "    def __getitem__(self, index):\n",
        "        x = self.data[index]\n",
        "        y = self.targets[index]\n",
        "\n",
        "        if self.transform:\n",
        "            x = Image.fromarray(self.data[index].astype(np.uint8).transpose(1,2,0))\n",
        "            x = self.transform(x)\n",
        "        return x, y\n",
        "\n",
        "    def __len__(self):\n",
        "        return len(self.data)"
      ],
      "execution_count": 38,
      "outputs": []
    },
    {
      "cell_type": "code",
      "metadata": {
        "colab": {
          "base_uri": "https://localhost:8080/",
          "height": 244
        },
        "id": "gZM2FIL6ZMgc",
        "outputId": "1019be53-036f-465c-c8b9-87e54b8c9990"
      },
      "source": [
        "mlb = MultiLabelBinarizer()\n",
        "y = pd.DataFrame(mlb.fit_transform(df['adjs']), columns=mlb.classes_)\n",
        "y.head()"
      ],
      "execution_count": 39,
      "outputs": [
        {
          "output_type": "execute_result",
          "data": {
            "text/html": [
              "<div>\n",
              "<style scoped>\n",
              "    .dataframe tbody tr th:only-of-type {\n",
              "        vertical-align: middle;\n",
              "    }\n",
              "\n",
              "    .dataframe tbody tr th {\n",
              "        vertical-align: top;\n",
              "    }\n",
              "\n",
              "    .dataframe thead th {\n",
              "        text-align: right;\n",
              "    }\n",
              "</style>\n",
              "<table border=\"1\" class=\"dataframe\">\n",
              "  <thead>\n",
              "    <tr style=\"text-align: right;\">\n",
              "      <th></th>\n",
              "      <th>black</th>\n",
              "      <th>blue</th>\n",
              "      <th>colorful</th>\n",
              "      <th>dark</th>\n",
              "      <th>deep</th>\n",
              "      <th>elegant</th>\n",
              "      <th>fabric</th>\n",
              "      <th>figure-hugging</th>\n",
              "      <th>floor-length</th>\n",
              "      <th>floral</th>\n",
              "      <th>free</th>\n",
              "      <th>gray</th>\n",
              "      <th>green</th>\n",
              "      <th>half-length</th>\n",
              "      <th>high</th>\n",
              "      <th>knee-length</th>\n",
              "      <th>large</th>\n",
              "      <th>light</th>\n",
              "      <th>long</th>\n",
              "      <th>medium-length</th>\n",
              "      <th>mid-thigh</th>\n",
              "      <th>narrow</th>\n",
              "      <th>red</th>\n",
              "      <th>short</th>\n",
              "      <th>shoulder-free</th>\n",
              "      <th>sleeveless</th>\n",
              "      <th>small</th>\n",
              "      <th>tight</th>\n",
              "      <th>white</th>\n",
              "      <th>wide</th>\n",
              "    </tr>\n",
              "  </thead>\n",
              "  <tbody>\n",
              "    <tr>\n",
              "      <th>0</th>\n",
              "      <td>0</td>\n",
              "      <td>0</td>\n",
              "      <td>0</td>\n",
              "      <td>0</td>\n",
              "      <td>1</td>\n",
              "      <td>0</td>\n",
              "      <td>0</td>\n",
              "      <td>0</td>\n",
              "      <td>0</td>\n",
              "      <td>0</td>\n",
              "      <td>0</td>\n",
              "      <td>0</td>\n",
              "      <td>0</td>\n",
              "      <td>0</td>\n",
              "      <td>0</td>\n",
              "      <td>0</td>\n",
              "      <td>0</td>\n",
              "      <td>0</td>\n",
              "      <td>0</td>\n",
              "      <td>0</td>\n",
              "      <td>0</td>\n",
              "      <td>0</td>\n",
              "      <td>0</td>\n",
              "      <td>0</td>\n",
              "      <td>1</td>\n",
              "      <td>1</td>\n",
              "      <td>0</td>\n",
              "      <td>0</td>\n",
              "      <td>0</td>\n",
              "      <td>1</td>\n",
              "    </tr>\n",
              "    <tr>\n",
              "      <th>1</th>\n",
              "      <td>0</td>\n",
              "      <td>0</td>\n",
              "      <td>0</td>\n",
              "      <td>0</td>\n",
              "      <td>0</td>\n",
              "      <td>0</td>\n",
              "      <td>0</td>\n",
              "      <td>0</td>\n",
              "      <td>0</td>\n",
              "      <td>0</td>\n",
              "      <td>0</td>\n",
              "      <td>0</td>\n",
              "      <td>0</td>\n",
              "      <td>0</td>\n",
              "      <td>0</td>\n",
              "      <td>1</td>\n",
              "      <td>0</td>\n",
              "      <td>0</td>\n",
              "      <td>0</td>\n",
              "      <td>0</td>\n",
              "      <td>0</td>\n",
              "      <td>0</td>\n",
              "      <td>0</td>\n",
              "      <td>1</td>\n",
              "      <td>0</td>\n",
              "      <td>0</td>\n",
              "      <td>0</td>\n",
              "      <td>0</td>\n",
              "      <td>1</td>\n",
              "      <td>0</td>\n",
              "    </tr>\n",
              "    <tr>\n",
              "      <th>2</th>\n",
              "      <td>1</td>\n",
              "      <td>0</td>\n",
              "      <td>0</td>\n",
              "      <td>0</td>\n",
              "      <td>0</td>\n",
              "      <td>0</td>\n",
              "      <td>0</td>\n",
              "      <td>0</td>\n",
              "      <td>0</td>\n",
              "      <td>0</td>\n",
              "      <td>0</td>\n",
              "      <td>1</td>\n",
              "      <td>0</td>\n",
              "      <td>0</td>\n",
              "      <td>0</td>\n",
              "      <td>0</td>\n",
              "      <td>0</td>\n",
              "      <td>0</td>\n",
              "      <td>0</td>\n",
              "      <td>0</td>\n",
              "      <td>0</td>\n",
              "      <td>0</td>\n",
              "      <td>0</td>\n",
              "      <td>0</td>\n",
              "      <td>0</td>\n",
              "      <td>0</td>\n",
              "      <td>1</td>\n",
              "      <td>0</td>\n",
              "      <td>1</td>\n",
              "      <td>0</td>\n",
              "    </tr>\n",
              "    <tr>\n",
              "      <th>3</th>\n",
              "      <td>0</td>\n",
              "      <td>0</td>\n",
              "      <td>0</td>\n",
              "      <td>0</td>\n",
              "      <td>0</td>\n",
              "      <td>0</td>\n",
              "      <td>0</td>\n",
              "      <td>0</td>\n",
              "      <td>0</td>\n",
              "      <td>0</td>\n",
              "      <td>0</td>\n",
              "      <td>1</td>\n",
              "      <td>0</td>\n",
              "      <td>1</td>\n",
              "      <td>0</td>\n",
              "      <td>0</td>\n",
              "      <td>0</td>\n",
              "      <td>1</td>\n",
              "      <td>0</td>\n",
              "      <td>0</td>\n",
              "      <td>0</td>\n",
              "      <td>0</td>\n",
              "      <td>0</td>\n",
              "      <td>1</td>\n",
              "      <td>0</td>\n",
              "      <td>0</td>\n",
              "      <td>0</td>\n",
              "      <td>0</td>\n",
              "      <td>0</td>\n",
              "      <td>0</td>\n",
              "    </tr>\n",
              "    <tr>\n",
              "      <th>4</th>\n",
              "      <td>0</td>\n",
              "      <td>1</td>\n",
              "      <td>0</td>\n",
              "      <td>1</td>\n",
              "      <td>0</td>\n",
              "      <td>0</td>\n",
              "      <td>0</td>\n",
              "      <td>1</td>\n",
              "      <td>0</td>\n",
              "      <td>0</td>\n",
              "      <td>0</td>\n",
              "      <td>0</td>\n",
              "      <td>0</td>\n",
              "      <td>0</td>\n",
              "      <td>0</td>\n",
              "      <td>1</td>\n",
              "      <td>0</td>\n",
              "      <td>0</td>\n",
              "      <td>0</td>\n",
              "      <td>0</td>\n",
              "      <td>0</td>\n",
              "      <td>0</td>\n",
              "      <td>0</td>\n",
              "      <td>1</td>\n",
              "      <td>0</td>\n",
              "      <td>0</td>\n",
              "      <td>0</td>\n",
              "      <td>0</td>\n",
              "      <td>0</td>\n",
              "      <td>0</td>\n",
              "    </tr>\n",
              "  </tbody>\n",
              "</table>\n",
              "</div>"
            ],
            "text/plain": [
              "   black  blue  colorful  dark  deep  ...  sleeveless  small  tight  white  wide\n",
              "0      0     0         0     0     1  ...           1      0      0      0     1\n",
              "1      0     0         0     0     0  ...           0      0      0      1     0\n",
              "2      1     0         0     0     0  ...           0      1      0      1     0\n",
              "3      0     0         0     0     0  ...           0      0      0      0     0\n",
              "4      0     1         0     1     0  ...           0      0      0      0     0\n",
              "\n",
              "[5 rows x 30 columns]"
            ]
          },
          "metadata": {
            "tags": []
          },
          "execution_count": 39
        }
      ]
    },
    {
      "cell_type": "code",
      "metadata": {
        "id": "-AQA7Loct8OJ",
        "colab": {
          "base_uri": "https://localhost:8080/"
        },
        "outputId": "f890072a-e3a0-42f9-b49a-afe0ebe575cf"
      },
      "source": [
        "y = y.to_numpy()\n",
        "\n",
        "x_train, x_test, y_train, y_test = train_test_split(loaded_images, y, test_size=0.3, random_state=42)\n",
        "\n",
        "train_dataset = MyDataset(x_train, y_train)\n",
        "dataloader_train = torch.utils.data.DataLoader(train_dataset, batch_size=batch_size, shuffle=True, num_workers=num_workers)\n",
        "\n",
        "test_dataset = MyDataset(x_test, y_test)\n",
        "dataloader_test = torch.utils.data.DataLoader(test_dataset, batch_size=batch_size, num_workers=num_workers)\n",
        "\n",
        "image_datasets = {'train': x_train, 'val': x_test}\n",
        "dataset_sizes = {x: len(image_datasets[x]) for x in ['train', 'val']}\n",
        "\n",
        "dataloaders = {'train': dataloader_train, 'val': dataloader_test}"
      ],
      "execution_count": 40,
      "outputs": [
        {
          "output_type": "stream",
          "text": [
            "/usr/local/lib/python3.7/dist-packages/torch/utils/data/dataloader.py:477: UserWarning: This DataLoader will create 8 worker processes in total. Our suggested max number of worker in current system is 2, which is smaller than what this DataLoader is going to create. Please be aware that excessive worker creation might get DataLoader running slow or even freeze, lower the worker number to avoid potential slowness/freeze if necessary.\n",
            "  cpuset_checked))\n"
          ],
          "name": "stderr"
        }
      ]
    },
    {
      "cell_type": "code",
      "metadata": {
        "id": "i0nTJA7kpltH"
      },
      "source": [
        "input_size = 224\n",
        "num_classes = len(mlb.classes_)"
      ],
      "execution_count": 42,
      "outputs": []
    },
    {
      "cell_type": "code",
      "metadata": {
        "colab": {
          "base_uri": "https://localhost:8080/"
        },
        "id": "BQBV-0W1oPqo",
        "outputId": "ad2719df-3f7c-400d-81f4-5a38e22cd813"
      },
      "source": [
        "device = torch.device(\"cuda\" if torch.cuda.is_available() else \"cpu\")\n",
        "device"
      ],
      "execution_count": 43,
      "outputs": [
        {
          "output_type": "execute_result",
          "data": {
            "text/plain": [
              "device(type='cuda')"
            ]
          },
          "metadata": {
            "tags": []
          },
          "execution_count": 43
        }
      ]
    },
    {
      "cell_type": "code",
      "metadata": {
        "id": "obgfIlrQlfGx"
      },
      "source": [
        "def calculate_metrics(pred, target, threshold=0.5):\n",
        "    pred = np.array(pred > threshold, dtype=float)\n",
        "    return {\n",
        "            'micro/f1': metrics.f1_score(y_true=target, y_pred=pred, average='micro'),\n",
        "            'macro/f1': metrics.f1_score(y_true=target, y_pred=pred, average='macro'),\n",
        "            'samples/f1': metrics.f1_score(y_true=target, y_pred=pred, average='samples'),\n",
        "            }\n"
      ],
      "execution_count": 44,
      "outputs": []
    },
    {
      "cell_type": "code",
      "metadata": {
        "colab": {
          "base_uri": "https://localhost:8080/"
        },
        "id": "jJ-NZ0TQk3jt",
        "outputId": "dc498e42-97a1-4f51-8533-d7f5f1d36c10"
      },
      "source": [
        "class Resnext50(nn.Module):\n",
        "    def __init__(self, n_classes):\n",
        "        super().__init__()\n",
        "        resnet = models.resnext50_32x4d(pretrained=True)\n",
        "        resnet.fc = nn.Sequential(\n",
        "            nn.Dropout(p=0.2),\n",
        "            nn.Linear(in_features=resnet.fc.in_features, out_features=n_classes)\n",
        "        )\n",
        "        self.base_model = resnet\n",
        "        self.sigm = nn.Sigmoid()\n",
        "\n",
        "    def forward(self, x):\n",
        "        return self.sigm(self.base_model(x))\n",
        "\n",
        "model = Resnext50(num_classes)\n",
        "model = model.to(device)\n",
        "model.train()"
      ],
      "execution_count": 45,
      "outputs": [
        {
          "output_type": "execute_result",
          "data": {
            "text/plain": [
              "Resnext50(\n",
              "  (base_model): ResNet(\n",
              "    (conv1): Conv2d(3, 64, kernel_size=(7, 7), stride=(2, 2), padding=(3, 3), bias=False)\n",
              "    (bn1): BatchNorm2d(64, eps=1e-05, momentum=0.1, affine=True, track_running_stats=True)\n",
              "    (relu): ReLU(inplace=True)\n",
              "    (maxpool): MaxPool2d(kernel_size=3, stride=2, padding=1, dilation=1, ceil_mode=False)\n",
              "    (layer1): Sequential(\n",
              "      (0): Bottleneck(\n",
              "        (conv1): Conv2d(64, 128, kernel_size=(1, 1), stride=(1, 1), bias=False)\n",
              "        (bn1): BatchNorm2d(128, eps=1e-05, momentum=0.1, affine=True, track_running_stats=True)\n",
              "        (conv2): Conv2d(128, 128, kernel_size=(3, 3), stride=(1, 1), padding=(1, 1), groups=32, bias=False)\n",
              "        (bn2): BatchNorm2d(128, eps=1e-05, momentum=0.1, affine=True, track_running_stats=True)\n",
              "        (conv3): Conv2d(128, 256, kernel_size=(1, 1), stride=(1, 1), bias=False)\n",
              "        (bn3): BatchNorm2d(256, eps=1e-05, momentum=0.1, affine=True, track_running_stats=True)\n",
              "        (relu): ReLU(inplace=True)\n",
              "        (downsample): Sequential(\n",
              "          (0): Conv2d(64, 256, kernel_size=(1, 1), stride=(1, 1), bias=False)\n",
              "          (1): BatchNorm2d(256, eps=1e-05, momentum=0.1, affine=True, track_running_stats=True)\n",
              "        )\n",
              "      )\n",
              "      (1): Bottleneck(\n",
              "        (conv1): Conv2d(256, 128, kernel_size=(1, 1), stride=(1, 1), bias=False)\n",
              "        (bn1): BatchNorm2d(128, eps=1e-05, momentum=0.1, affine=True, track_running_stats=True)\n",
              "        (conv2): Conv2d(128, 128, kernel_size=(3, 3), stride=(1, 1), padding=(1, 1), groups=32, bias=False)\n",
              "        (bn2): BatchNorm2d(128, eps=1e-05, momentum=0.1, affine=True, track_running_stats=True)\n",
              "        (conv3): Conv2d(128, 256, kernel_size=(1, 1), stride=(1, 1), bias=False)\n",
              "        (bn3): BatchNorm2d(256, eps=1e-05, momentum=0.1, affine=True, track_running_stats=True)\n",
              "        (relu): ReLU(inplace=True)\n",
              "      )\n",
              "      (2): Bottleneck(\n",
              "        (conv1): Conv2d(256, 128, kernel_size=(1, 1), stride=(1, 1), bias=False)\n",
              "        (bn1): BatchNorm2d(128, eps=1e-05, momentum=0.1, affine=True, track_running_stats=True)\n",
              "        (conv2): Conv2d(128, 128, kernel_size=(3, 3), stride=(1, 1), padding=(1, 1), groups=32, bias=False)\n",
              "        (bn2): BatchNorm2d(128, eps=1e-05, momentum=0.1, affine=True, track_running_stats=True)\n",
              "        (conv3): Conv2d(128, 256, kernel_size=(1, 1), stride=(1, 1), bias=False)\n",
              "        (bn3): BatchNorm2d(256, eps=1e-05, momentum=0.1, affine=True, track_running_stats=True)\n",
              "        (relu): ReLU(inplace=True)\n",
              "      )\n",
              "    )\n",
              "    (layer2): Sequential(\n",
              "      (0): Bottleneck(\n",
              "        (conv1): Conv2d(256, 256, kernel_size=(1, 1), stride=(1, 1), bias=False)\n",
              "        (bn1): BatchNorm2d(256, eps=1e-05, momentum=0.1, affine=True, track_running_stats=True)\n",
              "        (conv2): Conv2d(256, 256, kernel_size=(3, 3), stride=(2, 2), padding=(1, 1), groups=32, bias=False)\n",
              "        (bn2): BatchNorm2d(256, eps=1e-05, momentum=0.1, affine=True, track_running_stats=True)\n",
              "        (conv3): Conv2d(256, 512, kernel_size=(1, 1), stride=(1, 1), bias=False)\n",
              "        (bn3): BatchNorm2d(512, eps=1e-05, momentum=0.1, affine=True, track_running_stats=True)\n",
              "        (relu): ReLU(inplace=True)\n",
              "        (downsample): Sequential(\n",
              "          (0): Conv2d(256, 512, kernel_size=(1, 1), stride=(2, 2), bias=False)\n",
              "          (1): BatchNorm2d(512, eps=1e-05, momentum=0.1, affine=True, track_running_stats=True)\n",
              "        )\n",
              "      )\n",
              "      (1): Bottleneck(\n",
              "        (conv1): Conv2d(512, 256, kernel_size=(1, 1), stride=(1, 1), bias=False)\n",
              "        (bn1): BatchNorm2d(256, eps=1e-05, momentum=0.1, affine=True, track_running_stats=True)\n",
              "        (conv2): Conv2d(256, 256, kernel_size=(3, 3), stride=(1, 1), padding=(1, 1), groups=32, bias=False)\n",
              "        (bn2): BatchNorm2d(256, eps=1e-05, momentum=0.1, affine=True, track_running_stats=True)\n",
              "        (conv3): Conv2d(256, 512, kernel_size=(1, 1), stride=(1, 1), bias=False)\n",
              "        (bn3): BatchNorm2d(512, eps=1e-05, momentum=0.1, affine=True, track_running_stats=True)\n",
              "        (relu): ReLU(inplace=True)\n",
              "      )\n",
              "      (2): Bottleneck(\n",
              "        (conv1): Conv2d(512, 256, kernel_size=(1, 1), stride=(1, 1), bias=False)\n",
              "        (bn1): BatchNorm2d(256, eps=1e-05, momentum=0.1, affine=True, track_running_stats=True)\n",
              "        (conv2): Conv2d(256, 256, kernel_size=(3, 3), stride=(1, 1), padding=(1, 1), groups=32, bias=False)\n",
              "        (bn2): BatchNorm2d(256, eps=1e-05, momentum=0.1, affine=True, track_running_stats=True)\n",
              "        (conv3): Conv2d(256, 512, kernel_size=(1, 1), stride=(1, 1), bias=False)\n",
              "        (bn3): BatchNorm2d(512, eps=1e-05, momentum=0.1, affine=True, track_running_stats=True)\n",
              "        (relu): ReLU(inplace=True)\n",
              "      )\n",
              "      (3): Bottleneck(\n",
              "        (conv1): Conv2d(512, 256, kernel_size=(1, 1), stride=(1, 1), bias=False)\n",
              "        (bn1): BatchNorm2d(256, eps=1e-05, momentum=0.1, affine=True, track_running_stats=True)\n",
              "        (conv2): Conv2d(256, 256, kernel_size=(3, 3), stride=(1, 1), padding=(1, 1), groups=32, bias=False)\n",
              "        (bn2): BatchNorm2d(256, eps=1e-05, momentum=0.1, affine=True, track_running_stats=True)\n",
              "        (conv3): Conv2d(256, 512, kernel_size=(1, 1), stride=(1, 1), bias=False)\n",
              "        (bn3): BatchNorm2d(512, eps=1e-05, momentum=0.1, affine=True, track_running_stats=True)\n",
              "        (relu): ReLU(inplace=True)\n",
              "      )\n",
              "    )\n",
              "    (layer3): Sequential(\n",
              "      (0): Bottleneck(\n",
              "        (conv1): Conv2d(512, 512, kernel_size=(1, 1), stride=(1, 1), bias=False)\n",
              "        (bn1): BatchNorm2d(512, eps=1e-05, momentum=0.1, affine=True, track_running_stats=True)\n",
              "        (conv2): Conv2d(512, 512, kernel_size=(3, 3), stride=(2, 2), padding=(1, 1), groups=32, bias=False)\n",
              "        (bn2): BatchNorm2d(512, eps=1e-05, momentum=0.1, affine=True, track_running_stats=True)\n",
              "        (conv3): Conv2d(512, 1024, kernel_size=(1, 1), stride=(1, 1), bias=False)\n",
              "        (bn3): BatchNorm2d(1024, eps=1e-05, momentum=0.1, affine=True, track_running_stats=True)\n",
              "        (relu): ReLU(inplace=True)\n",
              "        (downsample): Sequential(\n",
              "          (0): Conv2d(512, 1024, kernel_size=(1, 1), stride=(2, 2), bias=False)\n",
              "          (1): BatchNorm2d(1024, eps=1e-05, momentum=0.1, affine=True, track_running_stats=True)\n",
              "        )\n",
              "      )\n",
              "      (1): Bottleneck(\n",
              "        (conv1): Conv2d(1024, 512, kernel_size=(1, 1), stride=(1, 1), bias=False)\n",
              "        (bn1): BatchNorm2d(512, eps=1e-05, momentum=0.1, affine=True, track_running_stats=True)\n",
              "        (conv2): Conv2d(512, 512, kernel_size=(3, 3), stride=(1, 1), padding=(1, 1), groups=32, bias=False)\n",
              "        (bn2): BatchNorm2d(512, eps=1e-05, momentum=0.1, affine=True, track_running_stats=True)\n",
              "        (conv3): Conv2d(512, 1024, kernel_size=(1, 1), stride=(1, 1), bias=False)\n",
              "        (bn3): BatchNorm2d(1024, eps=1e-05, momentum=0.1, affine=True, track_running_stats=True)\n",
              "        (relu): ReLU(inplace=True)\n",
              "      )\n",
              "      (2): Bottleneck(\n",
              "        (conv1): Conv2d(1024, 512, kernel_size=(1, 1), stride=(1, 1), bias=False)\n",
              "        (bn1): BatchNorm2d(512, eps=1e-05, momentum=0.1, affine=True, track_running_stats=True)\n",
              "        (conv2): Conv2d(512, 512, kernel_size=(3, 3), stride=(1, 1), padding=(1, 1), groups=32, bias=False)\n",
              "        (bn2): BatchNorm2d(512, eps=1e-05, momentum=0.1, affine=True, track_running_stats=True)\n",
              "        (conv3): Conv2d(512, 1024, kernel_size=(1, 1), stride=(1, 1), bias=False)\n",
              "        (bn3): BatchNorm2d(1024, eps=1e-05, momentum=0.1, affine=True, track_running_stats=True)\n",
              "        (relu): ReLU(inplace=True)\n",
              "      )\n",
              "      (3): Bottleneck(\n",
              "        (conv1): Conv2d(1024, 512, kernel_size=(1, 1), stride=(1, 1), bias=False)\n",
              "        (bn1): BatchNorm2d(512, eps=1e-05, momentum=0.1, affine=True, track_running_stats=True)\n",
              "        (conv2): Conv2d(512, 512, kernel_size=(3, 3), stride=(1, 1), padding=(1, 1), groups=32, bias=False)\n",
              "        (bn2): BatchNorm2d(512, eps=1e-05, momentum=0.1, affine=True, track_running_stats=True)\n",
              "        (conv3): Conv2d(512, 1024, kernel_size=(1, 1), stride=(1, 1), bias=False)\n",
              "        (bn3): BatchNorm2d(1024, eps=1e-05, momentum=0.1, affine=True, track_running_stats=True)\n",
              "        (relu): ReLU(inplace=True)\n",
              "      )\n",
              "      (4): Bottleneck(\n",
              "        (conv1): Conv2d(1024, 512, kernel_size=(1, 1), stride=(1, 1), bias=False)\n",
              "        (bn1): BatchNorm2d(512, eps=1e-05, momentum=0.1, affine=True, track_running_stats=True)\n",
              "        (conv2): Conv2d(512, 512, kernel_size=(3, 3), stride=(1, 1), padding=(1, 1), groups=32, bias=False)\n",
              "        (bn2): BatchNorm2d(512, eps=1e-05, momentum=0.1, affine=True, track_running_stats=True)\n",
              "        (conv3): Conv2d(512, 1024, kernel_size=(1, 1), stride=(1, 1), bias=False)\n",
              "        (bn3): BatchNorm2d(1024, eps=1e-05, momentum=0.1, affine=True, track_running_stats=True)\n",
              "        (relu): ReLU(inplace=True)\n",
              "      )\n",
              "      (5): Bottleneck(\n",
              "        (conv1): Conv2d(1024, 512, kernel_size=(1, 1), stride=(1, 1), bias=False)\n",
              "        (bn1): BatchNorm2d(512, eps=1e-05, momentum=0.1, affine=True, track_running_stats=True)\n",
              "        (conv2): Conv2d(512, 512, kernel_size=(3, 3), stride=(1, 1), padding=(1, 1), groups=32, bias=False)\n",
              "        (bn2): BatchNorm2d(512, eps=1e-05, momentum=0.1, affine=True, track_running_stats=True)\n",
              "        (conv3): Conv2d(512, 1024, kernel_size=(1, 1), stride=(1, 1), bias=False)\n",
              "        (bn3): BatchNorm2d(1024, eps=1e-05, momentum=0.1, affine=True, track_running_stats=True)\n",
              "        (relu): ReLU(inplace=True)\n",
              "      )\n",
              "    )\n",
              "    (layer4): Sequential(\n",
              "      (0): Bottleneck(\n",
              "        (conv1): Conv2d(1024, 1024, kernel_size=(1, 1), stride=(1, 1), bias=False)\n",
              "        (bn1): BatchNorm2d(1024, eps=1e-05, momentum=0.1, affine=True, track_running_stats=True)\n",
              "        (conv2): Conv2d(1024, 1024, kernel_size=(3, 3), stride=(2, 2), padding=(1, 1), groups=32, bias=False)\n",
              "        (bn2): BatchNorm2d(1024, eps=1e-05, momentum=0.1, affine=True, track_running_stats=True)\n",
              "        (conv3): Conv2d(1024, 2048, kernel_size=(1, 1), stride=(1, 1), bias=False)\n",
              "        (bn3): BatchNorm2d(2048, eps=1e-05, momentum=0.1, affine=True, track_running_stats=True)\n",
              "        (relu): ReLU(inplace=True)\n",
              "        (downsample): Sequential(\n",
              "          (0): Conv2d(1024, 2048, kernel_size=(1, 1), stride=(2, 2), bias=False)\n",
              "          (1): BatchNorm2d(2048, eps=1e-05, momentum=0.1, affine=True, track_running_stats=True)\n",
              "        )\n",
              "      )\n",
              "      (1): Bottleneck(\n",
              "        (conv1): Conv2d(2048, 1024, kernel_size=(1, 1), stride=(1, 1), bias=False)\n",
              "        (bn1): BatchNorm2d(1024, eps=1e-05, momentum=0.1, affine=True, track_running_stats=True)\n",
              "        (conv2): Conv2d(1024, 1024, kernel_size=(3, 3), stride=(1, 1), padding=(1, 1), groups=32, bias=False)\n",
              "        (bn2): BatchNorm2d(1024, eps=1e-05, momentum=0.1, affine=True, track_running_stats=True)\n",
              "        (conv3): Conv2d(1024, 2048, kernel_size=(1, 1), stride=(1, 1), bias=False)\n",
              "        (bn3): BatchNorm2d(2048, eps=1e-05, momentum=0.1, affine=True, track_running_stats=True)\n",
              "        (relu): ReLU(inplace=True)\n",
              "      )\n",
              "      (2): Bottleneck(\n",
              "        (conv1): Conv2d(2048, 1024, kernel_size=(1, 1), stride=(1, 1), bias=False)\n",
              "        (bn1): BatchNorm2d(1024, eps=1e-05, momentum=0.1, affine=True, track_running_stats=True)\n",
              "        (conv2): Conv2d(1024, 1024, kernel_size=(3, 3), stride=(1, 1), padding=(1, 1), groups=32, bias=False)\n",
              "        (bn2): BatchNorm2d(1024, eps=1e-05, momentum=0.1, affine=True, track_running_stats=True)\n",
              "        (conv3): Conv2d(1024, 2048, kernel_size=(1, 1), stride=(1, 1), bias=False)\n",
              "        (bn3): BatchNorm2d(2048, eps=1e-05, momentum=0.1, affine=True, track_running_stats=True)\n",
              "        (relu): ReLU(inplace=True)\n",
              "      )\n",
              "    )\n",
              "    (avgpool): AdaptiveAvgPool2d(output_size=(1, 1))\n",
              "    (fc): Sequential(\n",
              "      (0): Dropout(p=0.2, inplace=False)\n",
              "      (1): Linear(in_features=2048, out_features=30, bias=True)\n",
              "    )\n",
              "  )\n",
              "  (sigm): Sigmoid()\n",
              ")"
            ]
          },
          "metadata": {
            "tags": []
          },
          "execution_count": 45
        }
      ]
    },
    {
      "cell_type": "code",
      "metadata": {
        "id": "dQWMrmE1m2yo"
      },
      "source": [
        "max_epoch_number = 10\n",
        "learning_rate = 1e-3\n",
        "optimizer = torch.optim.Adam(model.parameters(), lr=learning_rate)\n",
        "criterion = nn.BCELoss()"
      ],
      "execution_count": 46,
      "outputs": []
    },
    {
      "cell_type": "code",
      "metadata": {
        "id": "uM3egLtwk776"
      },
      "source": [
        "def checkpoint_save(model, epoch):\n",
        "    f = os.path.join('/content/drive/MyDrive/ml/zalando_checkpoints/', 'checkpoint-{:06d}.pth'.format(epoch))\n",
        "    if 'module' in dir(model):\n",
        "        torch.save(model.module.state_dict(), f)\n",
        "    else:\n",
        "        torch.save(model.state_dict(), f)\n",
        "    print('saved checkpoint:', f)"
      ],
      "execution_count": 55,
      "outputs": []
    },
    {
      "cell_type": "code",
      "metadata": {
        "colab": {
          "base_uri": "https://localhost:8080/"
        },
        "id": "VAB58yp8kXV4",
        "outputId": "d160ff06-528f-4996-adbd-7e1d7a71f4f7"
      },
      "source": [
        "epoch = 1\n",
        "iteration = 0\n",
        "test_freq = 5\n",
        "save_freq = 1\n",
        "while True:\n",
        "    batch_losses = []\n",
        "    for imgs, targets in dataloaders['train']:\n",
        "        imgs, targets = imgs.to(device), targets.to(device)\n",
        "\n",
        "        optimizer.zero_grad()\n",
        "\n",
        "        model_result = model(imgs)\n",
        "        loss = criterion(model_result, targets.type(torch.float))\n",
        "\n",
        "        batch_loss_value = loss.item()\n",
        "        loss.backward()\n",
        "        optimizer.step()\n",
        "\n",
        "        batch_losses.append(batch_loss_value)\n",
        "\n",
        "        if iteration % test_freq == 0:\n",
        "            model.eval()\n",
        "            with torch.no_grad():\n",
        "                model_result = []\n",
        "                targets = []\n",
        "                for imgs, batch_targets in dataloaders['train']:\n",
        "                    imgs = imgs.to(device)\n",
        "                    model_batch_result = model(imgs)\n",
        "                    model_result.extend(model_batch_result.cpu().numpy())\n",
        "                    targets.extend(batch_targets.cpu().numpy())\n",
        "\n",
        "            result = calculate_metrics(np.array(model_result), np.array(targets))\n",
        "            print(\"epoch:{:2d} iter:{:3d} test: \"\n",
        "                  \"micro f1: {:.3f} \"\n",
        "                  \"macro f1: {:.3f} \"\n",
        "                  \"samples f1: {:.3f}\".format(epoch, iteration,\n",
        "                                              result['micro/f1'],\n",
        "                                              result['macro/f1'],\n",
        "                                              result['samples/f1']))\n",
        "\n",
        "            model.train()\n",
        "        iteration += 1\n",
        "\n",
        "    loss_value = np.mean(batch_losses)\n",
        "    print(\"epoch:{:2d} iter:{:3d} train: loss:{:.3f}\".format(epoch, iteration, loss_value))\n",
        "    if epoch % save_freq == 0:\n",
        "        checkpoint_save(model, epoch)\n",
        "    epoch += 1\n",
        "    if max_epoch_number < epoch:\n",
        "        break\n"
      ],
      "execution_count": 57,
      "outputs": [
        {
          "output_type": "stream",
          "text": [
            "/usr/local/lib/python3.7/dist-packages/torch/utils/data/dataloader.py:477: UserWarning: This DataLoader will create 8 worker processes in total. Our suggested max number of worker in current system is 2, which is smaller than what this DataLoader is going to create. Please be aware that excessive worker creation might get DataLoader running slow or even freeze, lower the worker number to avoid potential slowness/freeze if necessary.\n",
            "  cpuset_checked))\n"
          ],
          "name": "stderr"
        },
        {
          "output_type": "stream",
          "text": [
            "epoch: 1 iter:  0 test: micro f1: 0.503 macro f1: 0.263 samples f1: 0.497\n",
            "epoch: 1 iter: 62 train: loss:0.293\n",
            "saved checkpoint: /content/drive/MyDrive/ml/zalando_checkpoints/checkpoint-000001.pth\n",
            "epoch: 2 iter:124 train: loss:0.283\n",
            "saved checkpoint: /content/drive/MyDrive/ml/zalando_checkpoints/checkpoint-000002.pth\n",
            "epoch: 3 iter:186 train: loss:0.273\n",
            "saved checkpoint: /content/drive/MyDrive/ml/zalando_checkpoints/checkpoint-000003.pth\n",
            "epoch: 4 iter:200 test: micro f1: 0.594 macro f1: 0.360 samples f1: 0.591\n",
            "epoch: 4 iter:248 train: loss:0.263\n",
            "saved checkpoint: /content/drive/MyDrive/ml/zalando_checkpoints/checkpoint-000004.pth\n",
            "epoch: 5 iter:310 train: loss:0.253\n",
            "saved checkpoint: /content/drive/MyDrive/ml/zalando_checkpoints/checkpoint-000005.pth\n",
            "epoch: 6 iter:372 train: loss:0.242\n",
            "saved checkpoint: /content/drive/MyDrive/ml/zalando_checkpoints/checkpoint-000006.pth\n",
            "epoch: 7 iter:400 test: micro f1: 0.672 macro f1: 0.471 samples f1: 0.666\n",
            "epoch: 7 iter:434 train: loss:0.228\n",
            "saved checkpoint: /content/drive/MyDrive/ml/zalando_checkpoints/checkpoint-000007.pth\n",
            "epoch: 8 iter:496 train: loss:0.212\n",
            "saved checkpoint: /content/drive/MyDrive/ml/zalando_checkpoints/checkpoint-000008.pth\n",
            "epoch: 9 iter:558 train: loss:0.190\n",
            "saved checkpoint: /content/drive/MyDrive/ml/zalando_checkpoints/checkpoint-000009.pth\n",
            "epoch:10 iter:600 test: micro f1: 0.804 macro f1: 0.644 samples f1: 0.801\n",
            "epoch:10 iter:620 train: loss:0.168\n",
            "saved checkpoint: /content/drive/MyDrive/ml/zalando_checkpoints/checkpoint-000010.pth\n"
          ],
          "name": "stdout"
        }
      ]
    },
    {
      "cell_type": "code",
      "metadata": {
        "id": "HkvMFUm_4MNi",
        "outputId": "43318e0a-9f94-4e6b-d971-19f0e359d76a",
        "colab": {
          "base_uri": "https://localhost:8080/"
        }
      },
      "source": [
        "checkpoint = torch.load(os.path.join('/content/drive/MyDrive/ml/zalando_checkpoints/', 'checkpoint-{:06d}.pth'.format(10)))\n",
        "model.load_state_dict(checkpoint)"
      ],
      "execution_count": 266,
      "outputs": [
        {
          "output_type": "execute_result",
          "data": {
            "text/plain": [
              "<All keys matched successfully>"
            ]
          },
          "metadata": {
            "tags": []
          },
          "execution_count": 266
        }
      ]
    },
    {
      "cell_type": "code",
      "metadata": {
        "id": "A7T_Pelf3Le2"
      },
      "source": [
        "def imshow(inputs, title=None):\n",
        "    img = inputs.transpose(1, 2, 0)\n",
        "    mean = np.array([0.5, 0.5, 0.5])\n",
        "    std = np.array([0.5, 0.5, 0.5])\n",
        "    inp = std * inp + mean\n",
        "    inp = np.clip(inp, 0, 1)\n",
        "    plt.imshow(inp)"
      ],
      "execution_count": 248,
      "outputs": []
    },
    {
      "cell_type": "code",
      "metadata": {
        "id": "xHYaOJttjX-W"
      },
      "source": [
        "def visualize_model(model, num_images=6):\n",
        "    was_training = model.training\n",
        "    model.eval()\n",
        "\n",
        "    with torch.no_grad():\n",
        "        for i, (inputs, labels) in enumerate(dataloaders['val']):\n",
        "            inputs = inputs.to(device)\n",
        "            labels = labels.to(device)\n",
        "\n",
        "            outputs = model(inputs)\n",
        "            preds = outputs.cpu()\n",
        "\n",
        "            if preds.numpy() is None:\n",
        "              continue\n",
        "\n",
        "            preds = np.array(preds)[0]\n",
        "            plt.subplot(2, 3, i + 1)\n",
        "            plt.axis('off')\n",
        "\n",
        "            top3 = -np.sort(-preds)[min(2, len(preds)-1)]\n",
        "            preds[preds < top3] = 0\n",
        "            preds[preds >= top3] = 1\n",
        "\n",
        "            tags = mlb.inverse_transform(np.array([preds]))[0][:3]\n",
        "            tags_real = mlb.inverse_transform(np.array([y_test[i]]))[0][:3]\n",
        "            plt.title('Predicted: ' + ', '.join(map(str, tags)) + '\\n' + 'Real: ' + ', '.join(tags_real))\n",
        "            img = np.array(inputs.cpu().data[i])\n",
        "            img = img.transpose(1, 2, 0)\n",
        "            mean = np.array([0.5, 0.5, 0.5])\n",
        "            std = np.array([0.5, 0.5, 0.5])\n",
        "            img = std * img + mean\n",
        "            img = np.clip(img, 0, 1)\n",
        "            plt.imshow(img)\n",
        "\n",
        "            if i >= num_images - 1:\n",
        "                return"
      ],
      "execution_count": 291,
      "outputs": []
    },
    {
      "cell_type": "code",
      "metadata": {
        "id": "6Zzk5J5ljd3c",
        "colab": {
          "base_uri": "https://localhost:8080/",
          "height": 545
        },
        "outputId": "cbcf1cae-adba-4cc8-fd81-e62c753b2e56"
      },
      "source": [
        "fig, ax = plt.subplots(figsize=(12,8))\n",
        "plt.subplots_adjust(hspace=.5, wspace=.5)\n",
        "visualize_model(model)"
      ],
      "execution_count": 292,
      "outputs": [
        {
          "output_type": "stream",
          "text": [
            "/usr/local/lib/python3.7/dist-packages/torch/utils/data/dataloader.py:477: UserWarning: This DataLoader will create 8 worker processes in total. Our suggested max number of worker in current system is 2, which is smaller than what this DataLoader is going to create. Please be aware that excessive worker creation might get DataLoader running slow or even freeze, lower the worker number to avoid potential slowness/freeze if necessary.\n",
            "  cpuset_checked))\n"
          ],
          "name": "stderr"
        },
        {
          "output_type": "display_data",
          "data": {
            "image/png": "[encoded data removed]",
            "text/plain": [
              "<Figure size 864x576 with 6 Axes>"
            ]
          },
          "metadata": {
            "tags": [],
            "needs_background": "light"
          }
        }
      ]
    }
  ]
}