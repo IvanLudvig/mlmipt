{
  "nbformat": 4,
  "nbformat_minor": 0,
  "metadata": {
    "colab": {
      "name": "zalando.ipynb",
      "provenance": [],
      "collapsed_sections": [],
      "mount_file_id": "1FSyDzpufef64lIjYPNCBz8csy5KaYV2j",
      "authorship_tag": "ABX9TyM3p7MxA1HqhcefDn5NbUCU",
      "include_colab_link": true
    },
    "kernelspec": {
      "name": "python3",
      "display_name": "Python 3"
    },
    "language_info": {
      "name": "python"
    },
    "accelerator": "GPU",
    "widgets": {
      "application/vnd.jupyter.widget-state+json": {
        "560a33361b4f44d992363fcc1e51ff9b": {
          "model_module": "@jupyter-widgets/controls",
          "model_name": "HBoxModel",
          "state": {
            "_view_name": "HBoxView",
            "_dom_classes": [],
            "_model_name": "HBoxModel",
            "_view_module": "@jupyter-widgets/controls",
            "_model_module_version": "1.5.0",
            "_view_count": null,
            "_view_module_version": "1.5.0",
            "box_style": "",
            "layout": "IPY_MODEL_7dae03ea518b4e9491f7da0efba68990",
            "_model_module": "@jupyter-widgets/controls",
            "children": [
              "IPY_MODEL_2aff4d6c8923443192bdb5372629270a",
              "IPY_MODEL_9323f7add2a44ed6893192bb6a88dada"
            ]
          }
        },
        "7dae03ea518b4e9491f7da0efba68990": {
          "model_module": "@jupyter-widgets/base",
          "model_name": "LayoutModel",
          "state": {
            "_view_name": "LayoutView",
            "grid_template_rows": null,
            "right": null,
            "justify_content": null,
            "_view_module": "@jupyter-widgets/base",
            "overflow": null,
            "_model_module_version": "1.2.0",
            "_view_count": null,
            "flex_flow": null,
            "width": null,
            "min_width": null,
            "border": null,
            "align_items": null,
            "bottom": null,
            "_model_module": "@jupyter-widgets/base",
            "top": null,
            "grid_column": null,
            "overflow_y": null,
            "overflow_x": null,
            "grid_auto_flow": null,
            "grid_area": null,
            "grid_template_columns": null,
            "flex": null,
            "_model_name": "LayoutModel",
            "justify_items": null,
            "grid_row": null,
            "max_height": null,
            "align_content": null,
            "visibility": null,
            "align_self": null,
            "height": null,
            "min_height": null,
            "padding": null,
            "grid_auto_rows": null,
            "grid_gap": null,
            "max_width": null,
            "order": null,
            "_view_module_version": "1.2.0",
            "grid_template_areas": null,
            "object_position": null,
            "object_fit": null,
            "grid_auto_columns": null,
            "margin": null,
            "display": null,
            "left": null
          }
        },
        "2aff4d6c8923443192bdb5372629270a": {
          "model_module": "@jupyter-widgets/controls",
          "model_name": "FloatProgressModel",
          "state": {
            "_view_name": "ProgressView",
            "style": "IPY_MODEL_022863691b5443a0a22cfbcc1b0170a6",
            "_dom_classes": [],
            "description": "100%",
            "_model_name": "FloatProgressModel",
            "bar_style": "success",
            "max": 100441675,
            "_view_module": "@jupyter-widgets/controls",
            "_model_module_version": "1.5.0",
            "value": 100441675,
            "_view_count": null,
            "_view_module_version": "1.5.0",
            "orientation": "horizontal",
            "min": 0,
            "description_tooltip": null,
            "_model_module": "@jupyter-widgets/controls",
            "layout": "IPY_MODEL_7c509bcb24c94719a840121305e4c72d"
          }
        },
        "9323f7add2a44ed6893192bb6a88dada": {
          "model_module": "@jupyter-widgets/controls",
          "model_name": "HTMLModel",
          "state": {
            "_view_name": "HTMLView",
            "style": "IPY_MODEL_7d99c5867d0b42d7b330e34e48414626",
            "_dom_classes": [],
            "description": "",
            "_model_name": "HTMLModel",
            "placeholder": "​",
            "_view_module": "@jupyter-widgets/controls",
            "_model_module_version": "1.5.0",
            "value": " 95.8M/95.8M [00:14&lt;00:00, 6.97MB/s]",
            "_view_count": null,
            "_view_module_version": "1.5.0",
            "description_tooltip": null,
            "_model_module": "@jupyter-widgets/controls",
            "layout": "IPY_MODEL_a2e0523a52864beb8b6e51672bdce605"
          }
        },
        "022863691b5443a0a22cfbcc1b0170a6": {
          "model_module": "@jupyter-widgets/controls",
          "model_name": "ProgressStyleModel",
          "state": {
            "_view_name": "StyleView",
            "_model_name": "ProgressStyleModel",
            "description_width": "initial",
            "_view_module": "@jupyter-widgets/base",
            "_model_module_version": "1.5.0",
            "_view_count": null,
            "_view_module_version": "1.2.0",
            "bar_color": null,
            "_model_module": "@jupyter-widgets/controls"
          }
        },
        "7c509bcb24c94719a840121305e4c72d": {
          "model_module": "@jupyter-widgets/base",
          "model_name": "LayoutModel",
          "state": {
            "_view_name": "LayoutView",
            "grid_template_rows": null,
            "right": null,
            "justify_content": null,
            "_view_module": "@jupyter-widgets/base",
            "overflow": null,
            "_model_module_version": "1.2.0",
            "_view_count": null,
            "flex_flow": null,
            "width": null,
            "min_width": null,
            "border": null,
            "align_items": null,
            "bottom": null,
            "_model_module": "@jupyter-widgets/base",
            "top": null,
            "grid_column": null,
            "overflow_y": null,
            "overflow_x": null,
            "grid_auto_flow": null,
            "grid_area": null,
            "grid_template_columns": null,
            "flex": null,
            "_model_name": "LayoutModel",
            "justify_items": null,
            "grid_row": null,
            "max_height": null,
            "align_content": null,
            "visibility": null,
            "align_self": null,
            "height": null,
            "min_height": null,
            "padding": null,
            "grid_auto_rows": null,
            "grid_gap": null,
            "max_width": null,
            "order": null,
            "_view_module_version": "1.2.0",
            "grid_template_areas": null,
            "object_position": null,
            "object_fit": null,
            "grid_auto_columns": null,
            "margin": null,
            "display": null,
            "left": null
          }
        },
        "7d99c5867d0b42d7b330e34e48414626": {
          "model_module": "@jupyter-widgets/controls",
          "model_name": "DescriptionStyleModel",
          "state": {
            "_view_name": "StyleView",
            "_model_name": "DescriptionStyleModel",
            "description_width": "",
            "_view_module": "@jupyter-widgets/base",
            "_model_module_version": "1.5.0",
            "_view_count": null,
            "_view_module_version": "1.2.0",
            "_model_module": "@jupyter-widgets/controls"
          }
        },
        "a2e0523a52864beb8b6e51672bdce605": {
          "model_module": "@jupyter-widgets/base",
          "model_name": "LayoutModel",
          "state": {
            "_view_name": "LayoutView",
            "grid_template_rows": null,
            "right": null,
            "justify_content": null,
            "_view_module": "@jupyter-widgets/base",
            "overflow": null,
            "_model_module_version": "1.2.0",
            "_view_count": null,
            "flex_flow": null,
            "width": null,
            "min_width": null,
            "border": null,
            "align_items": null,
            "bottom": null,
            "_model_module": "@jupyter-widgets/base",
            "top": null,
            "grid_column": null,
            "overflow_y": null,
            "overflow_x": null,
            "grid_auto_flow": null,
            "grid_area": null,
            "grid_template_columns": null,
            "flex": null,
            "_model_name": "LayoutModel",
            "justify_items": null,
            "grid_row": null,
            "max_height": null,
            "align_content": null,
            "visibility": null,
            "align_self": null,
            "height": null,
            "min_height": null,
            "padding": null,
            "grid_auto_rows": null,
            "grid_gap": null,
            "max_width": null,
            "order": null,
            "_view_module_version": "1.2.0",
            "grid_template_areas": null,
            "object_position": null,
            "object_fit": null,
            "grid_auto_columns": null,
            "margin": null,
            "display": null,
            "left": null
          }
        }
      }
    }
  },
  "cells": [
    {
      "cell_type": "markdown",
      "metadata": {
        "id": "view-in-github",
        "colab_type": "text"
      },
      "source": [
        "<a href=\"https://colab.research.google.com/github/IvanLudvig/mlmipt/blob/master/torchvision/zalando.ipynb\" target=\"_parent\"><img src=\"https://colab.research.google.com/assets/colab-badge.svg\" alt=\"Open In Colab\"/></a>"
      ]
    },
    {
      "cell_type": "code",
      "metadata": {
        "id": "Im9h87WWZxXS"
      },
      "source": [
        "import pandas as pd\n",
        "import numpy as np\n",
        "from matplotlib import pyplot as plt\n",
        "from sklearn.feature_extraction.text import TfidfVectorizer\n",
        "from sklearn.model_selection import train_test_split\n",
        "import nltk\n",
        "from nltk.corpus import stopwords\n",
        "import torch.nn as nn\n",
        "import torch\n",
        "from torchvision import datasets, models, transforms\n",
        "from PIL import Image\n",
        "import torchvision\n",
        "import time\n",
        "import os\n",
        "from torch.utils.data import Dataset\n",
        "from sklearn.preprocessing import MultiLabelBinarizer\n",
        "import sklearn.metrics as metrics"
      ],
      "execution_count": 1,
      "outputs": []
    },
    {
      "cell_type": "code",
      "metadata": {
        "colab": {
          "base_uri": "https://localhost:8080/"
        },
        "id": "pA1o2-_qeaq7",
        "outputId": "79df64f5-5488-4cea-ec23-e62627893696"
      },
      "source": [
        "nltk.download('stopwords')\n",
        "nltk.download('punkt')\n",
        "nltk.download('averaged_perceptron_tagger')\n",
        "nltk.download('brown')"
      ],
      "execution_count": 2,
      "outputs": [
        {
          "output_type": "stream",
          "text": [
            "[nltk_data] Downloading package stopwords to /root/nltk_data...\n",
            "[nltk_data]   Unzipping corpora/stopwords.zip.\n",
            "[nltk_data] Downloading package punkt to /root/nltk_data...\n",
            "[nltk_data]   Unzipping tokenizers/punkt.zip.\n",
            "[nltk_data] Downloading package averaged_perceptron_tagger to\n",
            "[nltk_data]     /root/nltk_data...\n",
            "[nltk_data]   Unzipping taggers/averaged_perceptron_tagger.zip.\n",
            "[nltk_data] Downloading package brown to /root/nltk_data...\n",
            "[nltk_data]   Unzipping corpora/brown.zip.\n"
          ],
          "name": "stdout"
        },
        {
          "output_type": "execute_result",
          "data": {
            "text/plain": [
              "True"
            ]
          },
          "metadata": {
            "tags": []
          },
          "execution_count": 2
        }
      ]
    },
    {
      "cell_type": "code",
      "metadata": {
        "id": "8M12Y6og5xM_"
      },
      "source": [
        "df = pd.read_csv('/content/drive/MyDrive/ml/zalando_english_1.csv')"
      ],
      "execution_count": 3,
      "outputs": []
    },
    {
      "cell_type": "code",
      "metadata": {
        "id": "WpeHSPHurs1M"
      },
      "source": [
        "def extract_nouns(text):\n",
        "  tokenized = nltk.word_tokenize(text)\n",
        "  return [word.lower() for (word, pos) in nltk.pos_tag(tokenized) if pos[:2] == 'NN']\n",
        "\n",
        "def extract_adjs(text):\n",
        "  tokenized = nltk.word_tokenize(text)\n",
        "  return [word.lower() for (word, pos) in nltk.pos_tag(tokenized) if pos[:2] == 'JJ']\n",
        "\n",
        "df['nouns'] = df['descriptions'].apply(lambda v: extract_nouns(v))\n",
        "df['adjs'] = df['descriptions'].apply(lambda v: extract_adjs(v))"
      ],
      "execution_count": 4,
      "outputs": []
    },
    {
      "cell_type": "code",
      "metadata": {
        "id": "GO124VGHhgUS",
        "colab": {
          "base_uri": "https://localhost:8080/",
          "height": 397
        },
        "outputId": "57c9868b-557d-4b4b-fd06-8022d30ae730"
      },
      "source": [
        "df.head()"
      ],
      "execution_count": 5,
      "outputs": [
        {
          "output_type": "execute_result",
          "data": {
            "text/html": [
              "<div>\n",
              "<style scoped>\n",
              "    .dataframe tbody tr th:only-of-type {\n",
              "        vertical-align: middle;\n",
              "    }\n",
              "\n",
              "    .dataframe tbody tr th {\n",
              "        vertical-align: top;\n",
              "    }\n",
              "\n",
              "    .dataframe thead th {\n",
              "        text-align: right;\n",
              "    }\n",
              "</style>\n",
              "<table border=\"1\" class=\"dataframe\">\n",
              "  <thead>\n",
              "    <tr style=\"text-align: right;\">\n",
              "      <th></th>\n",
              "      <th>Unnamed: 0</th>\n",
              "      <th>level_0</th>\n",
              "      <th>index</th>\n",
              "      <th>url</th>\n",
              "      <th>descriptions</th>\n",
              "      <th>split</th>\n",
              "      <th>nouns</th>\n",
              "      <th>adjs</th>\n",
              "    </tr>\n",
              "  </thead>\n",
              "  <tbody>\n",
              "    <tr>\n",
              "      <th>0</th>\n",
              "      <td>0</td>\n",
              "      <td>0</td>\n",
              "      <td>0</td>\n",
              "      <td>https://i2.ztat.net/large/Y0/32/1C/00/UE/11/Y0...</td>\n",
              "      <td>short, sexy, summer, sexy, party, yellow dress...</td>\n",
              "      <td>7</td>\n",
              "      <td>[summer, sexy, party, dress, sleeves, yellow, ...</td>\n",
              "      <td>[short, sexy, yellow, shoulder-free, fabric, y...</td>\n",
              "    </tr>\n",
              "    <tr>\n",
              "      <th>1</th>\n",
              "      <td>1</td>\n",
              "      <td>1</td>\n",
              "      <td>1</td>\n",
              "      <td>https://i6.ztat.net/large/V1/02/1C/0T/QK/11/V1...</td>\n",
              "      <td>blue knee-length ladies dress with white dots ...</td>\n",
              "      <td>6</td>\n",
              "      <td>[ladies, dress, dots, pattern, round, neckline...</td>\n",
              "      <td>[blue, knee-length, white, short, white, polka...</td>\n",
              "    </tr>\n",
              "    <tr>\n",
              "      <th>2</th>\n",
              "      <td>2</td>\n",
              "      <td>2</td>\n",
              "      <td>2</td>\n",
              "      <td>https://i6.ztat.net/large/TF/72/1C/01/5K/11/TF...</td>\n",
              "      <td>This product is a dress. It's striped gray and...</td>\n",
              "      <td>2</td>\n",
              "      <td>[product, dress, blue, beach, dress, knees, ro...</td>\n",
              "      <td>[striped, gray, white, light, white, gray, whi...</td>\n",
              "    </tr>\n",
              "    <tr>\n",
              "      <th>3</th>\n",
              "      <td>3</td>\n",
              "      <td>3</td>\n",
              "      <td>3</td>\n",
              "      <td>https://i2.ztat.net/large/VE/12/1C/14/9C/11/VE...</td>\n",
              "      <td>Thigh-length fabric dress in gray with hip poc...</td>\n",
              "      <td>7</td>\n",
              "      <td>[thigh-length, fabric, dress, pockets, round, ...</td>\n",
              "      <td>[gray, hip, elbow-length, casual, three-fold, ...</td>\n",
              "    </tr>\n",
              "    <tr>\n",
              "      <th>4</th>\n",
              "      <td>4</td>\n",
              "      <td>4</td>\n",
              "      <td>4</td>\n",
              "      <td>https://i6.ztat.net/large/S2/92/1C/0B/AK/11/S2...</td>\n",
              "      <td>It is an elegant dark blue medium length dress...</td>\n",
              "      <td>7</td>\n",
              "      <td>[dark, medium, length, dress, sleeves, top, ro...</td>\n",
              "      <td>[elegant, blue, black, figure-hugging, knee-le...</td>\n",
              "    </tr>\n",
              "  </tbody>\n",
              "</table>\n",
              "</div>"
            ],
            "text/plain": [
              "   Unnamed: 0  ...                                               adjs\n",
              "0           0  ...  [short, sexy, yellow, shoulder-free, fabric, y...\n",
              "1           1  ...  [blue, knee-length, white, short, white, polka...\n",
              "2           2  ...  [striped, gray, white, light, white, gray, whi...\n",
              "3           3  ...  [gray, hip, elbow-length, casual, three-fold, ...\n",
              "4           4  ...  [elegant, blue, black, figure-hugging, knee-le...\n",
              "\n",
              "[5 rows x 8 columns]"
            ]
          },
          "metadata": {
            "tags": []
          },
          "execution_count": 5
        }
      ]
    },
    {
      "cell_type": "code",
      "metadata": {
        "id": "HDUNsQ9Vf7qF"
      },
      "source": [
        "def top_tags(tags):\n",
        "    counter = TfidfVectorizer(analyzer='word', stop_words='english')\n",
        "    try:\n",
        "      counter.fit(tags)\n",
        "    except ValueError:\n",
        "      return []\n",
        "\n",
        "    matrix_count = counter.fit_transform(tags).toarray()\n",
        "    scores = matrix_count.sum(axis=1)\n",
        "    sorted_ids = np.argsort(scores).flatten()[::-1]\n",
        "\n",
        "    return np.array(tags)[sorted_ids[:10]]\n",
        "\n",
        "df['nouns'] = df['nouns'].apply(lambda x: top_tags(x))\n",
        "df['adjs'] = df['adjs'].apply(lambda x: top_tags(x))"
      ],
      "execution_count": 6,
      "outputs": []
    },
    {
      "cell_type": "code",
      "metadata": {
        "id": "7oKAzvVdsehz",
        "colab": {
          "base_uri": "https://localhost:8080/"
        },
        "outputId": "29a9e0f1-ee9e-4ffc-df09-6806e9f35c53"
      },
      "source": [
        "num_classes = 25\n",
        "all_nouns = df['nouns'].to_numpy()\n",
        "all_nouns = np.concatenate(all_nouns)\n",
        "values, counts = np.unique(all_nouns, return_counts=True)\n",
        "\n",
        "ind = np.argpartition(-counts, kth=num_classes)[:num_classes]\n",
        "noun_classes = values[ind]\n",
        "noun_classes"
      ],
      "execution_count": 7,
      "outputs": [
        {
          "output_type": "execute_result",
          "data": {
            "text/plain": [
              "array(['knee', 'sleeves', 'arms', 'length', 'round', 'collar', 'mini',\n",
              "       'waist', 'sleeveless', 'dress', 'belt', 'v-neck', 'summer',\n",
              "       'pattern', 'cut', 'knees', 'skirt', 'blue', 'neckline',\n",
              "       'knee-length', 'straps', 'lace', 'shoulders', 'neck', 'fabric'],\n",
              "      dtype='<U27')"
            ]
          },
          "metadata": {
            "tags": []
          },
          "execution_count": 7
        }
      ]
    },
    {
      "cell_type": "code",
      "metadata": {
        "id": "SosGCQenJJ8V",
        "colab": {
          "base_uri": "https://localhost:8080/"
        },
        "outputId": "638881db-1da2-4033-97f3-ec64cad8dc8e"
      },
      "source": [
        "num_classes = 30\n",
        "all_adjs = df['adjs'].to_numpy()\n",
        "all_adjs = np.concatenate(all_adjs)\n",
        "values, counts = np.unique(all_adjs, return_counts=True)\n",
        "\n",
        "ind = np.argpartition(-counts, kth=num_classes)[:num_classes]\n",
        "adjs_classes = values[ind]\n",
        "adjs_classes"
      ],
      "execution_count": 8,
      "outputs": [
        {
          "output_type": "execute_result",
          "data": {
            "text/plain": [
              "array(['tight', 'narrow', 'blue', 'white', 'small', 'floral', 'free',\n",
              "       'wide', 'half-length', 'sleeveless', 'medium-length', 'light',\n",
              "       'gray', 'deep', 'long', 'red', 'black', 'shoulder-free', 'dark',\n",
              "       'knee-length', 'colorful', 'figure-hugging', 'short', 'mid-thigh',\n",
              "       'large', 'high', 'elegant', 'green', 'fabric', 'floor-length'],\n",
              "      dtype='<U27')"
            ]
          },
          "metadata": {
            "tags": []
          },
          "execution_count": 8
        }
      ]
    },
    {
      "cell_type": "code",
      "metadata": {
        "id": "HkYwS9uNuDhD"
      },
      "source": [
        "df['nouns'] = df['nouns'].map(lambda v: noun_classes[np.in1d(noun_classes, v)]).values\n",
        "df['adjs'] = df['adjs'].map(lambda v: adjs_classes[np.in1d(adjs_classes, v)]).values"
      ],
      "execution_count": 9,
      "outputs": []
    },
    {
      "cell_type": "code",
      "metadata": {
        "id": "7LkLBTMGuo5m"
      },
      "source": [
        "df = df[df['nouns'].map(len) >= 1]\n",
        "df = df[df['adjs'].map(len) >= 1]"
      ],
      "execution_count": 10,
      "outputs": []
    },
    {
      "cell_type": "code",
      "metadata": {
        "id": "G7RSYezkYGKD"
      },
      "source": [
        "!unzip /content/drive/MyDrive/ml/zalando_img_224.zip"
      ],
      "execution_count": null,
      "outputs": []
    },
    {
      "cell_type": "code",
      "metadata": {
        "id": "5rEtZpxDp8jA"
      },
      "source": [
        "loaded_images = []\n",
        "\n",
        "my_transforms = transforms.Compose([transforms.Resize((224, 224)), transforms.ToTensor(), transforms.Normalize((0.5, 0.5, 0.5), (0.5, 0.5, 0.5))])\n",
        "\n",
        "for i, url in enumerate(df['url'].values):\n",
        "    filename = url.split('/')[-1]\n",
        "    img = Image.open(f\"/content/zalando_img_224/{filename}\")\n",
        "    img_tensor = my_transforms(img.convert('RGB'))\n",
        "    loaded_images.append(img_tensor)"
      ],
      "execution_count": 12,
      "outputs": []
    },
    {
      "cell_type": "code",
      "metadata": {
        "id": "Nd0db4qLt4Cg",
        "colab": {
          "base_uri": "https://localhost:8080/"
        },
        "outputId": "b081006f-ca8c-4a24-d139-a5661570c2cc"
      },
      "source": [
        "len(loaded_images)"
      ],
      "execution_count": 13,
      "outputs": [
        {
          "output_type": "execute_result",
          "data": {
            "text/plain": [
              "8789"
            ]
          },
          "metadata": {
            "tags": []
          },
          "execution_count": 13
        }
      ]
    },
    {
      "cell_type": "code",
      "metadata": {
        "id": "GEvJXoX-qrtO",
        "colab": {
          "base_uri": "https://localhost:8080/",
          "height": 702
        },
        "outputId": "f603e298-2dca-4f93-9436-3e516bbd6c68"
      },
      "source": [
        "df"
      ],
      "execution_count": 14,
      "outputs": [
        {
          "output_type": "execute_result",
          "data": {
            "text/html": [
              "<div>\n",
              "<style scoped>\n",
              "    .dataframe tbody tr th:only-of-type {\n",
              "        vertical-align: middle;\n",
              "    }\n",
              "\n",
              "    .dataframe tbody tr th {\n",
              "        vertical-align: top;\n",
              "    }\n",
              "\n",
              "    .dataframe thead th {\n",
              "        text-align: right;\n",
              "    }\n",
              "</style>\n",
              "<table border=\"1\" class=\"dataframe\">\n",
              "  <thead>\n",
              "    <tr style=\"text-align: right;\">\n",
              "      <th></th>\n",
              "      <th>Unnamed: 0</th>\n",
              "      <th>level_0</th>\n",
              "      <th>index</th>\n",
              "      <th>url</th>\n",
              "      <th>descriptions</th>\n",
              "      <th>split</th>\n",
              "      <th>nouns</th>\n",
              "      <th>adjs</th>\n",
              "    </tr>\n",
              "  </thead>\n",
              "  <tbody>\n",
              "    <tr>\n",
              "      <th>0</th>\n",
              "      <td>0</td>\n",
              "      <td>0</td>\n",
              "      <td>0</td>\n",
              "      <td>https://i2.ztat.net/large/Y0/32/1C/00/UE/11/Y0...</td>\n",
              "      <td>short, sexy, summer, sexy, party, yellow dress...</td>\n",
              "      <td>7</td>\n",
              "      <td>[sleeves, length, dress, knee-length, straps]</td>\n",
              "      <td>[wide, sleeveless, deep, shoulder-free]</td>\n",
              "    </tr>\n",
              "    <tr>\n",
              "      <th>1</th>\n",
              "      <td>1</td>\n",
              "      <td>1</td>\n",
              "      <td>1</td>\n",
              "      <td>https://i6.ztat.net/large/V1/02/1C/0T/QK/11/V1...</td>\n",
              "      <td>blue knee-length ladies dress with white dots ...</td>\n",
              "      <td>6</td>\n",
              "      <td>[sleeves, round, dress, pattern, skirt, blue, ...</td>\n",
              "      <td>[white, knee-length, short]</td>\n",
              "    </tr>\n",
              "    <tr>\n",
              "      <th>2</th>\n",
              "      <td>2</td>\n",
              "      <td>2</td>\n",
              "      <td>2</td>\n",
              "      <td>https://i6.ztat.net/large/TF/72/1C/01/5K/11/TF...</td>\n",
              "      <td>This product is a dress. It's striped gray and...</td>\n",
              "      <td>2</td>\n",
              "      <td>[round, dress, knees, blue, neckline]</td>\n",
              "      <td>[white, small, gray, black]</td>\n",
              "    </tr>\n",
              "    <tr>\n",
              "      <th>3</th>\n",
              "      <td>3</td>\n",
              "      <td>3</td>\n",
              "      <td>3</td>\n",
              "      <td>https://i2.ztat.net/large/VE/12/1C/14/9C/11/VE...</td>\n",
              "      <td>Thigh-length fabric dress in gray with hip poc...</td>\n",
              "      <td>7</td>\n",
              "      <td>[sleeves, length, round, dress, neckline, fabric]</td>\n",
              "      <td>[half-length, light, gray, short]</td>\n",
              "    </tr>\n",
              "    <tr>\n",
              "      <th>4</th>\n",
              "      <td>4</td>\n",
              "      <td>4</td>\n",
              "      <td>4</td>\n",
              "      <td>https://i6.ztat.net/large/S2/92/1C/0B/AK/11/S2...</td>\n",
              "      <td>It is an elegant dark blue medium length dress...</td>\n",
              "      <td>7</td>\n",
              "      <td>[sleeves, length, round, dress, cut, neckline,...</td>\n",
              "      <td>[blue, dark, knee-length, figure-hugging, short]</td>\n",
              "    </tr>\n",
              "    <tr>\n",
              "      <th>...</th>\n",
              "      <td>...</td>\n",
              "      <td>...</td>\n",
              "      <td>...</td>\n",
              "      <td>...</td>\n",
              "      <td>...</td>\n",
              "      <td>...</td>\n",
              "      <td>...</td>\n",
              "      <td>...</td>\n",
              "    </tr>\n",
              "    <tr>\n",
              "      <th>8787</th>\n",
              "      <td>8787</td>\n",
              "      <td>8787</td>\n",
              "      <td>8788</td>\n",
              "      <td>https://i1.ztat.net/large/GS/12/1C/04/NC/11/GS...</td>\n",
              "      <td>It is a military green dress with a round neck...</td>\n",
              "      <td>0</td>\n",
              "      <td>[round, sleeveless, dress, neckline]</td>\n",
              "      <td>[wide, sleeveless, deep, long, dark]</td>\n",
              "    </tr>\n",
              "    <tr>\n",
              "      <th>8788</th>\n",
              "      <td>8788</td>\n",
              "      <td>8788</td>\n",
              "      <td>8789</td>\n",
              "      <td>https://i2.ztat.net/large/MF/92/1C/0D/OK/11/MF...</td>\n",
              "      <td>Short blue mini dress with knotted straps, sle...</td>\n",
              "      <td>8</td>\n",
              "      <td>[length, mini, sleeveless, dress, blue, neckli...</td>\n",
              "      <td>[free, black, short, mid-thigh]</td>\n",
              "    </tr>\n",
              "    <tr>\n",
              "      <th>8789</th>\n",
              "      <td>8789</td>\n",
              "      <td>8789</td>\n",
              "      <td>8790</td>\n",
              "      <td>https://i5.ztat.net/large/V1/02/1C/0Q/8M/11/V1...</td>\n",
              "      <td>green dress it has a wide round collar and a s...</td>\n",
              "      <td>3</td>\n",
              "      <td>[sleeves, round, dress, summer, skirt, necklin...</td>\n",
              "      <td>[wide, figure-hugging, short, high, green, fab...</td>\n",
              "    </tr>\n",
              "    <tr>\n",
              "      <th>8790</th>\n",
              "      <td>8790</td>\n",
              "      <td>8790</td>\n",
              "      <td>8791</td>\n",
              "      <td>https://i5.ztat.net/large/GL/92/1C/06/SK/11/GL...</td>\n",
              "      <td>Thigh-length fabric dress in blue with white p...</td>\n",
              "      <td>9</td>\n",
              "      <td>[sleeves, round, dress, neckline, knee-length]</td>\n",
              "      <td>[blue, white, wide, gray, long]</td>\n",
              "    </tr>\n",
              "    <tr>\n",
              "      <th>8791</th>\n",
              "      <td>8791</td>\n",
              "      <td>8791</td>\n",
              "      <td>8792</td>\n",
              "      <td>https://i1.ztat.net/large/AX/82/1C/A2/2Q/11/AX...</td>\n",
              "      <td>black dress with colorful flowers as a print, ...</td>\n",
              "      <td>5</td>\n",
              "      <td>[dress, v-neck, skirt, straps]</td>\n",
              "      <td>[narrow, floral, wide, sleeveless, black, colo...</td>\n",
              "    </tr>\n",
              "  </tbody>\n",
              "</table>\n",
              "<p>8789 rows × 8 columns</p>\n",
              "</div>"
            ],
            "text/plain": [
              "      Unnamed: 0  ...                                               adjs\n",
              "0              0  ...            [wide, sleeveless, deep, shoulder-free]\n",
              "1              1  ...                        [white, knee-length, short]\n",
              "2              2  ...                        [white, small, gray, black]\n",
              "3              3  ...                  [half-length, light, gray, short]\n",
              "4              4  ...   [blue, dark, knee-length, figure-hugging, short]\n",
              "...          ...  ...                                                ...\n",
              "8787        8787  ...               [wide, sleeveless, deep, long, dark]\n",
              "8788        8788  ...                    [free, black, short, mid-thigh]\n",
              "8789        8789  ...  [wide, figure-hugging, short, high, green, fab...\n",
              "8790        8790  ...                    [blue, white, wide, gray, long]\n",
              "8791        8791  ...  [narrow, floral, wide, sleeveless, black, colo...\n",
              "\n",
              "[8789 rows x 8 columns]"
            ]
          },
          "metadata": {
            "tags": []
          },
          "execution_count": 14
        }
      ]
    },
    {
      "cell_type": "code",
      "metadata": {
        "id": "bWwS-5iEZCoS"
      },
      "source": [
        "batch_size = 100\n",
        "num_workers = 8\n",
        "\n",
        "class MyDataset(Dataset):\n",
        "    def __init__(self, data, targets, transform=None):\n",
        "        self.data = data\n",
        "        self.targets = torch.Tensor(targets)\n",
        "        # self.targets = torch.from_numpy(targets)\n",
        "        # self.targets = targets\n",
        "        self.transform = transform\n",
        "\n",
        "    def __getitem__(self, index):\n",
        "        x = self.data[index]\n",
        "        y = self.targets[index]\n",
        "\n",
        "        if self.transform:\n",
        "            x = Image.fromarray(self.data[index].astype(np.uint8).transpose(1,2,0))\n",
        "            x = self.transform(x)\n",
        "        return x, y\n",
        "\n",
        "    def __len__(self):\n",
        "        return len(self.data)"
      ],
      "execution_count": 15,
      "outputs": []
    },
    {
      "cell_type": "code",
      "metadata": {
        "id": "gZM2FIL6ZMgc",
        "colab": {
          "base_uri": "https://localhost:8080/",
          "height": 244
        },
        "outputId": "05ac3a8b-afe6-4f9d-d2a4-a829638fadf2"
      },
      "source": [
        "mlb = MultiLabelBinarizer()\n",
        "y = pd.DataFrame(mlb.fit_transform(df['adjs']), columns=mlb.classes_)\n",
        "y.head()"
      ],
      "execution_count": 16,
      "outputs": [
        {
          "output_type": "execute_result",
          "data": {
            "text/html": [
              "<div>\n",
              "<style scoped>\n",
              "    .dataframe tbody tr th:only-of-type {\n",
              "        vertical-align: middle;\n",
              "    }\n",
              "\n",
              "    .dataframe tbody tr th {\n",
              "        vertical-align: top;\n",
              "    }\n",
              "\n",
              "    .dataframe thead th {\n",
              "        text-align: right;\n",
              "    }\n",
              "</style>\n",
              "<table border=\"1\" class=\"dataframe\">\n",
              "  <thead>\n",
              "    <tr style=\"text-align: right;\">\n",
              "      <th></th>\n",
              "      <th>black</th>\n",
              "      <th>blue</th>\n",
              "      <th>colorful</th>\n",
              "      <th>dark</th>\n",
              "      <th>deep</th>\n",
              "      <th>elegant</th>\n",
              "      <th>fabric</th>\n",
              "      <th>figure-hugging</th>\n",
              "      <th>floor-length</th>\n",
              "      <th>floral</th>\n",
              "      <th>free</th>\n",
              "      <th>gray</th>\n",
              "      <th>green</th>\n",
              "      <th>half-length</th>\n",
              "      <th>high</th>\n",
              "      <th>knee-length</th>\n",
              "      <th>large</th>\n",
              "      <th>light</th>\n",
              "      <th>long</th>\n",
              "      <th>medium-length</th>\n",
              "      <th>mid-thigh</th>\n",
              "      <th>narrow</th>\n",
              "      <th>red</th>\n",
              "      <th>short</th>\n",
              "      <th>shoulder-free</th>\n",
              "      <th>sleeveless</th>\n",
              "      <th>small</th>\n",
              "      <th>tight</th>\n",
              "      <th>white</th>\n",
              "      <th>wide</th>\n",
              "    </tr>\n",
              "  </thead>\n",
              "  <tbody>\n",
              "    <tr>\n",
              "      <th>0</th>\n",
              "      <td>0</td>\n",
              "      <td>0</td>\n",
              "      <td>0</td>\n",
              "      <td>0</td>\n",
              "      <td>1</td>\n",
              "      <td>0</td>\n",
              "      <td>0</td>\n",
              "      <td>0</td>\n",
              "      <td>0</td>\n",
              "      <td>0</td>\n",
              "      <td>0</td>\n",
              "      <td>0</td>\n",
              "      <td>0</td>\n",
              "      <td>0</td>\n",
              "      <td>0</td>\n",
              "      <td>0</td>\n",
              "      <td>0</td>\n",
              "      <td>0</td>\n",
              "      <td>0</td>\n",
              "      <td>0</td>\n",
              "      <td>0</td>\n",
              "      <td>0</td>\n",
              "      <td>0</td>\n",
              "      <td>0</td>\n",
              "      <td>1</td>\n",
              "      <td>1</td>\n",
              "      <td>0</td>\n",
              "      <td>0</td>\n",
              "      <td>0</td>\n",
              "      <td>1</td>\n",
              "    </tr>\n",
              "    <tr>\n",
              "      <th>1</th>\n",
              "      <td>0</td>\n",
              "      <td>0</td>\n",
              "      <td>0</td>\n",
              "      <td>0</td>\n",
              "      <td>0</td>\n",
              "      <td>0</td>\n",
              "      <td>0</td>\n",
              "      <td>0</td>\n",
              "      <td>0</td>\n",
              "      <td>0</td>\n",
              "      <td>0</td>\n",
              "      <td>0</td>\n",
              "      <td>0</td>\n",
              "      <td>0</td>\n",
              "      <td>0</td>\n",
              "      <td>1</td>\n",
              "      <td>0</td>\n",
              "      <td>0</td>\n",
              "      <td>0</td>\n",
              "      <td>0</td>\n",
              "      <td>0</td>\n",
              "      <td>0</td>\n",
              "      <td>0</td>\n",
              "      <td>1</td>\n",
              "      <td>0</td>\n",
              "      <td>0</td>\n",
              "      <td>0</td>\n",
              "      <td>0</td>\n",
              "      <td>1</td>\n",
              "      <td>0</td>\n",
              "    </tr>\n",
              "    <tr>\n",
              "      <th>2</th>\n",
              "      <td>1</td>\n",
              "      <td>0</td>\n",
              "      <td>0</td>\n",
              "      <td>0</td>\n",
              "      <td>0</td>\n",
              "      <td>0</td>\n",
              "      <td>0</td>\n",
              "      <td>0</td>\n",
              "      <td>0</td>\n",
              "      <td>0</td>\n",
              "      <td>0</td>\n",
              "      <td>1</td>\n",
              "      <td>0</td>\n",
              "      <td>0</td>\n",
              "      <td>0</td>\n",
              "      <td>0</td>\n",
              "      <td>0</td>\n",
              "      <td>0</td>\n",
              "      <td>0</td>\n",
              "      <td>0</td>\n",
              "      <td>0</td>\n",
              "      <td>0</td>\n",
              "      <td>0</td>\n",
              "      <td>0</td>\n",
              "      <td>0</td>\n",
              "      <td>0</td>\n",
              "      <td>1</td>\n",
              "      <td>0</td>\n",
              "      <td>1</td>\n",
              "      <td>0</td>\n",
              "    </tr>\n",
              "    <tr>\n",
              "      <th>3</th>\n",
              "      <td>0</td>\n",
              "      <td>0</td>\n",
              "      <td>0</td>\n",
              "      <td>0</td>\n",
              "      <td>0</td>\n",
              "      <td>0</td>\n",
              "      <td>0</td>\n",
              "      <td>0</td>\n",
              "      <td>0</td>\n",
              "      <td>0</td>\n",
              "      <td>0</td>\n",
              "      <td>1</td>\n",
              "      <td>0</td>\n",
              "      <td>1</td>\n",
              "      <td>0</td>\n",
              "      <td>0</td>\n",
              "      <td>0</td>\n",
              "      <td>1</td>\n",
              "      <td>0</td>\n",
              "      <td>0</td>\n",
              "      <td>0</td>\n",
              "      <td>0</td>\n",
              "      <td>0</td>\n",
              "      <td>1</td>\n",
              "      <td>0</td>\n",
              "      <td>0</td>\n",
              "      <td>0</td>\n",
              "      <td>0</td>\n",
              "      <td>0</td>\n",
              "      <td>0</td>\n",
              "    </tr>\n",
              "    <tr>\n",
              "      <th>4</th>\n",
              "      <td>0</td>\n",
              "      <td>1</td>\n",
              "      <td>0</td>\n",
              "      <td>1</td>\n",
              "      <td>0</td>\n",
              "      <td>0</td>\n",
              "      <td>0</td>\n",
              "      <td>1</td>\n",
              "      <td>0</td>\n",
              "      <td>0</td>\n",
              "      <td>0</td>\n",
              "      <td>0</td>\n",
              "      <td>0</td>\n",
              "      <td>0</td>\n",
              "      <td>0</td>\n",
              "      <td>1</td>\n",
              "      <td>0</td>\n",
              "      <td>0</td>\n",
              "      <td>0</td>\n",
              "      <td>0</td>\n",
              "      <td>0</td>\n",
              "      <td>0</td>\n",
              "      <td>0</td>\n",
              "      <td>1</td>\n",
              "      <td>0</td>\n",
              "      <td>0</td>\n",
              "      <td>0</td>\n",
              "      <td>0</td>\n",
              "      <td>0</td>\n",
              "      <td>0</td>\n",
              "    </tr>\n",
              "  </tbody>\n",
              "</table>\n",
              "</div>"
            ],
            "text/plain": [
              "   black  blue  colorful  dark  deep  ...  sleeveless  small  tight  white  wide\n",
              "0      0     0         0     0     1  ...           1      0      0      0     1\n",
              "1      0     0         0     0     0  ...           0      0      0      1     0\n",
              "2      1     0         0     0     0  ...           0      1      0      1     0\n",
              "3      0     0         0     0     0  ...           0      0      0      0     0\n",
              "4      0     1         0     1     0  ...           0      0      0      0     0\n",
              "\n",
              "[5 rows x 30 columns]"
            ]
          },
          "metadata": {
            "tags": []
          },
          "execution_count": 16
        }
      ]
    },
    {
      "cell_type": "code",
      "metadata": {
        "id": "-AQA7Loct8OJ",
        "colab": {
          "base_uri": "https://localhost:8080/"
        },
        "outputId": "c7185895-7e44-443b-c7bc-f525ff4e653c"
      },
      "source": [
        "y = y.to_numpy()\n",
        "\n",
        "x_train, x_test, y_train, y_test = train_test_split(loaded_images, y, test_size=0.3, random_state=42)\n",
        "\n",
        "train_dataset = MyDataset(x_train, y_train)\n",
        "dataloader_train = torch.utils.data.DataLoader(train_dataset, batch_size=batch_size, shuffle=True, num_workers=num_workers)\n",
        "\n",
        "test_dataset = MyDataset(x_test, y_test)\n",
        "dataloader_test = torch.utils.data.DataLoader(test_dataset, batch_size=batch_size, num_workers=num_workers)\n",
        "\n",
        "image_datasets = {'train': x_train, 'val': x_test}\n",
        "dataset_sizes = {x: len(image_datasets[x]) for x in ['train', 'val']}\n",
        "\n",
        "dataloaders = {'train': dataloader_train, 'val': dataloader_test}"
      ],
      "execution_count": 17,
      "outputs": [
        {
          "output_type": "stream",
          "text": [
            "/usr/local/lib/python3.7/dist-packages/torch/utils/data/dataloader.py:477: UserWarning: This DataLoader will create 8 worker processes in total. Our suggested max number of worker in current system is 2, which is smaller than what this DataLoader is going to create. Please be aware that excessive worker creation might get DataLoader running slow or even freeze, lower the worker number to avoid potential slowness/freeze if necessary.\n",
            "  cpuset_checked))\n"
          ],
          "name": "stderr"
        }
      ]
    },
    {
      "cell_type": "code",
      "metadata": {
        "id": "i0nTJA7kpltH"
      },
      "source": [
        "input_size = 224\n",
        "num_classes = len(mlb.classes_)"
      ],
      "execution_count": 18,
      "outputs": []
    },
    {
      "cell_type": "code",
      "metadata": {
        "id": "BQBV-0W1oPqo",
        "colab": {
          "base_uri": "https://localhost:8080/"
        },
        "outputId": "d8c2e471-11cc-4591-de3f-dee75cfbd73e"
      },
      "source": [
        "device = torch.device(\"cuda\" if torch.cuda.is_available() else \"cpu\")\n",
        "device"
      ],
      "execution_count": 19,
      "outputs": [
        {
          "output_type": "execute_result",
          "data": {
            "text/plain": [
              "device(type='cuda')"
            ]
          },
          "metadata": {
            "tags": []
          },
          "execution_count": 19
        }
      ]
    },
    {
      "cell_type": "code",
      "metadata": {
        "id": "obgfIlrQlfGx"
      },
      "source": [
        "def calculate_metrics(pred, target, threshold=0.5):\n",
        "    pred = np.array(pred > threshold, dtype=float)\n",
        "    return {\n",
        "            'micro/f1': metrics.f1_score(y_true=target, y_pred=pred, average='micro'),\n",
        "            'macro/f1': metrics.f1_score(y_true=target, y_pred=pred, average='macro'),\n",
        "            'samples/f1': metrics.f1_score(y_true=target, y_pred=pred, average='samples'),\n",
        "            }\n"
      ],
      "execution_count": 20,
      "outputs": []
    },
    {
      "cell_type": "code",
      "metadata": {
        "id": "jJ-NZ0TQk3jt",
        "colab": {
          "base_uri": "https://localhost:8080/",
          "height": 1000,
          "referenced_widgets": [
            "560a33361b4f44d992363fcc1e51ff9b",
            "7dae03ea518b4e9491f7da0efba68990",
            "2aff4d6c8923443192bdb5372629270a",
            "9323f7add2a44ed6893192bb6a88dada",
            "022863691b5443a0a22cfbcc1b0170a6",
            "7c509bcb24c94719a840121305e4c72d",
            "7d99c5867d0b42d7b330e34e48414626",
            "a2e0523a52864beb8b6e51672bdce605"
          ]
        },
        "outputId": "8095f540-1949-4860-bbcc-a9e343723573"
      },
      "source": [
        "class Resnext50(nn.Module):\n",
        "    def __init__(self, n_classes):\n",
        "        super().__init__()\n",
        "        resnet = models.resnext50_32x4d(pretrained=True)\n",
        "        resnet.fc = nn.Sequential(\n",
        "            nn.Dropout(p=0.2),\n",
        "            nn.Linear(in_features=resnet.fc.in_features, out_features=n_classes)\n",
        "        )\n",
        "        self.base_model = resnet\n",
        "        self.sigm = nn.Sigmoid()\n",
        "\n",
        "    def forward(self, x):\n",
        "        return self.sigm(self.base_model(x))\n",
        "\n",
        "model = Resnext50(num_classes)\n",
        "model = model.to(device)\n",
        "model.train()"
      ],
      "execution_count": 21,
      "outputs": [
        {
          "output_type": "stream",
          "text": [
            "Downloading: \"https://download.pytorch.org/models/resnext50_32x4d-7cdf4587.pth\" to /root/.cache/torch/hub/checkpoints/resnext50_32x4d-7cdf4587.pth\n"
          ],
          "name": "stderr"
        },
        {
          "output_type": "display_data",
          "data": {
            "application/vnd.jupyter.widget-view+json": {
              "model_id": "560a33361b4f44d992363fcc1e51ff9b",
              "version_minor": 0,
              "version_major": 2
            },
            "text/plain": [
              "HBox(children=(FloatProgress(value=0.0, max=100441675.0), HTML(value='')))"
            ]
          },
          "metadata": {
            "tags": []
          }
        },
        {
          "output_type": "stream",
          "text": [
            "\n"
          ],
          "name": "stdout"
        },
        {
          "output_type": "execute_result",
          "data": {
            "text/plain": [
              "Resnext50(\n",
              "  (base_model): ResNet(\n",
              "    (conv1): Conv2d(3, 64, kernel_size=(7, 7), stride=(2, 2), padding=(3, 3), bias=False)\n",
              "    (bn1): BatchNorm2d(64, eps=1e-05, momentum=0.1, affine=True, track_running_stats=True)\n",
              "    (relu): ReLU(inplace=True)\n",
              "    (maxpool): MaxPool2d(kernel_size=3, stride=2, padding=1, dilation=1, ceil_mode=False)\n",
              "    (layer1): Sequential(\n",
              "      (0): Bottleneck(\n",
              "        (conv1): Conv2d(64, 128, kernel_size=(1, 1), stride=(1, 1), bias=False)\n",
              "        (bn1): BatchNorm2d(128, eps=1e-05, momentum=0.1, affine=True, track_running_stats=True)\n",
              "        (conv2): Conv2d(128, 128, kernel_size=(3, 3), stride=(1, 1), padding=(1, 1), groups=32, bias=False)\n",
              "        (bn2): BatchNorm2d(128, eps=1e-05, momentum=0.1, affine=True, track_running_stats=True)\n",
              "        (conv3): Conv2d(128, 256, kernel_size=(1, 1), stride=(1, 1), bias=False)\n",
              "        (bn3): BatchNorm2d(256, eps=1e-05, momentum=0.1, affine=True, track_running_stats=True)\n",
              "        (relu): ReLU(inplace=True)\n",
              "        (downsample): Sequential(\n",
              "          (0): Conv2d(64, 256, kernel_size=(1, 1), stride=(1, 1), bias=False)\n",
              "          (1): BatchNorm2d(256, eps=1e-05, momentum=0.1, affine=True, track_running_stats=True)\n",
              "        )\n",
              "      )\n",
              "      (1): Bottleneck(\n",
              "        (conv1): Conv2d(256, 128, kernel_size=(1, 1), stride=(1, 1), bias=False)\n",
              "        (bn1): BatchNorm2d(128, eps=1e-05, momentum=0.1, affine=True, track_running_stats=True)\n",
              "        (conv2): Conv2d(128, 128, kernel_size=(3, 3), stride=(1, 1), padding=(1, 1), groups=32, bias=False)\n",
              "        (bn2): BatchNorm2d(128, eps=1e-05, momentum=0.1, affine=True, track_running_stats=True)\n",
              "        (conv3): Conv2d(128, 256, kernel_size=(1, 1), stride=(1, 1), bias=False)\n",
              "        (bn3): BatchNorm2d(256, eps=1e-05, momentum=0.1, affine=True, track_running_stats=True)\n",
              "        (relu): ReLU(inplace=True)\n",
              "      )\n",
              "      (2): Bottleneck(\n",
              "        (conv1): Conv2d(256, 128, kernel_size=(1, 1), stride=(1, 1), bias=False)\n",
              "        (bn1): BatchNorm2d(128, eps=1e-05, momentum=0.1, affine=True, track_running_stats=True)\n",
              "        (conv2): Conv2d(128, 128, kernel_size=(3, 3), stride=(1, 1), padding=(1, 1), groups=32, bias=False)\n",
              "        (bn2): BatchNorm2d(128, eps=1e-05, momentum=0.1, affine=True, track_running_stats=True)\n",
              "        (conv3): Conv2d(128, 256, kernel_size=(1, 1), stride=(1, 1), bias=False)\n",
              "        (bn3): BatchNorm2d(256, eps=1e-05, momentum=0.1, affine=True, track_running_stats=True)\n",
              "        (relu): ReLU(inplace=True)\n",
              "      )\n",
              "    )\n",
              "    (layer2): Sequential(\n",
              "      (0): Bottleneck(\n",
              "        (conv1): Conv2d(256, 256, kernel_size=(1, 1), stride=(1, 1), bias=False)\n",
              "        (bn1): BatchNorm2d(256, eps=1e-05, momentum=0.1, affine=True, track_running_stats=True)\n",
              "        (conv2): Conv2d(256, 256, kernel_size=(3, 3), stride=(2, 2), padding=(1, 1), groups=32, bias=False)\n",
              "        (bn2): BatchNorm2d(256, eps=1e-05, momentum=0.1, affine=True, track_running_stats=True)\n",
              "        (conv3): Conv2d(256, 512, kernel_size=(1, 1), stride=(1, 1), bias=False)\n",
              "        (bn3): BatchNorm2d(512, eps=1e-05, momentum=0.1, affine=True, track_running_stats=True)\n",
              "        (relu): ReLU(inplace=True)\n",
              "        (downsample): Sequential(\n",
              "          (0): Conv2d(256, 512, kernel_size=(1, 1), stride=(2, 2), bias=False)\n",
              "          (1): BatchNorm2d(512, eps=1e-05, momentum=0.1, affine=True, track_running_stats=True)\n",
              "        )\n",
              "      )\n",
              "      (1): Bottleneck(\n",
              "        (conv1): Conv2d(512, 256, kernel_size=(1, 1), stride=(1, 1), bias=False)\n",
              "        (bn1): BatchNorm2d(256, eps=1e-05, momentum=0.1, affine=True, track_running_stats=True)\n",
              "        (conv2): Conv2d(256, 256, kernel_size=(3, 3), stride=(1, 1), padding=(1, 1), groups=32, bias=False)\n",
              "        (bn2): BatchNorm2d(256, eps=1e-05, momentum=0.1, affine=True, track_running_stats=True)\n",
              "        (conv3): Conv2d(256, 512, kernel_size=(1, 1), stride=(1, 1), bias=False)\n",
              "        (bn3): BatchNorm2d(512, eps=1e-05, momentum=0.1, affine=True, track_running_stats=True)\n",
              "        (relu): ReLU(inplace=True)\n",
              "      )\n",
              "      (2): Bottleneck(\n",
              "        (conv1): Conv2d(512, 256, kernel_size=(1, 1), stride=(1, 1), bias=False)\n",
              "        (bn1): BatchNorm2d(256, eps=1e-05, momentum=0.1, affine=True, track_running_stats=True)\n",
              "        (conv2): Conv2d(256, 256, kernel_size=(3, 3), stride=(1, 1), padding=(1, 1), groups=32, bias=False)\n",
              "        (bn2): BatchNorm2d(256, eps=1e-05, momentum=0.1, affine=True, track_running_stats=True)\n",
              "        (conv3): Conv2d(256, 512, kernel_size=(1, 1), stride=(1, 1), bias=False)\n",
              "        (bn3): BatchNorm2d(512, eps=1e-05, momentum=0.1, affine=True, track_running_stats=True)\n",
              "        (relu): ReLU(inplace=True)\n",
              "      )\n",
              "      (3): Bottleneck(\n",
              "        (conv1): Conv2d(512, 256, kernel_size=(1, 1), stride=(1, 1), bias=False)\n",
              "        (bn1): BatchNorm2d(256, eps=1e-05, momentum=0.1, affine=True, track_running_stats=True)\n",
              "        (conv2): Conv2d(256, 256, kernel_size=(3, 3), stride=(1, 1), padding=(1, 1), groups=32, bias=False)\n",
              "        (bn2): BatchNorm2d(256, eps=1e-05, momentum=0.1, affine=True, track_running_stats=True)\n",
              "        (conv3): Conv2d(256, 512, kernel_size=(1, 1), stride=(1, 1), bias=False)\n",
              "        (bn3): BatchNorm2d(512, eps=1e-05, momentum=0.1, affine=True, track_running_stats=True)\n",
              "        (relu): ReLU(inplace=True)\n",
              "      )\n",
              "    )\n",
              "    (layer3): Sequential(\n",
              "      (0): Bottleneck(\n",
              "        (conv1): Conv2d(512, 512, kernel_size=(1, 1), stride=(1, 1), bias=False)\n",
              "        (bn1): BatchNorm2d(512, eps=1e-05, momentum=0.1, affine=True, track_running_stats=True)\n",
              "        (conv2): Conv2d(512, 512, kernel_size=(3, 3), stride=(2, 2), padding=(1, 1), groups=32, bias=False)\n",
              "        (bn2): BatchNorm2d(512, eps=1e-05, momentum=0.1, affine=True, track_running_stats=True)\n",
              "        (conv3): Conv2d(512, 1024, kernel_size=(1, 1), stride=(1, 1), bias=False)\n",
              "        (bn3): BatchNorm2d(1024, eps=1e-05, momentum=0.1, affine=True, track_running_stats=True)\n",
              "        (relu): ReLU(inplace=True)\n",
              "        (downsample): Sequential(\n",
              "          (0): Conv2d(512, 1024, kernel_size=(1, 1), stride=(2, 2), bias=False)\n",
              "          (1): BatchNorm2d(1024, eps=1e-05, momentum=0.1, affine=True, track_running_stats=True)\n",
              "        )\n",
              "      )\n",
              "      (1): Bottleneck(\n",
              "        (conv1): Conv2d(1024, 512, kernel_size=(1, 1), stride=(1, 1), bias=False)\n",
              "        (bn1): BatchNorm2d(512, eps=1e-05, momentum=0.1, affine=True, track_running_stats=True)\n",
              "        (conv2): Conv2d(512, 512, kernel_size=(3, 3), stride=(1, 1), padding=(1, 1), groups=32, bias=False)\n",
              "        (bn2): BatchNorm2d(512, eps=1e-05, momentum=0.1, affine=True, track_running_stats=True)\n",
              "        (conv3): Conv2d(512, 1024, kernel_size=(1, 1), stride=(1, 1), bias=False)\n",
              "        (bn3): BatchNorm2d(1024, eps=1e-05, momentum=0.1, affine=True, track_running_stats=True)\n",
              "        (relu): ReLU(inplace=True)\n",
              "      )\n",
              "      (2): Bottleneck(\n",
              "        (conv1): Conv2d(1024, 512, kernel_size=(1, 1), stride=(1, 1), bias=False)\n",
              "        (bn1): BatchNorm2d(512, eps=1e-05, momentum=0.1, affine=True, track_running_stats=True)\n",
              "        (conv2): Conv2d(512, 512, kernel_size=(3, 3), stride=(1, 1), padding=(1, 1), groups=32, bias=False)\n",
              "        (bn2): BatchNorm2d(512, eps=1e-05, momentum=0.1, affine=True, track_running_stats=True)\n",
              "        (conv3): Conv2d(512, 1024, kernel_size=(1, 1), stride=(1, 1), bias=False)\n",
              "        (bn3): BatchNorm2d(1024, eps=1e-05, momentum=0.1, affine=True, track_running_stats=True)\n",
              "        (relu): ReLU(inplace=True)\n",
              "      )\n",
              "      (3): Bottleneck(\n",
              "        (conv1): Conv2d(1024, 512, kernel_size=(1, 1), stride=(1, 1), bias=False)\n",
              "        (bn1): BatchNorm2d(512, eps=1e-05, momentum=0.1, affine=True, track_running_stats=True)\n",
              "        (conv2): Conv2d(512, 512, kernel_size=(3, 3), stride=(1, 1), padding=(1, 1), groups=32, bias=False)\n",
              "        (bn2): BatchNorm2d(512, eps=1e-05, momentum=0.1, affine=True, track_running_stats=True)\n",
              "        (conv3): Conv2d(512, 1024, kernel_size=(1, 1), stride=(1, 1), bias=False)\n",
              "        (bn3): BatchNorm2d(1024, eps=1e-05, momentum=0.1, affine=True, track_running_stats=True)\n",
              "        (relu): ReLU(inplace=True)\n",
              "      )\n",
              "      (4): Bottleneck(\n",
              "        (conv1): Conv2d(1024, 512, kernel_size=(1, 1), stride=(1, 1), bias=False)\n",
              "        (bn1): BatchNorm2d(512, eps=1e-05, momentum=0.1, affine=True, track_running_stats=True)\n",
              "        (conv2): Conv2d(512, 512, kernel_size=(3, 3), stride=(1, 1), padding=(1, 1), groups=32, bias=False)\n",
              "        (bn2): BatchNorm2d(512, eps=1e-05, momentum=0.1, affine=True, track_running_stats=True)\n",
              "        (conv3): Conv2d(512, 1024, kernel_size=(1, 1), stride=(1, 1), bias=False)\n",
              "        (bn3): BatchNorm2d(1024, eps=1e-05, momentum=0.1, affine=True, track_running_stats=True)\n",
              "        (relu): ReLU(inplace=True)\n",
              "      )\n",
              "      (5): Bottleneck(\n",
              "        (conv1): Conv2d(1024, 512, kernel_size=(1, 1), stride=(1, 1), bias=False)\n",
              "        (bn1): BatchNorm2d(512, eps=1e-05, momentum=0.1, affine=True, track_running_stats=True)\n",
              "        (conv2): Conv2d(512, 512, kernel_size=(3, 3), stride=(1, 1), padding=(1, 1), groups=32, bias=False)\n",
              "        (bn2): BatchNorm2d(512, eps=1e-05, momentum=0.1, affine=True, track_running_stats=True)\n",
              "        (conv3): Conv2d(512, 1024, kernel_size=(1, 1), stride=(1, 1), bias=False)\n",
              "        (bn3): BatchNorm2d(1024, eps=1e-05, momentum=0.1, affine=True, track_running_stats=True)\n",
              "        (relu): ReLU(inplace=True)\n",
              "      )\n",
              "    )\n",
              "    (layer4): Sequential(\n",
              "      (0): Bottleneck(\n",
              "        (conv1): Conv2d(1024, 1024, kernel_size=(1, 1), stride=(1, 1), bias=False)\n",
              "        (bn1): BatchNorm2d(1024, eps=1e-05, momentum=0.1, affine=True, track_running_stats=True)\n",
              "        (conv2): Conv2d(1024, 1024, kernel_size=(3, 3), stride=(2, 2), padding=(1, 1), groups=32, bias=False)\n",
              "        (bn2): BatchNorm2d(1024, eps=1e-05, momentum=0.1, affine=True, track_running_stats=True)\n",
              "        (conv3): Conv2d(1024, 2048, kernel_size=(1, 1), stride=(1, 1), bias=False)\n",
              "        (bn3): BatchNorm2d(2048, eps=1e-05, momentum=0.1, affine=True, track_running_stats=True)\n",
              "        (relu): ReLU(inplace=True)\n",
              "        (downsample): Sequential(\n",
              "          (0): Conv2d(1024, 2048, kernel_size=(1, 1), stride=(2, 2), bias=False)\n",
              "          (1): BatchNorm2d(2048, eps=1e-05, momentum=0.1, affine=True, track_running_stats=True)\n",
              "        )\n",
              "      )\n",
              "      (1): Bottleneck(\n",
              "        (conv1): Conv2d(2048, 1024, kernel_size=(1, 1), stride=(1, 1), bias=False)\n",
              "        (bn1): BatchNorm2d(1024, eps=1e-05, momentum=0.1, affine=True, track_running_stats=True)\n",
              "        (conv2): Conv2d(1024, 1024, kernel_size=(3, 3), stride=(1, 1), padding=(1, 1), groups=32, bias=False)\n",
              "        (bn2): BatchNorm2d(1024, eps=1e-05, momentum=0.1, affine=True, track_running_stats=True)\n",
              "        (conv3): Conv2d(1024, 2048, kernel_size=(1, 1), stride=(1, 1), bias=False)\n",
              "        (bn3): BatchNorm2d(2048, eps=1e-05, momentum=0.1, affine=True, track_running_stats=True)\n",
              "        (relu): ReLU(inplace=True)\n",
              "      )\n",
              "      (2): Bottleneck(\n",
              "        (conv1): Conv2d(2048, 1024, kernel_size=(1, 1), stride=(1, 1), bias=False)\n",
              "        (bn1): BatchNorm2d(1024, eps=1e-05, momentum=0.1, affine=True, track_running_stats=True)\n",
              "        (conv2): Conv2d(1024, 1024, kernel_size=(3, 3), stride=(1, 1), padding=(1, 1), groups=32, bias=False)\n",
              "        (bn2): BatchNorm2d(1024, eps=1e-05, momentum=0.1, affine=True, track_running_stats=True)\n",
              "        (conv3): Conv2d(1024, 2048, kernel_size=(1, 1), stride=(1, 1), bias=False)\n",
              "        (bn3): BatchNorm2d(2048, eps=1e-05, momentum=0.1, affine=True, track_running_stats=True)\n",
              "        (relu): ReLU(inplace=True)\n",
              "      )\n",
              "    )\n",
              "    (avgpool): AdaptiveAvgPool2d(output_size=(1, 1))\n",
              "    (fc): Sequential(\n",
              "      (0): Dropout(p=0.2, inplace=False)\n",
              "      (1): Linear(in_features=2048, out_features=30, bias=True)\n",
              "    )\n",
              "  )\n",
              "  (sigm): Sigmoid()\n",
              ")"
            ]
          },
          "metadata": {
            "tags": []
          },
          "execution_count": 21
        }
      ]
    },
    {
      "cell_type": "code",
      "metadata": {
        "id": "dQWMrmE1m2yo"
      },
      "source": [
        "max_epoch_number = 10\n",
        "learning_rate = 1e-3\n",
        "optimizer = torch.optim.Adam(model.parameters(), lr=learning_rate)\n",
        "criterion = nn.BCELoss()"
      ],
      "execution_count": 22,
      "outputs": []
    },
    {
      "cell_type": "code",
      "metadata": {
        "id": "uM3egLtwk776"
      },
      "source": [
        "def checkpoint_save(model, epoch):\n",
        "    f = os.path.join('/content/drive/MyDrive/ml/zalando_checkpoints/', 'checkpoint-{:06d}.pth'.format(epoch))\n",
        "    if 'module' in dir(model):\n",
        "        torch.save(model.module.state_dict(), f)\n",
        "    else:\n",
        "        torch.save(model.state_dict(), f)\n",
        "    print('saved checkpoint:', f)"
      ],
      "execution_count": 23,
      "outputs": []
    },
    {
      "cell_type": "code",
      "metadata": {
        "id": "VAB58yp8kXV4",
        "colab": {
          "base_uri": "https://localhost:8080/"
        },
        "outputId": "3560dad1-3b81-4633-dbbf-cb53cc2bfe05"
      },
      "source": [
        "epoch = 0\n",
        "iteration = 0\n",
        "test_freq = 5\n",
        "save_freq = 1\n",
        "while True:\n",
        "    batch_losses = []\n",
        "    for imgs, targets in dataloaders['train']:\n",
        "        imgs, targets = imgs.to(device), targets.to(device)\n",
        "\n",
        "        optimizer.zero_grad()\n",
        "\n",
        "        model_result = model(imgs)\n",
        "        loss = criterion(model_result, targets.type(torch.float))\n",
        "\n",
        "        batch_loss_value = loss.item()\n",
        "        loss.backward()\n",
        "        optimizer.step()\n",
        "\n",
        "        batch_losses.append(batch_loss_value)\n",
        "\n",
        "        if iteration % test_freq == 0:\n",
        "            model.eval()\n",
        "            with torch.no_grad():\n",
        "                model_result = []\n",
        "                targets = []\n",
        "                for imgs, batch_targets in dataloaders['train']:\n",
        "                    imgs = imgs.to(device)\n",
        "                    model_batch_result = model(imgs)\n",
        "                    model_result.extend(model_batch_result.cpu().numpy())\n",
        "                    targets.extend(batch_targets.cpu().numpy())\n",
        "\n",
        "            result = calculate_metrics(np.array(model_result), np.array(targets))\n",
        "            print(\"epoch:{:2d} iter:{:3d} test: \"\n",
        "                  \"micro f1: {:.3f} \"\n",
        "                  \"macro f1: {:.3f} \"\n",
        "                  \"samples f1: {:.3f}\".format(epoch, iteration,\n",
        "                                              result['micro/f1'],\n",
        "                                              result['macro/f1'],\n",
        "                                              result['samples/f1']))\n",
        "\n",
        "            model.train()\n",
        "        iteration += 1\n",
        "\n",
        "    loss_value = np.mean(batch_losses)\n",
        "    print(\"epoch:{:2d} iter:{:3d} train: loss:{:.3f}\".format(epoch, iteration, loss_value))\n",
        "    if epoch % save_freq == 0:\n",
        "        checkpoint_save(model, epoch)\n",
        "    epoch += 1\n",
        "    if max_epoch_number < epoch:\n",
        "        break\n"
      ],
      "execution_count": 24,
      "outputs": [
        {
          "output_type": "stream",
          "text": [
            "/usr/local/lib/python3.7/dist-packages/torch/utils/data/dataloader.py:477: UserWarning: This DataLoader will create 8 worker processes in total. Our suggested max number of worker in current system is 2, which is smaller than what this DataLoader is going to create. Please be aware that excessive worker creation might get DataLoader running slow or even freeze, lower the worker number to avoid potential slowness/freeze if necessary.\n",
            "  cpuset_checked))\n"
          ],
          "name": "stderr"
        },
        {
          "output_type": "stream",
          "text": [
            "epoch: 0 iter:  0 test: micro f1: 0.247 macro f1: 0.069 samples f1: 0.244\n",
            "epoch: 0 iter:  5 test: micro f1: 0.358 macro f1: 0.113 samples f1: 0.343\n",
            "epoch: 0 iter: 10 test: micro f1: 0.393 macro f1: 0.145 samples f1: 0.381\n",
            "epoch: 0 iter: 15 test: micro f1: 0.318 macro f1: 0.090 samples f1: 0.327\n",
            "epoch: 0 iter: 20 test: micro f1: 0.445 macro f1: 0.242 samples f1: 0.431\n",
            "epoch: 0 iter: 25 test: micro f1: 0.410 macro f1: 0.199 samples f1: 0.383\n",
            "epoch: 0 iter: 30 test: micro f1: 0.406 macro f1: 0.190 samples f1: 0.399\n",
            "epoch: 0 iter: 35 test: micro f1: 0.465 macro f1: 0.244 samples f1: 0.458\n",
            "epoch: 0 iter: 40 test: micro f1: 0.499 macro f1: 0.284 samples f1: 0.494\n",
            "epoch: 0 iter: 45 test: micro f1: 0.475 macro f1: 0.256 samples f1: 0.470\n",
            "epoch: 0 iter: 50 test: micro f1: 0.505 macro f1: 0.264 samples f1: 0.497\n",
            "epoch: 0 iter: 55 test: micro f1: 0.494 macro f1: 0.243 samples f1: 0.492\n",
            "epoch: 0 iter: 60 test: micro f1: 0.494 macro f1: 0.256 samples f1: 0.490\n",
            "epoch: 0 iter: 62 train: loss:0.328\n",
            "saved checkpoint: /content/drive/MyDrive/ml/zalando_checkpoints/checkpoint-000000.pth\n",
            "epoch: 1 iter: 65 test: micro f1: 0.514 macro f1: 0.269 samples f1: 0.511\n",
            "epoch: 1 iter: 70 test: micro f1: 0.519 macro f1: 0.259 samples f1: 0.518\n",
            "epoch: 1 iter: 75 test: micro f1: 0.525 macro f1: 0.309 samples f1: 0.524\n",
            "epoch: 1 iter: 80 test: micro f1: 0.497 macro f1: 0.266 samples f1: 0.491\n",
            "epoch: 1 iter: 85 test: micro f1: 0.549 macro f1: 0.309 samples f1: 0.546\n",
            "epoch: 1 iter: 90 test: micro f1: 0.532 macro f1: 0.305 samples f1: 0.531\n",
            "epoch: 1 iter: 95 test: micro f1: 0.528 macro f1: 0.287 samples f1: 0.522\n",
            "epoch: 1 iter:100 test: micro f1: 0.533 macro f1: 0.307 samples f1: 0.530\n",
            "epoch: 1 iter:105 test: micro f1: 0.536 macro f1: 0.316 samples f1: 0.533\n",
            "epoch: 1 iter:110 test: micro f1: 0.511 macro f1: 0.283 samples f1: 0.509\n",
            "epoch: 1 iter:115 test: micro f1: 0.501 macro f1: 0.288 samples f1: 0.500\n",
            "epoch: 1 iter:120 test: micro f1: 0.531 macro f1: 0.317 samples f1: 0.527\n",
            "epoch: 1 iter:124 train: loss:0.293\n",
            "saved checkpoint: /content/drive/MyDrive/ml/zalando_checkpoints/checkpoint-000001.pth\n",
            "epoch: 2 iter:125 test: micro f1: 0.553 macro f1: 0.314 samples f1: 0.550\n",
            "epoch: 2 iter:130 test: micro f1: 0.539 macro f1: 0.325 samples f1: 0.539\n",
            "epoch: 2 iter:135 test: micro f1: 0.558 macro f1: 0.321 samples f1: 0.559\n",
            "epoch: 2 iter:140 test: micro f1: 0.552 macro f1: 0.299 samples f1: 0.550\n",
            "epoch: 2 iter:145 test: micro f1: 0.549 macro f1: 0.302 samples f1: 0.549\n",
            "epoch: 2 iter:150 test: micro f1: 0.554 macro f1: 0.289 samples f1: 0.549\n",
            "epoch: 2 iter:155 test: micro f1: 0.541 macro f1: 0.316 samples f1: 0.537\n",
            "epoch: 2 iter:160 test: micro f1: 0.543 macro f1: 0.323 samples f1: 0.540\n",
            "epoch: 2 iter:165 test: micro f1: 0.557 macro f1: 0.344 samples f1: 0.554\n",
            "epoch: 2 iter:170 test: micro f1: 0.551 macro f1: 0.330 samples f1: 0.544\n",
            "epoch: 2 iter:175 test: micro f1: 0.563 macro f1: 0.330 samples f1: 0.561\n",
            "epoch: 2 iter:180 test: micro f1: 0.574 macro f1: 0.341 samples f1: 0.573\n",
            "epoch: 2 iter:185 test: micro f1: 0.568 macro f1: 0.325 samples f1: 0.565\n",
            "epoch: 2 iter:186 train: loss:0.282\n",
            "saved checkpoint: /content/drive/MyDrive/ml/zalando_checkpoints/checkpoint-000002.pth\n",
            "epoch: 3 iter:190 test: micro f1: 0.582 macro f1: 0.323 samples f1: 0.581\n",
            "epoch: 3 iter:195 test: micro f1: 0.551 macro f1: 0.338 samples f1: 0.546\n",
            "epoch: 3 iter:200 test: micro f1: 0.581 macro f1: 0.348 samples f1: 0.576\n",
            "epoch: 3 iter:205 test: micro f1: 0.578 macro f1: 0.345 samples f1: 0.576\n",
            "epoch: 3 iter:210 test: micro f1: 0.585 macro f1: 0.341 samples f1: 0.584\n",
            "epoch: 3 iter:215 test: micro f1: 0.570 macro f1: 0.334 samples f1: 0.570\n",
            "epoch: 3 iter:220 test: micro f1: 0.577 macro f1: 0.354 samples f1: 0.574\n",
            "epoch: 3 iter:225 test: micro f1: 0.590 macro f1: 0.348 samples f1: 0.588\n",
            "epoch: 3 iter:230 test: micro f1: 0.557 macro f1: 0.330 samples f1: 0.554\n",
            "epoch: 3 iter:235 test: micro f1: 0.557 macro f1: 0.358 samples f1: 0.554\n",
            "epoch: 3 iter:240 test: micro f1: 0.581 macro f1: 0.355 samples f1: 0.579\n",
            "epoch: 3 iter:245 test: micro f1: 0.588 macro f1: 0.342 samples f1: 0.586\n",
            "epoch: 3 iter:248 train: loss:0.273\n",
            "saved checkpoint: /content/drive/MyDrive/ml/zalando_checkpoints/checkpoint-000003.pth\n",
            "epoch: 4 iter:250 test: micro f1: 0.553 macro f1: 0.330 samples f1: 0.548\n",
            "epoch: 4 iter:255 test: micro f1: 0.585 macro f1: 0.358 samples f1: 0.583\n",
            "epoch: 4 iter:260 test: micro f1: 0.567 macro f1: 0.344 samples f1: 0.563\n",
            "epoch: 4 iter:265 test: micro f1: 0.570 macro f1: 0.340 samples f1: 0.565\n",
            "epoch: 4 iter:270 test: micro f1: 0.587 macro f1: 0.365 samples f1: 0.584\n",
            "epoch: 4 iter:275 test: micro f1: 0.576 macro f1: 0.351 samples f1: 0.574\n",
            "epoch: 4 iter:280 test: micro f1: 0.565 macro f1: 0.356 samples f1: 0.562\n",
            "epoch: 4 iter:285 test: micro f1: 0.603 macro f1: 0.395 samples f1: 0.600\n",
            "epoch: 4 iter:290 test: micro f1: 0.587 macro f1: 0.365 samples f1: 0.584\n",
            "epoch: 4 iter:295 test: micro f1: 0.587 macro f1: 0.344 samples f1: 0.585\n",
            "epoch: 4 iter:300 test: micro f1: 0.593 macro f1: 0.351 samples f1: 0.591\n",
            "epoch: 4 iter:305 test: micro f1: 0.611 macro f1: 0.381 samples f1: 0.608\n",
            "epoch: 4 iter:310 train: loss:0.265\n",
            "saved checkpoint: /content/drive/MyDrive/ml/zalando_checkpoints/checkpoint-000004.pth\n",
            "epoch: 5 iter:310 test: micro f1: 0.594 macro f1: 0.346 samples f1: 0.592\n",
            "epoch: 5 iter:315 test: micro f1: 0.575 macro f1: 0.356 samples f1: 0.571\n",
            "epoch: 5 iter:320 test: micro f1: 0.602 macro f1: 0.370 samples f1: 0.600\n",
            "epoch: 5 iter:325 test: micro f1: 0.619 macro f1: 0.402 samples f1: 0.616\n",
            "epoch: 5 iter:330 test: micro f1: 0.587 macro f1: 0.385 samples f1: 0.584\n",
            "epoch: 5 iter:335 test: micro f1: 0.602 macro f1: 0.364 samples f1: 0.600\n",
            "epoch: 5 iter:340 test: micro f1: 0.583 macro f1: 0.353 samples f1: 0.583\n",
            "epoch: 5 iter:345 test: micro f1: 0.592 macro f1: 0.376 samples f1: 0.588\n",
            "epoch: 5 iter:350 test: micro f1: 0.625 macro f1: 0.409 samples f1: 0.621\n",
            "epoch: 5 iter:355 test: micro f1: 0.621 macro f1: 0.398 samples f1: 0.616\n",
            "epoch: 5 iter:360 test: micro f1: 0.614 macro f1: 0.385 samples f1: 0.610\n",
            "epoch: 5 iter:365 test: micro f1: 0.610 macro f1: 0.391 samples f1: 0.606\n",
            "epoch: 5 iter:370 test: micro f1: 0.619 macro f1: 0.394 samples f1: 0.618\n",
            "epoch: 5 iter:372 train: loss:0.257\n",
            "saved checkpoint: /content/drive/MyDrive/ml/zalando_checkpoints/checkpoint-000005.pth\n",
            "epoch: 6 iter:375 test: micro f1: 0.630 macro f1: 0.405 samples f1: 0.629\n",
            "epoch: 6 iter:380 test: micro f1: 0.616 macro f1: 0.401 samples f1: 0.613\n",
            "epoch: 6 iter:385 test: micro f1: 0.611 macro f1: 0.368 samples f1: 0.608\n",
            "epoch: 6 iter:390 test: micro f1: 0.629 macro f1: 0.411 samples f1: 0.625\n",
            "epoch: 6 iter:395 test: micro f1: 0.628 macro f1: 0.415 samples f1: 0.622\n",
            "epoch: 6 iter:400 test: micro f1: 0.627 macro f1: 0.408 samples f1: 0.624\n",
            "epoch: 6 iter:405 test: micro f1: 0.652 macro f1: 0.442 samples f1: 0.649\n",
            "epoch: 6 iter:410 test: micro f1: 0.642 macro f1: 0.428 samples f1: 0.637\n",
            "epoch: 6 iter:415 test: micro f1: 0.634 macro f1: 0.422 samples f1: 0.632\n",
            "epoch: 6 iter:420 test: micro f1: 0.616 macro f1: 0.391 samples f1: 0.615\n",
            "epoch: 6 iter:425 test: micro f1: 0.625 macro f1: 0.418 samples f1: 0.621\n",
            "epoch: 6 iter:430 test: micro f1: 0.638 macro f1: 0.433 samples f1: 0.634\n",
            "epoch: 6 iter:434 train: loss:0.244\n",
            "saved checkpoint: /content/drive/MyDrive/ml/zalando_checkpoints/checkpoint-000006.pth\n",
            "epoch: 7 iter:435 test: micro f1: 0.616 macro f1: 0.422 samples f1: 0.614\n",
            "epoch: 7 iter:440 test: micro f1: 0.610 macro f1: 0.398 samples f1: 0.608\n",
            "epoch: 7 iter:445 test: micro f1: 0.641 macro f1: 0.434 samples f1: 0.635\n",
            "epoch: 7 iter:450 test: micro f1: 0.639 macro f1: 0.426 samples f1: 0.635\n",
            "epoch: 7 iter:455 test: micro f1: 0.631 macro f1: 0.397 samples f1: 0.627\n",
            "epoch: 7 iter:460 test: micro f1: 0.641 macro f1: 0.419 samples f1: 0.636\n",
            "epoch: 7 iter:465 test: micro f1: 0.656 macro f1: 0.442 samples f1: 0.650\n",
            "epoch: 7 iter:470 test: micro f1: 0.663 macro f1: 0.441 samples f1: 0.660\n",
            "epoch: 7 iter:475 test: micro f1: 0.667 macro f1: 0.471 samples f1: 0.665\n",
            "epoch: 7 iter:480 test: micro f1: 0.663 macro f1: 0.453 samples f1: 0.661\n",
            "epoch: 7 iter:485 test: micro f1: 0.659 macro f1: 0.469 samples f1: 0.657\n",
            "epoch: 7 iter:490 test: micro f1: 0.685 macro f1: 0.486 samples f1: 0.681\n",
            "epoch: 7 iter:495 test: micro f1: 0.673 macro f1: 0.469 samples f1: 0.669\n",
            "epoch: 7 iter:496 train: loss:0.231\n",
            "saved checkpoint: /content/drive/MyDrive/ml/zalando_checkpoints/checkpoint-000007.pth\n",
            "epoch: 8 iter:500 test: micro f1: 0.651 macro f1: 0.438 samples f1: 0.648\n",
            "epoch: 8 iter:505 test: micro f1: 0.661 macro f1: 0.456 samples f1: 0.658\n",
            "epoch: 8 iter:510 test: micro f1: 0.686 macro f1: 0.490 samples f1: 0.682\n",
            "epoch: 8 iter:515 test: micro f1: 0.667 macro f1: 0.459 samples f1: 0.664\n",
            "epoch: 8 iter:520 test: micro f1: 0.699 macro f1: 0.473 samples f1: 0.695\n",
            "epoch: 8 iter:525 test: micro f1: 0.707 macro f1: 0.511 samples f1: 0.703\n",
            "epoch: 8 iter:530 test: micro f1: 0.690 macro f1: 0.501 samples f1: 0.687\n",
            "epoch: 8 iter:535 test: micro f1: 0.687 macro f1: 0.496 samples f1: 0.685\n",
            "epoch: 8 iter:540 test: micro f1: 0.693 macro f1: 0.519 samples f1: 0.691\n",
            "epoch: 8 iter:545 test: micro f1: 0.690 macro f1: 0.478 samples f1: 0.687\n",
            "epoch: 8 iter:550 test: micro f1: 0.704 macro f1: 0.493 samples f1: 0.700\n",
            "epoch: 8 iter:555 test: micro f1: 0.683 macro f1: 0.492 samples f1: 0.678\n",
            "epoch: 8 iter:558 train: loss:0.217\n",
            "saved checkpoint: /content/drive/MyDrive/ml/zalando_checkpoints/checkpoint-000008.pth\n",
            "epoch: 9 iter:560 test: micro f1: 0.697 macro f1: 0.496 samples f1: 0.694\n",
            "epoch: 9 iter:565 test: micro f1: 0.723 macro f1: 0.520 samples f1: 0.719\n",
            "epoch: 9 iter:570 test: micro f1: 0.706 macro f1: 0.528 samples f1: 0.702\n",
            "epoch: 9 iter:575 test: micro f1: 0.709 macro f1: 0.502 samples f1: 0.706\n",
            "epoch: 9 iter:580 test: micro f1: 0.722 macro f1: 0.531 samples f1: 0.719\n",
            "epoch: 9 iter:585 test: micro f1: 0.732 macro f1: 0.552 samples f1: 0.730\n",
            "epoch: 9 iter:590 test: micro f1: 0.727 macro f1: 0.528 samples f1: 0.724\n",
            "epoch: 9 iter:595 test: micro f1: 0.705 macro f1: 0.519 samples f1: 0.701\n",
            "epoch: 9 iter:600 test: micro f1: 0.736 macro f1: 0.550 samples f1: 0.732\n",
            "epoch: 9 iter:605 test: micro f1: 0.728 macro f1: 0.566 samples f1: 0.726\n",
            "epoch: 9 iter:610 test: micro f1: 0.744 macro f1: 0.577 samples f1: 0.742\n",
            "epoch: 9 iter:615 test: micro f1: 0.740 macro f1: 0.565 samples f1: 0.737\n",
            "epoch: 9 iter:620 train: loss:0.199\n",
            "saved checkpoint: /content/drive/MyDrive/ml/zalando_checkpoints/checkpoint-000009.pth\n",
            "epoch:10 iter:620 test: micro f1: 0.743 macro f1: 0.581 samples f1: 0.740\n",
            "epoch:10 iter:625 test: micro f1: 0.698 macro f1: 0.502 samples f1: 0.694\n",
            "epoch:10 iter:630 test: micro f1: 0.746 macro f1: 0.556 samples f1: 0.742\n",
            "epoch:10 iter:635 test: micro f1: 0.756 macro f1: 0.576 samples f1: 0.752\n",
            "epoch:10 iter:640 test: micro f1: 0.731 macro f1: 0.547 samples f1: 0.728\n",
            "epoch:10 iter:645 test: micro f1: 0.753 macro f1: 0.589 samples f1: 0.750\n",
            "epoch:10 iter:650 test: micro f1: 0.781 macro f1: 0.604 samples f1: 0.779\n",
            "epoch:10 iter:655 test: micro f1: 0.775 macro f1: 0.630 samples f1: 0.771\n",
            "epoch:10 iter:660 test: micro f1: 0.776 macro f1: 0.619 samples f1: 0.772\n",
            "epoch:10 iter:665 test: micro f1: 0.771 macro f1: 0.587 samples f1: 0.767\n",
            "epoch:10 iter:670 test: micro f1: 0.769 macro f1: 0.601 samples f1: 0.767\n",
            "epoch:10 iter:675 test: micro f1: 0.759 macro f1: 0.629 samples f1: 0.757\n",
            "epoch:10 iter:680 test: micro f1: 0.779 macro f1: 0.629 samples f1: 0.777\n",
            "epoch:10 iter:682 train: loss:0.177\n",
            "saved checkpoint: /content/drive/MyDrive/ml/zalando_checkpoints/checkpoint-000010.pth\n"
          ],
          "name": "stdout"
        }
      ]
    },
    {
      "cell_type": "code",
      "metadata": {
        "id": "HkvMFUm_4MNi"
      },
      "source": [
        "# checkpoint = torch.load(os.path.join('/content/drive/MyDrive/ml/zalando_checkpoints/', 'checkpoint-{:06d}.pth'.format(10)))\n",
        "# model.load_state_dict(checkpoint)"
      ],
      "execution_count": 25,
      "outputs": []
    },
    {
      "cell_type": "code",
      "metadata": {
        "id": "A7T_Pelf3Le2"
      },
      "source": [
        "def imshow(inputs, title=None):\n",
        "    img = inputs.transpose(1, 2, 0)\n",
        "    mean = np.array([0.5, 0.5, 0.5])\n",
        "    std = np.array([0.5, 0.5, 0.5])\n",
        "    inp = std * inp + mean\n",
        "    inp = np.clip(inp, 0, 1)\n",
        "    plt.imshow(inp)"
      ],
      "execution_count": 26,
      "outputs": []
    },
    {
      "cell_type": "code",
      "metadata": {
        "id": "xHYaOJttjX-W"
      },
      "source": [
        "def visualize_model(model, num_images=6):\n",
        "    was_training = model.training\n",
        "    model.eval()\n",
        "\n",
        "    with torch.no_grad():\n",
        "        for i, (inputs, labels) in enumerate(dataloaders['val']):\n",
        "            inputs = inputs.to(device)\n",
        "            labels = labels.to(device)\n",
        "\n",
        "            outputs = model(inputs)\n",
        "            preds = outputs.cpu()\n",
        "\n",
        "            if preds.numpy() is None:\n",
        "              continue\n",
        "\n",
        "            preds = np.array(preds)[0]\n",
        "            plt.subplot(2, 3, i + 1)\n",
        "            plt.axis('off')\n",
        "\n",
        "            top3 = -np.sort(-preds)[min(2, len(preds)-1)]\n",
        "            preds[preds < top3] = 0\n",
        "            preds[preds >= top3] = 1\n",
        "\n",
        "            tags = mlb.inverse_transform(np.array([preds]))[0][:3]\n",
        "            tags_real = mlb.inverse_transform(np.array([y_test[i]]))[0][:3]\n",
        "            plt.title('Predicted: ' + ', '.join(map(str, tags)) + '\\n' + 'Real: ' + ', '.join(tags_real))\n",
        "            img = np.array(inputs.cpu().data[i])\n",
        "            img = img.transpose(1, 2, 0)\n",
        "            mean = np.array([0.5, 0.5, 0.5])\n",
        "            std = np.array([0.5, 0.5, 0.5])\n",
        "            img = std * img + mean\n",
        "            img = np.clip(img, 0, 1)\n",
        "            plt.imshow(img)\n",
        "\n",
        "            if i >= num_images - 1:\n",
        "                return"
      ],
      "execution_count": 27,
      "outputs": []
    },
    {
      "cell_type": "code",
      "metadata": {
        "id": "6Zzk5J5ljd3c",
        "colab": {
          "base_uri": "https://localhost:8080/",
          "height": 545
        },
        "outputId": "627b6ac8-9264-4358-b472-95721993a89f"
      },
      "source": [
        "fig, ax = plt.subplots(figsize=(12,8))\n",
        "plt.subplots_adjust(hspace=.5, wspace=.5)\n",
        "visualize_model(model)"
      ],
      "execution_count": 28,
      "outputs": [
        {
          "output_type": "stream",
          "text": [
            "/usr/local/lib/python3.7/dist-packages/torch/utils/data/dataloader.py:477: UserWarning: This DataLoader will create 8 worker processes in total. Our suggested max number of worker in current system is 2, which is smaller than what this DataLoader is going to create. Please be aware that excessive worker creation might get DataLoader running slow or even freeze, lower the worker number to avoid potential slowness/freeze if necessary.\n",
            "  cpuset_checked))\n"
          ],
          "name": "stderr"
        },
        {
          "output_type": "display_data",
          "data": {
            "image/png": "[encoded data removed]",
            "text/plain": [
              "<Figure size 864x576 with 6 Axes>"
            ]
          },
          "metadata": {
            "tags": [],
            "needs_background": "light"
          }
        }
      ]
    }
  ]
}